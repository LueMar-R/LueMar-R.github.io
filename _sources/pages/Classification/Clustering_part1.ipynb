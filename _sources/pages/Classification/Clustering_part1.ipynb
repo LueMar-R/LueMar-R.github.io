{
 "cells": [
  {
   "cell_type": "markdown",
   "metadata": {},
   "source": [
    "# Clustering & Réduction de la dimensionnalité"
   ]
  },
  {
   "cell_type": "markdown",
   "metadata": {},
   "source": [
    "Chargez la base de données MNIST depuis le module scikit-learn\n",
    "Transformez le type des labels de string en uint8 en utilisant la fonction astype"
   ]
  },
  {
   "cell_type": "code",
   "execution_count": 126,
   "metadata": {},
   "outputs": [],
   "source": [
    "from sklearn.datasets import fetch_openml\n",
    "import matplotlib.pyplot as plt\n",
    "from sklearn.preprocessing import StandardScaler\n",
    "from sklearn.model_selection import train_test_split\n",
    "from sklearn.cluster import MiniBatchKMeans\n",
    "import numpy as np"
   ]
  },
  {
   "cell_type": "code",
   "execution_count": 118,
   "metadata": {},
   "outputs": [],
   "source": [
    "mnist = fetch_openml('mnist_784', version=1)"
   ]
  },
  {
   "cell_type": "code",
   "execution_count": 119,
   "metadata": {},
   "outputs": [],
   "source": [
    "X = mnist.data\n",
    "y = mnist.target"
   ]
  },
  {
   "cell_type": "code",
   "execution_count": 120,
   "metadata": {},
   "outputs": [
    {
     "data": {
      "text/plain": [
       "array([5, 0, 4, ..., 4, 5, 6], dtype=uint8)"
      ]
     },
     "execution_count": 120,
     "metadata": {},
     "output_type": "execute_result"
    }
   ],
   "source": [
    "y.astype(np.uint8)"
   ]
  },
  {
   "cell_type": "markdown",
   "metadata": {},
   "source": [
    "## 1- Clustering"
   ]
  },
  {
   "cell_type": "markdown",
   "metadata": {},
   "source": [
    "### 1. Créez un code qui partitionne les données en base d’apprentissage (60000) et base de test (10000)."
   ]
  },
  {
   "cell_type": "code",
   "execution_count": 121,
   "metadata": {},
   "outputs": [
    {
     "name": "stdout",
     "output_type": "stream",
     "text": [
      "Training matrix shape (60000, 784)\n",
      "Testing matrix shape (10000, 784)\n"
     ]
    }
   ],
   "source": [
    "X_train, X_test, y_train, y_test = train_test_split(X, y, test_size=0.14285)\n",
    "print(\"Training matrix shape\", X_train.shape)\n",
    "print(\"Testing matrix shape\", X_test.shape)"
   ]
  },
  {
   "cell_type": "markdown",
   "metadata": {},
   "source": [
    "### 2. Créez une figure avec des sous-graphiques 3x3 en utilisant matplotlib.pyplot. \n",
    "Parcourir\n",
    "les sous-graphiques et ajouter les 9 premières images mnist en utilisant matshow() et\n",
    "Afficher le graphique."
   ]
  },
  {
   "cell_type": "code",
   "execution_count": 122,
   "metadata": {},
   "outputs": [
    {
     "data": {
      "image/png": "[encoded data removed]",
      "text/plain": [
       "<Figure size 864x864 with 9 Axes>"
      ]
     },
     "metadata": {
      "needs_background": "light"
     },
     "output_type": "display_data"
    }
   ],
   "source": [
    "fig, axs = plt.subplots(3, 3, figsize = (12, 12))\n",
    "\n",
    "for i, ax in enumerate(axs.flat):\n",
    "    ax.matshow(X_train[i].reshape(28,28), cmap=plt.cm.binary)\n",
    "\n",
    "plt.show()"
   ]
  },
  {
   "cell_type": "markdown",
   "metadata": {},
   "source": [
    "### 3. Les algorithmes de clustering utilisent presque toujours des données unidimensionnelles.\n",
    "Par exemple, si vous regroupiez un ensemble de coordonnées X, Y, chaque point serait\n",
    "passé à l'algorithme de clustering sous la forme d'un vecteur à une dimension d'une\n",
    "longueur de deux (exemple: [2,4] ou [-1, 4] ). MNIST contient des images de taille 28x28\n",
    "pixels; en conséquence, ils auront une longueur de 784 une fois que nous les\n",
    "transformons en un vecteur à une seule dimension. Convertissez chaque image dans les\n",
    "données d’apprentissage en un vecteur d’une seule dimension, normalisez ces données\n",
    "dans un intervalle entre 0 et 1."
   ]
  },
  {
   "cell_type": "code",
   "execution_count": 123,
   "metadata": {},
   "outputs": [],
   "source": [
    "X_train, X_test = X_train/255, X_test/255"
   ]
  },
  {
   "cell_type": "markdown",
   "metadata": {},
   "source": [
    "### 4. Il est temps de commencer le clustering! \n",
    "En raison de la taille du jeu de données MNIST,\n",
    "nous utiliserons l'implémentation mini-batch du clustering k-means fourni par scikit-learn.\n",
    "Cela réduira considérablement le temps nécessaire pour adapter l'algorithme aux\n",
    "données. Créez un code qui permet de faire l’apprentissage sur les données\n",
    "d’entraînement normalisées en utilisant l’objet MiniBatchKMeans du sous module cluster\n",
    "de scikit-learn. Pour le paramètre n_clusters sa valeur est le nombre de classe dans le\n",
    "jeu de données."
   ]
  },
  {
   "cell_type": "code",
   "execution_count": 124,
   "metadata": {},
   "outputs": [],
   "source": [
    "model = MiniBatchKMeans(n_clusters=10)\n",
    "model.fit(X_train)\n",
    "y_pred = model.predict(X)"
   ]
  },
  {
   "cell_type": "markdown",
   "metadata": {},
   "source": [
    "### 5. Le K-means est une méthode d'apprentissage automatique non supervisée; \n",
    "par\n",
    "conséquent, les étiquettes attribuées par notre algorithme KMeans font référence au\n",
    "cluster auquel chaque vecteur a été assigné, et non à l'entier cible réel. Pour résoudre ce\n",
    "problème, définissons quelques fonctions qui prédiront quel entier correspond à chaque\n",
    "cluster :"
   ]
  },
  {
   "cell_type": "markdown",
   "metadata": {},
   "source": [
    "a- Définissez une fonction qui associe le label le plus probable à chaque cluster dans\n",
    "le modèle KMeans et qui renvoie un dictionnaire des clusters assignés à chaque\n",
    "label."
   ]
  },
  {
   "cell_type": "code",
   "execution_count": 125,
   "metadata": {},
   "outputs": [
    {
     "ename": "TypeError",
     "evalue": "Cannot cast array data from dtype('O') to dtype('int64') according to the rule 'safe'",
     "output_type": "error",
     "traceback": [
      "\u001b[1;31m---------------------------------------------------------------------------\u001b[0m",
      "\u001b[1;31mTypeError\u001b[0m                                 Traceback (most recent call last)",
      "\u001b[1;32m<ipython-input-125-8935be7af040>\u001b[0m in \u001b[0;36m<module>\u001b[1;34m\u001b[0m\n\u001b[0;32m     39\u001b[0m \u001b[1;33m\u001b[0m\u001b[0m\n\u001b[0;32m     40\u001b[0m \u001b[1;31m# lancer les fonctions\u001b[0m\u001b[1;33m\u001b[0m\u001b[1;33m\u001b[0m\u001b[1;33m\u001b[0m\u001b[0m\n\u001b[1;32m---> 41\u001b[1;33m \u001b[0mcluster_labels\u001b[0m \u001b[1;33m=\u001b[0m \u001b[0mattrib_labels\u001b[0m\u001b[1;33m(\u001b[0m\u001b[0mmodel\u001b[0m\u001b[1;33m,\u001b[0m \u001b[0my_train\u001b[0m\u001b[1;33m)\u001b[0m\u001b[1;33m\u001b[0m\u001b[1;33m\u001b[0m\u001b[0m\n\u001b[0m\u001b[0;32m     42\u001b[0m \u001b[0mX_clusters\u001b[0m \u001b[1;33m=\u001b[0m \u001b[0mmodel\u001b[0m\u001b[1;33m.\u001b[0m\u001b[0mpredict\u001b[0m\u001b[1;33m(\u001b[0m\u001b[0mX_train\u001b[0m\u001b[1;33m)\u001b[0m\u001b[1;33m\u001b[0m\u001b[1;33m\u001b[0m\u001b[0m\n\u001b[0;32m     43\u001b[0m \u001b[0mpredicted_labels\u001b[0m \u001b[1;33m=\u001b[0m \u001b[0mlabels_data\u001b[0m\u001b[1;33m(\u001b[0m\u001b[0mX_clusters\u001b[0m\u001b[1;33m,\u001b[0m \u001b[0mcluster_labels\u001b[0m\u001b[1;33m)\u001b[0m\u001b[1;33m\u001b[0m\u001b[1;33m\u001b[0m\u001b[0m\n",
      "\u001b[1;32m<ipython-input-125-8935be7af040>\u001b[0m in \u001b[0;36mattrib_labels\u001b[1;34m(model, y)\u001b[0m\n\u001b[0;32m     15\u001b[0m             \u001b[0mcompte\u001b[0m \u001b[1;33m=\u001b[0m \u001b[0mnp\u001b[0m\u001b[1;33m.\u001b[0m\u001b[0mbincount\u001b[0m\u001b[1;33m(\u001b[0m\u001b[0mlabels\u001b[0m\u001b[1;33m[\u001b[0m\u001b[1;36m0\u001b[0m\u001b[1;33m]\u001b[0m\u001b[1;33m)\u001b[0m\u001b[1;33m\u001b[0m\u001b[1;33m\u001b[0m\u001b[0m\n\u001b[0;32m     16\u001b[0m         \u001b[1;32melse\u001b[0m\u001b[1;33m:\u001b[0m\u001b[1;33m\u001b[0m\u001b[1;33m\u001b[0m\u001b[0m\n\u001b[1;32m---> 17\u001b[1;33m             \u001b[0mcompte\u001b[0m \u001b[1;33m=\u001b[0m \u001b[0mnp\u001b[0m\u001b[1;33m.\u001b[0m\u001b[0mbincount\u001b[0m\u001b[1;33m(\u001b[0m\u001b[0mnp\u001b[0m\u001b[1;33m.\u001b[0m\u001b[0msqueeze\u001b[0m\u001b[1;33m(\u001b[0m\u001b[0mlabels\u001b[0m\u001b[1;33m)\u001b[0m\u001b[1;33m)\u001b[0m\u001b[1;33m\u001b[0m\u001b[1;33m\u001b[0m\u001b[0m\n\u001b[0m\u001b[0;32m     18\u001b[0m \u001b[1;33m\u001b[0m\u001b[0m\n\u001b[0;32m     19\u001b[0m         \u001b[1;31m# assigner les clusters à une valeur du dictionnaire\u001b[0m\u001b[1;33m\u001b[0m\u001b[1;33m\u001b[0m\u001b[1;33m\u001b[0m\u001b[0m\n",
      "\u001b[1;32m<__array_function__ internals>\u001b[0m in \u001b[0;36mbincount\u001b[1;34m(*args, **kwargs)\u001b[0m\n",
      "\u001b[1;31mTypeError\u001b[0m: Cannot cast array data from dtype('O') to dtype('int64') according to the rule 'safe'"
     ]
    }
   ],
   "source": [
    "def attrib_labels(model, y):\n",
    "    dico = {}\n",
    "\n",
    "    for i in range(model.n_clusters):\n",
    "\n",
    "        # trouver les index\n",
    "        labels = []\n",
    "        index = np.where(model.labels_ == i)\n",
    "\n",
    "        # rajouter les labels de chaque point du cluster\n",
    "        labels.append(y[index])\n",
    "\n",
    "        # chercher le label le plus courant\n",
    "        if len(labels[0]) == 1:\n",
    "            compte = np.bincount(labels[0])\n",
    "        else:\n",
    "            compte = np.bincount(np.squeeze(labels))\n",
    "\n",
    "        # assigner les clusters à une valeur du dictionnaire\n",
    "        if np.argmax(compte) in dico:\n",
    "            # ajouter le nouveau numéro au array\n",
    "            dico[np.argmax(compte)].append(i)\n",
    "        else:\n",
    "            # créer un nouvel array\n",
    "            dico[np.argmax(compte)] = [i]\n",
    "\n",
    "    return dico\n",
    "\n",
    "def labels_data(X_labels, cluster_labels):\n",
    "  # array vide de longueur: len(X)\n",
    "    pred_label = np.zeros(len(X_labels)).astype(np.uint8)\n",
    "\n",
    "    for i, cluster in enumerate(X_labels):\n",
    "        for key, value in cluster_labels.items():\n",
    "            if cluster in value:\n",
    "                pred_label[i] = key\n",
    "\n",
    "    return pred_label\n",
    "\n",
    "# lancer les fonctions\n",
    "cluster_labels = attrib_labels(model, y_train)\n",
    "X_clusters = model.predict(X_train)\n",
    "predicted_labels = labels_data(X_clusters, cluster_labels)\n",
    "print (predicted_labels[:20])\n",
    "print (y[:20])"
   ]
  },
  {
   "cell_type": "code",
   "execution_count": 101,
   "metadata": {},
   "outputs": [],
   "source": [
    "def attrib_label(modele):\n",
    "    dico ={}\n",
    "    labels = []\n",
    "    for i in range(10): #10 clusters car 10 labels\n",
    "        j = np.where(modele.labels_ == i) #lignes où le numéro de cluster est égal à i\n",
    "        labels.append(y_train[j]) #ajouter à cette liste les vrais chiffres correspondant à ces lignes\n",
    "        print(\">>>>\", y_train[j])\n",
    "        print(\">\", labels[0])\n",
    "  #      if len(labels[0]) == 1:\n",
    "   #         compteur = np.bincount(labels[0])\n",
    "    #        print(compteur)\n",
    "     #   else:\n",
    "        reduit = np.squeeze(labels)\n",
    "        print(reduit)\n",
    "        compteur = np.bincount(reduit)\n",
    "        if np.argmax(compteur) in dico:\n",
    "            dico[np.argmax(compteur)].append(i)\n",
    "        else:\n",
    "            dico[np.argmax(compteur)] = [i]\n",
    "            \n",
    "    return dico"
   ]
  },
  {
   "cell_type": "code",
   "execution_count": 102,
   "metadata": {},
   "outputs": [
    {
     "name": "stdout",
     "output_type": "stream",
     "text": [
      ">>>> ['3' '3' '2' ... '3' '5' '3']\n",
      "> ['3' '3' '2' ... '3' '5' '3']\n",
      "['3' '3' '2' ... '3' '5' '3']\n"
     ]
    },
    {
     "ename": "TypeError",
     "evalue": "Cannot cast array data from dtype('O') to dtype('int64') according to the rule 'safe'",
     "output_type": "error",
     "traceback": [
      "\u001b[1;31m---------------------------------------------------------------------------\u001b[0m",
      "\u001b[1;31mTypeError\u001b[0m                                 Traceback (most recent call last)",
      "\u001b[1;32m<ipython-input-102-7e45095de030>\u001b[0m in \u001b[0;36m<module>\u001b[1;34m\u001b[0m\n\u001b[1;32m----> 1\u001b[1;33m \u001b[0mattrib_label\u001b[0m\u001b[1;33m(\u001b[0m\u001b[0mmodel\u001b[0m\u001b[1;33m)\u001b[0m\u001b[1;33m\u001b[0m\u001b[1;33m\u001b[0m\u001b[0m\n\u001b[0m",
      "\u001b[1;32m<ipython-input-101-d4878bc233a1>\u001b[0m in \u001b[0;36mattrib_label\u001b[1;34m(modele)\u001b[0m\n\u001b[0;32m     13\u001b[0m         \u001b[0mreduit\u001b[0m \u001b[1;33m=\u001b[0m \u001b[0mnp\u001b[0m\u001b[1;33m.\u001b[0m\u001b[0msqueeze\u001b[0m\u001b[1;33m(\u001b[0m\u001b[0mlabels\u001b[0m\u001b[1;33m)\u001b[0m\u001b[1;33m\u001b[0m\u001b[1;33m\u001b[0m\u001b[0m\n\u001b[0;32m     14\u001b[0m         \u001b[0mprint\u001b[0m\u001b[1;33m(\u001b[0m\u001b[0mreduit\u001b[0m\u001b[1;33m)\u001b[0m\u001b[1;33m\u001b[0m\u001b[1;33m\u001b[0m\u001b[0m\n\u001b[1;32m---> 15\u001b[1;33m         \u001b[0mcompteur\u001b[0m \u001b[1;33m=\u001b[0m \u001b[0mnp\u001b[0m\u001b[1;33m.\u001b[0m\u001b[0mbincount\u001b[0m\u001b[1;33m(\u001b[0m\u001b[0mreduit\u001b[0m\u001b[1;33m)\u001b[0m\u001b[1;33m\u001b[0m\u001b[1;33m\u001b[0m\u001b[0m\n\u001b[0m\u001b[0;32m     16\u001b[0m         \u001b[1;32mif\u001b[0m \u001b[0mnp\u001b[0m\u001b[1;33m.\u001b[0m\u001b[0margmax\u001b[0m\u001b[1;33m(\u001b[0m\u001b[0mcompteur\u001b[0m\u001b[1;33m)\u001b[0m \u001b[1;32min\u001b[0m \u001b[0mdico\u001b[0m\u001b[1;33m:\u001b[0m\u001b[1;33m\u001b[0m\u001b[1;33m\u001b[0m\u001b[0m\n\u001b[0;32m     17\u001b[0m             \u001b[0mdico\u001b[0m\u001b[1;33m[\u001b[0m\u001b[0mnp\u001b[0m\u001b[1;33m.\u001b[0m\u001b[0margmax\u001b[0m\u001b[1;33m(\u001b[0m\u001b[0mcompteur\u001b[0m\u001b[1;33m)\u001b[0m\u001b[1;33m]\u001b[0m\u001b[1;33m.\u001b[0m\u001b[0mappend\u001b[0m\u001b[1;33m(\u001b[0m\u001b[0mi\u001b[0m\u001b[1;33m)\u001b[0m\u001b[1;33m\u001b[0m\u001b[1;33m\u001b[0m\u001b[0m\n",
      "\u001b[1;32m<__array_function__ internals>\u001b[0m in \u001b[0;36mbincount\u001b[1;34m(*args, **kwargs)\u001b[0m\n",
      "\u001b[1;31mTypeError\u001b[0m: Cannot cast array data from dtype('O') to dtype('int64') according to the rule 'safe'"
     ]
    }
   ],
   "source": [
    "attrib_label(model)"
   ]
  },
  {
   "cell_type": "markdown",
   "metadata": {},
   "source": [
    "b- Définissez une fonction qui détermine le label de chaque vecteur, en fonction du\n",
    "cluster auquel il a été affecté et qui renvoie les labels prédites pour chaque\n",
    "vecteur."
   ]
  },
  {
   "cell_type": "code",
   "execution_count": null,
   "metadata": {},
   "outputs": [],
   "source": []
  },
  {
   "cell_type": "markdown",
   "metadata": {},
   "source": [
    "### 6. Avec les fonctions définies ci-dessus, nous pouvons maintenant déterminer la précision de nos algorithmes. \n",
    "Puisque nous utilisons cet algorithme de clustering pour la\n",
    "classification, la précision est finalement la métrique la plus importante; cependant, il\n",
    "existe d'autres mesures qui peuvent être appliquées directement aux clusters euxmêmes,\n",
    "quelles que soient les labels associés. Deux de ces métriques que nous\n",
    "utiliserons sont l'inertie et l'homogénéité."
   ]
  },
  {
   "cell_type": "code",
   "execution_count": null,
   "metadata": {},
   "outputs": [],
   "source": []
  },
  {
   "cell_type": "markdown",
   "metadata": {},
   "source": [
    "### 7. De plus, précédemment, nous avons fait l'hypothèse que K = 10 était le nombre approprié de clusters; \n",
    "cependant, ce n'est peut-être pas le cas. Ajustez l'algorithme de clustering Kmeans\n",
    "avec plusieurs valeurs différentes de K (ex : [10, 16, 36, 64, 144, 256]), puis\n",
    "évaluez les performances à l'aide de ces métriques."
   ]
  },
  {
   "cell_type": "code",
   "execution_count": null,
   "metadata": {},
   "outputs": [],
   "source": []
  },
  {
   "cell_type": "markdown",
   "metadata": {},
   "source": [
    "https://github.com/xoraus/K-Means-Clustering-for-Imagery-Analysis/blob/master/KMeans%20Clustering%20for%20Imagery%20Analysis%20(Jupyter%20Notebook).ipynb"
   ]
  }
 ],
 "metadata": {
  "kernelspec": {
   "display_name": "Python 3",
   "language": "python",
   "name": "python3"
  },
  "language_info": {
   "codemirror_mode": {
    "name": "ipython",
    "version": 3
   },
   "file_extension": ".py",
   "mimetype": "text/x-python",
   "name": "python",
   "nbconvert_exporter": "python",
   "pygments_lexer": "ipython3",
   "version": "3.8.3"
  }
 },
 "nbformat": 4,
 "nbformat_minor": 4
}
