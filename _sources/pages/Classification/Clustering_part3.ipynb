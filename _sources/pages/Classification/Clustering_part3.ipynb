{
 "cells": [
  {
   "cell_type": "markdown",
   "metadata": {},
   "source": [
    "# Clustering & Réduction de la dimensionnalité\n",
    "PCA sur les données MNIST"
   ]
  },
  {
   "cell_type": "code",
   "execution_count": 49,
   "metadata": {},
   "outputs": [],
   "source": [
    "from sklearn.datasets import fetch_openml\n",
    "import matplotlib.pyplot as plt\n",
    "from sklearn.preprocessing import StandardScaler\n",
    "from sklearn.cluster import MiniBatchKMeans\n",
    "from sklearn.decomposition import PCA\n",
    "from sklearn.metrics import accuracy_score\n",
    "from sklearn.linear_model import LogisticRegression\n",
    "import numpy as np\n",
    "from sklearn.manifold import TSNE\n",
    "from sklearn.ensemble import RandomForestClassifier\n",
    "import time"
   ]
  },
  {
   "cell_type": "code",
   "execution_count": 6,
   "metadata": {},
   "outputs": [],
   "source": [
    "mnist = fetch_openml('mnist_784', version=1)"
   ]
  },
  {
   "cell_type": "markdown",
   "metadata": {},
   "source": [
    "## 1- Résultats de RandomForest SANS la réduction de la dimensionnalité des données"
   ]
  },
  {
   "cell_type": "markdown",
   "metadata": {},
   "source": [
    "### 15. Divisez la base de données MNIST (originale) en base d'apprentissage et base de test\n",
    "comme suit : Les 60 000 premières images composeront la base d'apprentissage et le\n",
    "reste des images constituera la base de test. Pensez à faire pareil pour les labels aussi."
   ]
  },
  {
   "cell_type": "code",
   "execution_count": 7,
   "metadata": {},
   "outputs": [],
   "source": [
    "X = mnist.data\n",
    "y = mnist.target"
   ]
  },
  {
   "cell_type": "code",
   "execution_count": 8,
   "metadata": {},
   "outputs": [
    {
     "data": {
      "text/plain": [
       "array([5, 0, 4, ..., 4, 5, 6], dtype=uint8)"
      ]
     },
     "execution_count": 8,
     "metadata": {},
     "output_type": "execute_result"
    }
   ],
   "source": [
    "y.astype(np.uint8)"
   ]
  },
  {
   "cell_type": "code",
   "execution_count": 31,
   "metadata": {},
   "outputs": [],
   "source": [
    "X_train, X_test = X[:60000],X[60000:]\n",
    "y_train, y_test = y[:60000],y[60000:]"
   ]
  },
  {
   "cell_type": "markdown",
   "metadata": {},
   "source": [
    "### 16. Appliquez la méthode de classification RandomForest (avec un n_estimators=100) sur les données d'apprentissage \n",
    "tout en calculant le temps d'exécution nécessaire pour\n",
    "l'apprentissage. Pour ce deuxième objectif, calculez :"
   ]
  },
  {
   "cell_type": "markdown",
   "metadata": {},
   "source": [
    "* a. avant l'apprentissage du modèle, le nombre de secondes passé depuis le\n",
    "01/01/1970 en utilisant la fonction \"time()\" du module time"
   ]
  },
  {
   "cell_type": "markdown",
   "metadata": {},
   "source": [
    "* b. après l'apprentissage du modèle, le nombre de secondes passé depuis le\n",
    "01/01/1970 en utilisant la fonction \"time()\" du module time"
   ]
  },
  {
   "cell_type": "code",
   "execution_count": 15,
   "metadata": {},
   "outputs": [],
   "source": [
    "model1 = RandomForestClassifier(n_estimators=100)"
   ]
  },
  {
   "cell_type": "code",
   "execution_count": 22,
   "metadata": {},
   "outputs": [
    {
     "name": "stdout",
     "output_type": "stream",
     "text": [
      "avant 1610007642.82 , après 1610007689.13\n"
     ]
    }
   ],
   "source": [
    "a = time.time()\n",
    "model1.fit(X_train, y_train)\n",
    "b = time.time()\n",
    "print(\"avant\", format(a,\".2f\"), \", après\", format(b,\".2f\"))"
   ]
  },
  {
   "cell_type": "markdown",
   "metadata": {},
   "source": [
    "* c. le temps d'exécution nécessaire pour l'apprentissage an appliquant la différence\n",
    "des résultats de la question 2.a et 2.b. Pensez à n'afficher que 2 chiffres après la\n",
    "virgule en utilisant la méthode \"format()\" (exemple d'utilisation : `format(math.pi, '.2f') # 3.14`)"
   ]
  },
  {
   "cell_type": "code",
   "execution_count": 23,
   "metadata": {},
   "outputs": [
    {
     "name": "stdout",
     "output_type": "stream",
     "text": [
      "Temps d'execution nécessaire pour l'apprentissage : 46.31 secondes\n"
     ]
    }
   ],
   "source": [
    "print(\"Temps d'execution nécessaire pour l'apprentissage :\", format(b-a,\".2f\"), \"secondes\")"
   ]
  },
  {
   "cell_type": "markdown",
   "metadata": {},
   "source": [
    "* d. Évaluez le modèle d'apprentissage sur la base de test en affichant le taux de\n",
    "classification. Pour ce faire :\n",
    "\n",
    "i. prédisez les labels de la base de test\n",
    "\n",
    "ii. utilisez la fonction accuracy_score du sous-module metrics du module\n",
    "sklearn tout en donnant en argument les labels réels de la base de test et\n",
    "les labels prédits"
   ]
  },
  {
   "cell_type": "code",
   "execution_count": 28,
   "metadata": {},
   "outputs": [
    {
     "name": "stdout",
     "output_type": "stream",
     "text": [
      "Score 1 - Random Forest Classifier (100 estimators) : 0.9689\n"
     ]
    }
   ],
   "source": [
    "y_pred1 = model1.predict(X_test)\n",
    "score1 = accuracy_score(y_test, y_pred1)\n",
    "print(\"Score 1 - Random Forest Classifier (100 estimators) :\", score1)"
   ]
  },
  {
   "cell_type": "markdown",
   "metadata": {},
   "source": [
    "## 2- Résultats de RandomForest AVEC la réduction de la dimensionnalité des données"
   ]
  },
  {
   "cell_type": "markdown",
   "metadata": {},
   "source": [
    "### 17. Appliquez la méthode PCA sur la base d'apprentissage avec un variance ratio de 95%"
   ]
  },
  {
   "cell_type": "code",
   "execution_count": 42,
   "metadata": {},
   "outputs": [
    {
     "name": "stdout",
     "output_type": "stream",
     "text": [
      "154\n"
     ]
    }
   ],
   "source": [
    "pca = PCA(n_components=0.95)\n",
    "pca.fit(X_train)\n",
    "print(model2.n_components_)"
   ]
  },
  {
   "cell_type": "code",
   "execution_count": 43,
   "metadata": {},
   "outputs": [],
   "source": [
    "X_red2 = pca.transform(X_train)"
   ]
  },
  {
   "cell_type": "markdown",
   "metadata": {},
   "source": [
    "### 18. Appliquez à nouveau la méthode de classification RandomForest sur les donnéesd'apprentissage réduites \n",
    "(après l'application du PCA) tout en calculant le temps\n",
    "d'exécution nécessaire pour l'apprentissage. Le temps d'apprentissage est plus rapide\n",
    "que celui du II-1 ? C'est le résultat attendu ?"
   ]
  },
  {
   "cell_type": "code",
   "execution_count": 44,
   "metadata": {},
   "outputs": [
    {
     "name": "stdout",
     "output_type": "stream",
     "text": [
      "Temps nécessaire pour l'apprentissage après PCA : 107.68 secondes\n"
     ]
    }
   ],
   "source": [
    "a = time.time()\n",
    "model1.fit(X_red2, y_train)\n",
    "b = time.time()\n",
    "print(\"Temps nécessaire pour l'apprentissage après PCA :\", format(b-a,\".2f\"), \"secondes\")"
   ]
  },
  {
   "cell_type": "raw",
   "metadata": {},
   "source": [
    "Le temps d'apprentissage après PCA est deux fois plus long qu'avec les données brutes. "
   ]
  },
  {
   "cell_type": "markdown",
   "metadata": {},
   "source": [
    "### 19. Appliquez la méthode PCA sur la base de test avec un variance ratio de 95% \n",
    "(utilisez la\n",
    "fonction transform et non pas fit_trannsform)"
   ]
  },
  {
   "cell_type": "code",
   "execution_count": 46,
   "metadata": {},
   "outputs": [],
   "source": [
    "X_test_red2 = pca.transform(X_test)"
   ]
  },
  {
   "cell_type": "markdown",
   "metadata": {},
   "source": [
    "### 20. Évaluez le modèle d'apprentissage sur la base de test en affichant le taux de classification. \n",
    "Comparez le résultat avec celui de la III-1."
   ]
  },
  {
   "cell_type": "code",
   "execution_count": 48,
   "metadata": {},
   "outputs": [
    {
     "name": "stdout",
     "output_type": "stream",
     "text": [
      "Score 2 - Random Forest Classifier (100 estimators) : 0.9491\n"
     ]
    }
   ],
   "source": [
    "y_pred2 = model1.predict(X_test_red2)\n",
    "score2 = accuracy_score(y_test, y_pred2)\n",
    "print(\"Score 2 - Random Forest Classifier (100 estimators) :\", score2)"
   ]
  },
  {
   "cell_type": "raw",
   "metadata": {},
   "source": [
    "Le résultat avec les données réduites est moins bon qu'avec les données brutes."
   ]
  },
  {
   "cell_type": "markdown",
   "metadata": {},
   "source": [
    "### 21. L'application du PCA sur les données MNIST était fructueuse pour le temps d'apprentissage et le taux de classification dans le cas de RandomForest ?"
   ]
  },
  {
   "cell_type": "raw",
   "metadata": {},
   "source": [
    "On voit donc que le choix du PCA n'est pas cohérent lorsque l'on souhaite utiliser un random forest classifier."
   ]
  },
  {
   "cell_type": "markdown",
   "metadata": {},
   "source": [
    "_______________________________________"
   ]
  },
  {
   "cell_type": "markdown",
   "metadata": {},
   "source": [
    "## 3- Résultats de Softmax SANS la réduction de la dimensionnalité des données"
   ]
  },
  {
   "cell_type": "markdown",
   "metadata": {},
   "source": [
    "### 22. Appliquez la méthode de classification LogisticRegression sur les données d'apprentissage tout en calculant le temps d'exécution nécessaire pour l'apprentissage."
   ]
  },
  {
   "cell_type": "code",
   "execution_count": 81,
   "metadata": {},
   "outputs": [],
   "source": [
    "model3 = LogisticRegression(max_iter=90)"
   ]
  },
  {
   "cell_type": "code",
   "execution_count": 82,
   "metadata": {},
   "outputs": [
    {
     "name": "stdout",
     "output_type": "stream",
     "text": [
      "Temps nécessaire pour l'apprentissage après PCA : 15.57 secondes\n"
     ]
    },
    {
     "name": "stderr",
     "output_type": "stream",
     "text": [
      "C:\\Users\\utilisateur\\anaconda3\\lib\\site-packages\\sklearn\\linear_model\\_logistic.py:762: ConvergenceWarning: lbfgs failed to converge (status=1):\n",
      "STOP: TOTAL NO. of ITERATIONS REACHED LIMIT.\n",
      "\n",
      "Increase the number of iterations (max_iter) or scale the data as shown in:\n",
      "    https://scikit-learn.org/stable/modules/preprocessing.html\n",
      "Please also refer to the documentation for alternative solver options:\n",
      "    https://scikit-learn.org/stable/modules/linear_model.html#logistic-regression\n",
      "  n_iter_i = _check_optimize_result(\n"
     ]
    }
   ],
   "source": [
    "a = time.time()\n",
    "model3.fit(X_train, y_train)\n",
    "b = time.time()\n",
    "print(\"Temps nécessaire pour l'apprentissage après PCA :\", format(b-a,\".2f\"), \"secondes\")"
   ]
  },
  {
   "cell_type": "markdown",
   "metadata": {},
   "source": [
    "### 23. Évaluez le modèle d'apprentissage sur la base de test en affichant le taux de classification"
   ]
  },
  {
   "cell_type": "code",
   "execution_count": 83,
   "metadata": {},
   "outputs": [
    {
     "name": "stdout",
     "output_type": "stream",
     "text": [
      "Score 3 - Logistic Regression : 0.9233\n"
     ]
    }
   ],
   "source": [
    "y_pred3 = model3.predict(X_test)\n",
    "score3 = accuracy_score(y_test, y_pred3)\n",
    "print(\"Score 3 - Logistic Regression :\", score3)"
   ]
  },
  {
   "cell_type": "markdown",
   "metadata": {},
   "source": [
    "## 4- Résultats de Softmax AVEC la réduction de la dimensionnalité des données"
   ]
  },
  {
   "cell_type": "markdown",
   "metadata": {},
   "source": [
    "### 24. Appliquez à nouveau la méthode de classification LogisticRegression sur les données d'apprentissage réduites (après l'application du PCA) \n",
    "tout en calculant le temps\n",
    "d'exécution nécessaire pour l'apprentissage. Le temps d'apprentissage est plus rapide\n",
    "que celui du III-3 ?"
   ]
  },
  {
   "cell_type": "code",
   "execution_count": 84,
   "metadata": {},
   "outputs": [],
   "source": [
    "pca4 = PCA(n_components=0.95)\n",
    "pca4.fit(X_train)\n",
    "X_red4 = pca4.transform(X_train)"
   ]
  },
  {
   "cell_type": "code",
   "execution_count": 85,
   "metadata": {},
   "outputs": [
    {
     "name": "stdout",
     "output_type": "stream",
     "text": [
      "Temps nécessaire pour l'apprentissage après PCA : 6.19 secondes\n"
     ]
    },
    {
     "name": "stderr",
     "output_type": "stream",
     "text": [
      "C:\\Users\\utilisateur\\anaconda3\\lib\\site-packages\\sklearn\\linear_model\\_logistic.py:762: ConvergenceWarning: lbfgs failed to converge (status=1):\n",
      "STOP: TOTAL NO. of ITERATIONS REACHED LIMIT.\n",
      "\n",
      "Increase the number of iterations (max_iter) or scale the data as shown in:\n",
      "    https://scikit-learn.org/stable/modules/preprocessing.html\n",
      "Please also refer to the documentation for alternative solver options:\n",
      "    https://scikit-learn.org/stable/modules/linear_model.html#logistic-regression\n",
      "  n_iter_i = _check_optimize_result(\n"
     ]
    }
   ],
   "source": [
    "a = time.time()\n",
    "model3.fit(X_red4, y_train)\n",
    "b = time.time()\n",
    "print(\"Temps nécessaire pour l'apprentissage après PCA :\", format(b-a,\".2f\"), \"secondes\")"
   ]
  },
  {
   "cell_type": "markdown",
   "metadata": {},
   "source": [
    "### 25. Appliquez la méthode PCA sur la base de test avec un variance ratio de 95% \n",
    "(utilisez la\n",
    "fonction transform et non pas fit_transform)"
   ]
  },
  {
   "cell_type": "code",
   "execution_count": 86,
   "metadata": {},
   "outputs": [],
   "source": [
    "X_test_red4 = pca4.transform(X_test)"
   ]
  },
  {
   "cell_type": "markdown",
   "metadata": {},
   "source": [
    "### 26. Évaluez le modèle d'apprentissage sur la base de test en affichant le taux de classification. \n",
    "Comparez le résultat avec celui de la III-3."
   ]
  },
  {
   "cell_type": "code",
   "execution_count": 87,
   "metadata": {},
   "outputs": [
    {
     "name": "stdout",
     "output_type": "stream",
     "text": [
      "Score 4 - Logistic Regression après PCA : 0.9203\n"
     ]
    }
   ],
   "source": [
    "y_pred4 = model3.predict(X_test_red4)\n",
    "score4 = accuracy_score(y_test, y_pred4)\n",
    "print(\"Score 4 - Logistic Regression après PCA :\", score4)"
   ]
  },
  {
   "cell_type": "markdown",
   "metadata": {},
   "source": [
    "### 27. L'application du PCA sur les données MNIST était fructueuse pour le temps d'apprentissage et le taux de classification dans le cas de Softmax ?"
   ]
  },
  {
   "cell_type": "raw",
   "metadata": {},
   "source": [
    "Si les résultats ne sont pas vraiment meilleurs après PCA, le temps de calcul est par contre divisé par 2. Il peut donc être intéressant d'utiliser le PCA lors d'une régression logistique."
   ]
  }
 ],
 "metadata": {
  "kernelspec": {
   "display_name": "Python 3",
   "language": "python",
   "name": "python3"
  },
  "language_info": {
   "codemirror_mode": {
    "name": "ipython",
    "version": 3
   },
   "file_extension": ".py",
   "mimetype": "text/x-python",
   "name": "python",
   "nbconvert_exporter": "python",
   "pygments_lexer": "ipython3",
   "version": "3.8.3"
  }
 },
 "nbformat": 4,
 "nbformat_minor": 4
}
