{
 "cells": [
  {
   "cell_type": "markdown",
   "metadata": {},
   "source": [
    "# Kata POO\n",
    "\n",
    "Voici quelques exercices pour vous entrainnez sur la création et la manipulation des classes."
   ]
  },
  {
   "cell_type": "markdown",
   "metadata": {},
   "source": [
    "## Exercice 1\n",
    "\n",
    "Créer une classe personne avec un nom, un prénom et une adresse. Créez une instance d’objet de personne et afficher son nom, son prénom et son adresse."
   ]
  },
  {
   "cell_type": "code",
   "execution_count": 38,
   "metadata": {},
   "outputs": [
    {
     "name": "stdout",
     "output_type": "stream",
     "text": [
      "Rick Sanchez Miniverse\n"
     ]
    }
   ],
   "source": [
    "class Personne:\n",
    "    def __init__(self) :\n",
    "        self.nom = \"Sanchez\"\n",
    "        self.prenom = \"Rick\"\n",
    "        self.adresse = \"Miniverse\"\n",
    "\n",
    "def main():\n",
    "    quelquun = Personne()\n",
    "    print(quelquun.prenom, quelquun.nom, quelquun.adresse)\n",
    "\n",
    "main()"
   ]
  },
  {
   "cell_type": "markdown",
   "metadata": {},
   "source": [
    "## Exercice 2\n",
    "\n",
    "Écrivez une classe représentant une ville. Elle a pour variables nom et département et une méthode affichant « la ville X est dans le département Y ». Créez des objets ville ( Nantes dans La Loire Atlantique, Lyon dans le Rhône et Brest dans le Finistère), affectez leurs variables, et utilisez la méthode d’affichage. "
   ]
  },
  {
   "cell_type": "code",
   "execution_count": 9,
   "metadata": {},
   "outputs": [
    {
     "data": {
      "text/plain": [
       "'La ville de Nantes est dans le département Loire-Atlantique '"
      ]
     },
     "execution_count": 9,
     "metadata": {},
     "output_type": "execute_result"
    }
   ],
   "source": [
    "class Ville:\n",
    "    def __init__(self, nom, dpt):\n",
    "        self.nom = nom\n",
    "        self.dpt = dpt\n",
    "    \n",
    "    def decrire(self):\n",
    "        return f\"La ville de {self.nom} est dans le département {self.dpt} \"\n",
    "    \n",
    "\n",
    "a = Ville(\"Nantes\", \"Loire-Atlantique\")\n",
    "b = Ville(\"Brest\", \"Finistère\")\n",
    "c = Ville(\"Lyon\", \"Rhône\")\n",
    "    \n",
    "a.decrire()\n",
    " \n",
    "\n",
    "\n"
   ]
  },
  {
   "cell_type": "markdown",
   "metadata": {},
   "source": [
    "## Exercice 3\n",
    "\n",
    "Modifiez la classe précédente en la dotant d’un constructeur. Réalisez les mêmes opérations de création d’objets et d’affichage. "
   ]
  },
  {
   "cell_type": "code",
   "execution_count": 21,
   "metadata": {},
   "outputs": [
    {
     "name": "stdout",
     "output_type": "stream",
     "text": [
      "La ville de 44000 Nantes est dans le département Loire-Atlantique\n",
      "La ville de 69000 Brest est dans le département Finistère\n",
      "La ville de 29200 Lyon est dans le département Rhône\n"
     ]
    }
   ],
   "source": [
    "class Ville:\n",
    "    def __init__(self, nom, dpt, cp):\n",
    "        self.nom = nom\n",
    "        self.dpt = dpt\n",
    "        self.cp = cp\n",
    "    \n",
    "    def ecrire(self):\n",
    "        return \"La ville de \" + self.cp + \" \" +self.nom + \" est dans le département \" + self.dpt\n",
    "    \n",
    "    \n",
    "def main():\n",
    "    villes = [Ville(\"Nantes\", \"Loire-Atlantique\", \"44000\"), Ville(\"Brest\", \"Finistère\", \"69000\"),\n",
    "              Ville(\"Lyon\", \"Rhône\", \"29200\")]\n",
    "    for ville in villes :\n",
    "        print(ville.ecrire())\n",
    "main()  \n",
    "\n"
   ]
  },
  {
   "cell_type": "markdown",
   "metadata": {},
   "source": [
    "## Exercice 4\n",
    "\n",
    "Ajoutez une variable code postal à initialiser dans le constructeur par un passage de paramètre. Créez une liste de villes (en reprenant les 3 exemples précédent).\n",
    "\n",
    "Afficher, à partir de la liste, toutes les villes."
   ]
  },
  {
   "cell_type": "code",
   "execution_count": 25,
   "metadata": {},
   "outputs": [
    {
     "name": "stdout",
     "output_type": "stream",
     "text": [
      "CP :29200\n",
      "La ville de 29200 Brest est dans le département Finistère\n"
     ]
    }
   ],
   "source": [
    "class Ville:\n",
    "    def __init__(self, nom, dpt, cp):\n",
    "        self.nom = nom\n",
    "        self.dpt = dpt\n",
    "        self.cp = cp\n",
    "    \n",
    "    def ecrire(self):\n",
    "        return \"La ville de \" + self.cp + \" \" +self.nom + \" est dans le département \" + self.dpt\n",
    "    \n",
    "    \n",
    "def main():\n",
    "    code=input(\"CP :\")\n",
    "    villes = { \"44000\" : Ville(\"Nantes\", \"Loire-Atlantique\", \"44000\"), \n",
    "              \"29200\" : Ville(\"Brest\", \"Finistère\", \"29200\"),\n",
    "              \"69000\" : Ville(\"Lyon\", \"Rhône\", \"69000\")}\n",
    "    ville_a_imprimer = villes[code]\n",
    "    print(ville_a_imprimer.ecrire())\n",
    "main()  \n"
   ]
  },
  {
   "cell_type": "markdown",
   "metadata": {},
   "source": [
    "## Exercice 5\n",
    "\n",
    "Ajouter du code dans l’exercice précédent pour que lorsqu’on tape le code postal d’une ville, on affiche la ville correspondant et son département."
   ]
  },
  {
   "cell_type": "code",
   "execution_count": 62,
   "metadata": {},
   "outputs": [
    {
     "name": "stdout",
     "output_type": "stream",
     "text": [
      "La ville de Nantes est dans le département de Loire Atlantique\n",
      "La ville de Lyon est dans le département de Rhône\n",
      "La ville de Brest est dans le département de Finistère\n"
     ]
    }
   ],
   "source": [
    "class Ville:\n",
    "    def __init__(self, **infos):\n",
    "        for nom, departement in infos.items():\n",
    "            self.nom = nom\n",
    "            self.departement = departement\n",
    "            self.phrase = self.affichage()\n",
    "            \n",
    "    def affichage(self):\n",
    "        return \"La ville de \" + self.nom + \" est dans le département de \" + self.departement\n",
    "    \n",
    "    def __str__(self):\n",
    "        return self.phrase\n",
    "            \n",
    "\n",
    "def main():\n",
    "    donnees=[{\"Nantes\": \"Loire Atlantique\"}, {\"Lyon\" : \"Rhône\"}, {\"Brest\" : \"Finistère\"}]\n",
    "    for i in donnees :\n",
    "        print(Ville(**i))\n",
    "    \n",
    "main()"
   ]
  },
  {
   "cell_type": "code",
   "execution_count": null,
   "metadata": {},
   "outputs": [],
   "source": []
  },
  {
   "cell_type": "markdown",
   "metadata": {},
   "source": [
    "## Exercice 6\n",
    "\n",
    "Créez la classe Vehicule avec les variables suivantes : nombre_roue, nombre_place, couleur, marque, nom, prix_dollard, prix_euro. \n",
    "\n",
    "Cette classe contient un constructeur qui initialise les 5 premières variables (toutes sauf les prix) grâce à des paramètres. Puis créez une méthode ayant pour paramètre prix qui définit le prix du véhicule en euros (variable prix_euro de l'objet) et une méthode prix_euro_vers_dollar permettant de définir la variable prix_dollar de l'objet. Pensez aussi à une méthode pour afficher toutes les variables (dollars et euros incluses). \n",
    "\n",
    "Dans le programme principal, instanciez la classe correspondante (objet avec les paramètres suivants : 4, 5, \"vert\", \"Renault\", \"Mégane\"). Appelez la définition du prix du véhicule en lui fournissant la valeur suivante : 164 000. \n",
    "\n",
    "Appelez la méthode de conversion de prix. Afficher la description du véhicule. "
   ]
  },
  {
   "cell_type": "code",
   "execution_count": null,
   "metadata": {},
   "outputs": [],
   "source": [
    "class Vehicule:\n",
    "    def __init__(self, int1, int2, str1, str2, str3):\n",
    "        self.nombre_roue = int1\n",
    "        self.nombre_place = int2\n",
    "        self.couleur = str1\n",
    "        self.marque = str2\n",
    "        self.nom = str3\n",
    "        self.prix_dollar = self.prix_euro_dollar()\n",
    "        self.prix_euro = self.fixer_prix()\n",
    "    \n",
    "    def fixer_prix(self, prix_fix):\n",
    "        return self.prix_fix\n",
    "    \n",
    "    def prix_euro_dollar(self):\n",
    "        return self.prix_euro * 1.19\n",
    "    \n",
    "    def __str__(self)\n",
    "\n",
    "def main():\n",
    "    \n",
    "        \n",
    "        "
   ]
  },
  {
   "cell_type": "markdown",
   "metadata": {},
   "source": [
    "## Exercice 7\n",
    "\n",
    "A partir de l'exercice précédant, créez une liste concession. Ce tableau doit contenir l'objet mégane que vous avez déjà créé. Y ajouter la voiture suivante : une citroen Picasso, grise, 7 places à 21000 €. \n",
    "\n",
    "Ecrire le code qui permet d'afficher la description de toutes les voitures de la concession. "
   ]
  },
  {
   "cell_type": "code",
   "execution_count": null,
   "metadata": {},
   "outputs": [],
   "source": []
  },
  {
   "cell_type": "markdown",
   "metadata": {},
   "source": [
    "## Exercice 8\n",
    "\n",
    "Dans votre IDE, refaire le code précédent en créant un fichier véhicule.py. Il ne contient que le code de la classe. Le reste du code est dans un autre fichier Python. Faites fonctionner votre projet avec ces 2 fichiers."
   ]
  }
 ],
 "metadata": {
  "kernelspec": {
   "display_name": "Python 3",
   "language": "python",
   "name": "python3"
  },
  "language_info": {
   "codemirror_mode": {
    "name": "ipython",
    "version": 3
   },
   "file_extension": ".py",
   "mimetype": "text/x-python",
   "name": "python",
   "nbconvert_exporter": "python",
   "pygments_lexer": "ipython3",
   "version": "3.8.3"
  }
 },
 "nbformat": 4,
 "nbformat_minor": 4
}
