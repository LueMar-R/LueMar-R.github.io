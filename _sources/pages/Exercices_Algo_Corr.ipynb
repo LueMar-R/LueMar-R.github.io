{
 "cells": [
  {
   "cell_type": "markdown",
   "metadata": {},
   "source": [
    "<h1><center> Exercice pour apprendre l'Algorithme</center></h1>"
   ]
  },
  {
   "cell_type": "markdown",
   "metadata": {},
   "source": [
    "## Exercice 1\n",
    "\n",
    "Quelles seront les valeurs des variables A et B après exécution des instructions suivantes ?<br/>\n",
    "\n",
    "VAR <br/>\n",
    "A , B : entiers <br/>\n",
    "DEBUT <br/>\n",
    "A← 1 <br/>\n",
    "B← A+4 <br/>\n",
    "A← 4<br/>\n",
    "FIN "
   ]
  },
  {
   "cell_type": "raw",
   "metadata": {},
   "source": [
    "A=4\n",
    "B=5"
   ]
  },
  {
   "cell_type": "markdown",
   "metadata": {},
   "source": [
    "## Exercice 2\n",
    "\n",
    "Quelles sont les valeurs de A et B à la fin du code suivant ? Adaptez l’algorithme pour échanger les valeurs de A et B.\n",
    "\n",
    "VAR <br/>\n",
    "A , B : entiers <br/>\n",
    "DEBUT <br/>\n",
    "A← 1 <br/>\n",
    "B← 3 <br/>\n",
    "A← B <br/>\n",
    "B← A <br/>\n",
    "FIN"
   ]
  },
  {
   "cell_type": "raw",
   "metadata": {},
   "source": [
    "A=3\n",
    "B=3"
   ]
  },
  {
   "cell_type": "markdown",
   "metadata": {},
   "source": [
    "## Exercice 3\n",
    "\n",
    "Qu’affiche l’algorithme suivant ?\n",
    "\n",
    "VAR <br/>\n",
    "A , B : chaîne <br/>\n",
    "DEBUT  <br/>\n",
    "A← \"12\" <br/>\n",
    "B← \"34\" <br/>\n",
    "Afficher A+B <br/>\n",
    "FIN "
   ]
  },
  {
   "cell_type": "raw",
   "metadata": {},
   "source": [
    "\"1234\""
   ]
  },
  {
   "cell_type": "markdown",
   "metadata": {},
   "source": [
    "## Exercice 4\n",
    "\n",
    "Ecrire un algorithme qui demande à l’utilisateur un nombre compris entre 2 et 7 jusqu’à ce\n",
    "que la réponse convienne."
   ]
  },
  {
   "cell_type": "raw",
   "metadata": {},
   "source": [
    "VAR\n",
    "N: entier\n",
    "Debut\n",
    "N ← 0\n",
    "Ecrire \"Entrez un nombre entre 2 et 7\"\n",
    "TantQue N < 2 ou N > 7\n",
    "  Lire N\n",
    "    Si N < 2 ou N > 2 Alors\n",
    "      Ecrire \"Saisie erronée. Recommencez”\n",
    "    FinSi\n",
    "FinTantQue\n",
    "Fin"
   ]
  },
  {
   "cell_type": "markdown",
   "metadata": {},
   "source": [
    "##  Exercice 5\n",
    "\n",
    "Ecrire un algorithme qui demande un nombre compris entre 9 et 18, jusqu’à ce que la\n",
    "réponse convienne. Si la réponse est supérieure à 18, on affichera un message : « Plus\n",
    "petit !», et inversement, « Plus grand ! » si le nombre est inférieur à 9."
   ]
  },
  {
   "cell_type": "raw",
   "metadata": {},
   "source": [
    "VAR\n",
    "N: entier\n",
    "Debut\n",
    "N ← 0\n",
    "Ecrire \"Entrez un nombre entre 9 et 18\"\n",
    "TantQue N < 9 ou N > 18 \n",
    "  Lire N\n",
    "  Si N < 9 Alors\n",
    "    Ecrire \"Plus grand !\"\n",
    "  SinonSi N > 18 Alors\n",
    "    Ecrire \"Plus petit !\"\n",
    "  FinSi\n",
    "FinTantQue\n",
    "Fin"
   ]
  },
  {
   "cell_type": "markdown",
   "metadata": {},
   "source": [
    "##  Exercice 6\n",
    "\n",
    "Ecrire un algorithme qui demande à l'utilisateur un nombre de départ, ensuite il affiche les dix nombres\n",
    "suivants. Par exemple, si l'utilisateur entre le nombre 8, le programme affichera les nombres\n",
    "de 9 à 18."
   ]
  },
  {
   "cell_type": "raw",
   "metadata": {},
   "source": [
    "VAR\n",
    "N, i : Entier\n",
    "Debut\n",
    "Ecrire \"Entrez un nombre : \"\n",
    "Lire N\n",
    "Stop ← N+10\n",
    "Ecrire \"Les 10 nombres suivants sont : \"\n",
    "TantQue N <= Stop Faire\n",
    "   N ← N+1\n",
    "   Ecrire N\n",
    "FinTantQue\n",
    "Fin"
   ]
  },
  {
   "cell_type": "markdown",
   "metadata": {},
   "source": [
    "##  Exercice 7\n",
    "\n",
    "Écrire, avec des comparaisons, un algorithme qui lira au clavier les heures et les minutes, et qui affichera l’heure qu’il sera une minute plus tard. Par exemple, si l’utilisateur tape 20 puis 33, l’algorithme doit répondre :<br/><br/>\n",
    "\n",
    "<center>\"Dans une minute il sera 20 heure(s) 34 minute(s).\"</center><br/>\n",
    "\n",
    "NB : on suppose que l’utilisateur entre une heure valide.<br/>\n",
    "&nbsp;&nbsp;&nbsp;&nbsp; &nbsp;&nbsp; on va prendre en considération le cas où on a 59 minute(s) et 23 heure(s)."
   ]
  },
  {
   "cell_type": "raw",
   "metadata": {},
   "source": [
    "VAR \n",
    "h, m : Entier\n",
    "Debut\n",
    "Ecrire \"Ecrire Heure: \"\n",
    "Lire h\n",
    "Ecrire \"Ecrire Minute: \"\n",
    "Lire m\n",
    "Si m=59 Alors\n",
    "   Si h=23 alors\n",
    "      h ← 0\n",
    "   Sinon\n",
    "      h ← h+1\n",
    "   m ← 0\n",
    "Sinon\n",
    "   m ← m+1\n",
    "FinSi\n",
    "Ecrire \"Dans une minute il sera \", h, \"heure(s) \", m ,\"minute(s).\"\n",
    "Fin"
   ]
  },
  {
   "cell_type": "markdown",
   "metadata": {},
   "source": [
    "##  Exercice 8\n",
    "\n",
    "Écrire un algorithme qui détermine la catégorie sportive d’un utilisateur en fonction de son âge :<br/>\n",
    "\n",
    "18 à 19 ans : junior<br/>\n",
    "\n",
    "20 à 22 ans : espoir<br/>\n",
    "\n",
    "23 à 39 ans : sénior<br/>\n",
    "\n",
    "40 ans et plus : vétéran"
   ]
  },
  {
   "cell_type": "raw",
   "metadata": {},
   "source": [
    "VAR\n",
    "age : Entier\n",
    "Debut\n",
    "Ecrire \"Donner l'age: \"\n",
    "Lire age\n",
    "Si age >= 18 et age <= 19 Alors\n",
    "   Ecrire \"junior\"\n",
    "SinonSi age >= 20 et age <= 22 Alors\n",
    "   Ecrire \"espoir\"\n",
    "SinonSi age >= 23 et age <= 39 Alors\n",
    "   Ecrire \"sénior\"\n",
    "SinonSi age >= 40 Alors\n",
    "   Ecrire \"vétéran\"\n",
    "FinSi\n",
    "Fin"
   ]
  },
  {
   "cell_type": "markdown",
   "metadata": {},
   "source": [
    "##  Exercice 9\n",
    "\n",
    "Ecrire un algorithme qui demande un nombre de départ, et qui calcule la somme des entiers\n",
    "jusqu’à ce nombre. Par exemple, si l’on entre 5, le programme doit calculer :<br/><br/>\n",
    "1 + 2 + 3 + 4 + 5 = 15<br/> <br/>\n",
    "NB : on souhaite afficher uniquement le résultat, pas la décomposition du calcul."
   ]
  },
  {
   "cell_type": "raw",
   "metadata": {},
   "source": [
    "VAR\n",
    "N , somme : Entier\n",
    "Debut\n",
    "Ecrire \"Donner la valeur de N: \"\n",
    "Lire N\n",
    "i ← 1\n",
    "somme ← 0\n",
    "TantQue i <= N\n",
    "  somme ← somme + i\n",
    "  i ← i+1\n",
    "FinTantQue\n",
    "Ecrire somme\n",
    "Fin"
   ]
  },
  {
   "cell_type": "markdown",
   "metadata": {},
   "source": [
    "##  Exercice 10\n",
    "\n",
    "Ecrire un algorithme qui demande un nombre de départ, et qui ensuite écrit la table de\n",
    "multiplication de ce nombre, présentée comme suit (cas où l'utilisateur entre le nombre 7) :<br/> <br/>\n",
    "Table de 7 :<br/>\n",
    "7 x 1 = 7<br/>\n",
    "7 x 2 = 14<br/>\n",
    "7 x 3 = 21<br/>\n",
    "...<br/>\n",
    "7 x 10 = 70<br/>"
   ]
  },
  {
   "cell_type": "raw",
   "metadata": {},
   "source": [
    "VAR\n",
    "N , P , i: Entier\n",
    "Debut\n",
    "Ecrire \"Donner la valeur de N: \"\n",
    "Lire N\n",
    "i ← 1\n",
    "TantQue i <= 10\n",
    "  P ← N * i\n",
    "  Ecrire N,\"x\",i,\"=\",P\n",
    "  i ← i+1\n",
    "FinTantQue\n",
    "Fin"
   ]
  },
  {
   "cell_type": "markdown",
   "metadata": {},
   "source": [
    "##  Exercice 11\n",
    "\n",
    "Écrire un algorithme qui demande un nombre de départ, et qui affiche ensuite la factorielle de ce nombre. Exemple avec le nombre 7 :<br/>\n",
    "\n",
    "1 x 2 x 3 x 4 x 5 x 6 x 7 = 5040<br/>\n",
    "\n",
    "Écrire l’algorithme avec la boucle Pour puis avec la boucle Tant Que."
   ]
  },
  {
   "cell_type": "raw",
   "metadata": {},
   "source": [
    "VAR\n",
    "N , F , i: Entier\n",
    "Debut\n",
    "Ecrire \"Donner la valeur de N: \"\n",
    "Lire N\n",
    "i ← 1\n",
    "F ← 1\n",
    "TantQue i <= N\n",
    "  F ← F * i\n",
    "  i ← i+1\n",
    "FinTantQue\n",
    "Ecrire F\n",
    "Fin"
   ]
  },
  {
   "cell_type": "markdown",
   "metadata": {},
   "source": [
    "##  Exercice 12\n",
    "\n",
    "Ecrire un algorithme permettant  de saisir 5 réelles au clavier,les stocker dans un tableau, calculer leur somme et les afficher avec leur somme à l’ecran."
   ]
  },
  {
   "cell_type": "raw",
   "metadata": {},
   "source": [
    "VAR\n",
    "V : tableau [1..5] de réels ;\n",
    "S :  réel ;\n",
    "i :entier;\n",
    "\n",
    "Debut\n",
    "\n",
    "(*lecture  des élements  du tableau*)\n",
    "Pour i ←  1 à 5\n",
    "   Ecrire \"entrer un element\"\n",
    "   Lire V[i]\n",
    "Finpour\n",
    "\n",
    "(*calcul de la somme des élements du tableau *)\n",
    "S ← 0 \n",
    "Pour i ←  1 à 5\n",
    "     S ←  S + V[i] \n",
    "Finpour\n",
    "\n",
    "(*afficher des éléments du tableau *)\n",
    "Pour i ← 1 à 5\n",
    "   Ecrire \"l’element  N° \",i, \"est : \",V[i]\n",
    "Finpour \n",
    "Ecrire \"la somme des éléments du tableau est :\",S"
   ]
  },
  {
   "cell_type": "markdown",
   "metadata": {},
   "source": [
    "##  Exercice 13\n",
    "\n",
    "Ecrire les algorithmes permettant :\n",
    "\n",
    "1. Le calcul du nombre d’occurences d’un élément donné dans un tableau.\n",
    "2. Le calcul de la moyenne et du minimum des ´el´ements d’un tableau.\n",
    "3. De tester si un tableau est trié."
   ]
  },
  {
   "cell_type": "raw",
   "metadata": {},
   "source": [
    "1.\n",
    "\n",
    "VAR\n",
    "taille,i,nb_occ : entiers\n",
    "T: Tableau d'entiers\n",
    "Debut\n",
    "nb_occ ←  0\n",
    "Pour i ←  1 à taille\n",
    "    Si T[i] = X Alors \n",
    "     nb_occ ←  nb_occ + 1\n",
    "    Finsi\n",
    "Finpour\n",
    "Ecrire \"Le nombre d'occurence est :\", nb_occ\n",
    "Fin\n",
    "\n",
    "2.\n",
    "\n",
    "Somme\n",
    "*****\n",
    "VAR\n",
    "taille, somme, i: entiers\n",
    "T: Tableau d'entiers\n",
    "moyenne : réel\n",
    "Debut\n",
    "somme ← 0\n",
    "Pour i ← 1 à taille\n",
    " somme ← somme + T[i]\n",
    "Finpour\n",
    "moyenne ← somme/N\n",
    "Ecrire \"Le moyennee est :\", moyenne\n",
    "------------------------------\n",
    "Minimum\n",
    "*******\n",
    "VAR\n",
    "taille, min, i: entiers\n",
    "T: Tableau d'entiers\n",
    "Debut\n",
    "min ← T[1]\n",
    "Pour i ← 2 à taille\n",
    "    Si T[i]<min Alors \n",
    "       min ← T[i]\n",
    "    Finsi\n",
    "Finpour\n",
    "Ecrire \"Le min est :\", min\n",
    "\n",
    "3.\n",
    "\n",
    "VAR\n",
    "taille, i: entiers\n",
    "T: Tableau d'entiers\n",
    "est_trie: Booleen\n",
    "Debut\n",
    "i ← 1\n",
    "TantQue i < taille ET T[i] <= T[i+1]\n",
    "    i ← i + 1\n",
    "FinTantQue\n",
    "est_trie ← (i = N)\n",
    "Ecrire est_trie\n",
    "Fin\n"
   ]
  }
 ],
 "metadata": {
  "kernelspec": {
   "display_name": "Python 3",
   "language": "python",
   "name": "python3"
  },
  "language_info": {
   "codemirror_mode": {
    "name": "ipython",
    "version": 3
   },
   "file_extension": ".py",
   "mimetype": "text/x-python",
   "name": "python",
   "nbconvert_exporter": "python",
   "pygments_lexer": "ipython3",
   "version": "3.8.3"
  }
 },
 "nbformat": 4,
 "nbformat_minor": 4
}
