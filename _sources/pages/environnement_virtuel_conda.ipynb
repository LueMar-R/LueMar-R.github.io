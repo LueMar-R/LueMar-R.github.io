{
 "cells": [
  {
   "cell_type": "markdown",
   "metadata": {},
   "source": [
    "# Environnement Virtuel Conda"
   ]
  },
  {
   "cell_type": "markdown",
   "metadata": {},
   "source": [
    "## Créer un environnement virtuel avec Anaconda Prompt\n",
    "\n",
    "### Créer un environnement\n",
    "\n",
    "`conda create --name <envname> python=<version>`\n",
    "    \n",
    "\n",
    "### Exemple avec Python 3.6\n",
    "\n",
    "\n",
    "### Exemple avec Python 3.7\n",
    "\n"
   ]
  },
  {
   "cell_type": "markdown",
   "metadata": {},
   "source": []
  },
  {
   "cell_type": "markdown",
   "metadata": {},
   "source": [
    "## Environnements Conda\n",
    "\n",
    "Il y a dans le dossier d’installation un dossier `envs`. Créer un environnement consiste simplement à créer un dossier dans `envs`, qui contiendra la même structure que le dossier principal (avec un dossier `bin`, `lib`…). Par défaut, une bibliothèque installée dans un environnement est donc inaccessible à python (car présente dans un dossier dans lequel le python ne va pas chercher).\n",
    "\n",
    "Lorsque qu’un environnement est activé, la commande `python` est redirigée vers le dossier de l’environnement, un script redéfinit les dossiers dans lesquels python devra chercher des bibliothèques, lui donnant ainsi accès aux bibliothèques de l’environnement (mais lui enlevant l’accès des bibliothèques de conda en dehors de l’environnement pour éviter les incompatibilités).\n",
    "\n",
    "### Lister les environnements installés dans Anaconda\n",
    "\n",
    "`conda info --envs # forme courte : -e`\n",
    "ou\n",
    "`conda env list`\n",
    "\n",
    "### Créer un environnement\n",
    "\n",
    "`conda create --name nom_environnement python=numero_de_version`\n",
    "\n",
    "Pour activer cet environnement :\n",
    "\n",
    "`conda activate nom_environnement`\n",
    "\n",
    "Pour désactiver :\n",
    "\n",
    "`conda deactivate`\n",
    "\n",
    "## Installer un package\n",
    "\n",
    "`conda install --name nom_environnement [package]`\n",
    "ou\n",
    "`pip install -n nom_environnement [package]`"
   ]
  },
  {
   "cell_type": "markdown",
   "metadata": {},
   "source": [
    "![listerEnvironnements](..\\images\\liste_enviro.png)\n",
    "![creerEnvironnements](..\\images\\crea_enviro.png)"
   ]
  },
  {
   "cell_type": "markdown",
   "metadata": {},
   "source": [
    "## Fichiers YAML (.yml)\n",
    "\n",
    "### Qu'est ce qu'un fichier YAML (.yml)\n",
    "\n",
    "YAML est un format de représentation de données par sérialisation Unicode. Son objet est de représenter des informations plus élaborées que le simple CSV en gardant cependant une lisibilité presque comparable, et bien plus grande en tout cas que du XML. (source : Wikipédia)\n",
    "\n",
    "Un fichier YAML permet de lire et d'écrire des données indépendamment du langage de programmation. Ainsi, les fichiers YML peuvent être utilisés avec de nombreux autres fichiers contenant du code source écrit via différents langages tels que C, C#, C++, Java, PHP, etc.\n",
    "\n",
    "### Créer un environnement à partir d'un fichier YAML (.yml)\n",
    "\n",
    "Ligne de commande pour créer un environnement Conda à partir d'un fichier YAML (.yml) :\n",
    "\n",
    "`conda env create --file mon_enviro.yml`\n",
    "\n",
    "L'environnement sera installé dans leur chemin d'environnement conda par défaut. Pour spécifier un chemin d'installation différent du chemin par défaut (non lié au préfixe dans l'environnement.yml), on utilise le drapeau `-p` suivi du chemin requis :\n",
    "\n",
    "`conda env create -f mon_enviro.yml -p /home/user/anaconda3/envs/env_name`\n",
    "\n",
    "### exporter un environnement en .yml\n",
    "\n",
    "`conda export ` a completer"
   ]
  },
  {
   "cell_type": "markdown",
   "metadata": {},
   "source": [
    "## Anaconda Prompt\n",
    "\n",
    "Pour exécuper un script Python à partir d'Anaconda Pompt, il est d'abord nécessaire de ce placer dans le bon répertoire. On navique dnas les répertoire à l'aide de la commande `cd`, on en affiche le contenu avec la commande `dir`.\n",
    "\n",
    "Une fois dans le répertoire choisi, on entre la commande :<br>\n",
    "`python nom_du_script.py`<br>\n",
    "ou<br>\n",
    "`py nom_du_script.py`<br>\n",
    "\n",
    "cela lancera le script avec la version de python par défaut. Pour spécifier le numero de version avec lequel éxecuter le script :<br>\n",
    "`python2 nom_du_script.py`<br>\n",
    "`python3 nom_du_script.py`<br>"
   ]
  },
  {
   "cell_type": "markdown",
   "metadata": {},
   "source": [
    "## Fichiers BATCH (.bat)\n",
    "\n",
    "Les fichiers .bat sont des fichiers texte exécutables qui permettent de concevoir des scripts qui seront interprétés par le shell (l'interpréteur de commandes). Ces scripts DOS sont couramment utilisés pour faire des taches de maintenance (listing, suppression de fichiers etc.).\n",
    "\n",
    "### activer un environnement lancer un fichier python à partir d’un fichier .bat \n",
    "\n",
    "On peut regrouper les commandes vues ci-dessus pour créer un fichier Batch qui commande l'activation d'un environnement et le lancement d'un fichier python :"
   ]
  },
  {
   "cell_type": "code",
   "execution_count": null,
   "metadata": {},
   "outputs": [],
   "source": []
  }
 ],
 "metadata": {
  "kernelspec": {
   "display_name": "Python 3",
   "language": "python",
   "name": "python3"
  },
  "language_info": {
   "codemirror_mode": {
    "name": "ipython",
    "version": 3
   },
   "file_extension": ".py",
   "mimetype": "text/x-python",
   "name": "python",
   "nbconvert_exporter": "python",
   "pygments_lexer": "ipython3",
   "version": "3.8.3"
  }
 },
 "nbformat": 4,
 "nbformat_minor": 4
}
