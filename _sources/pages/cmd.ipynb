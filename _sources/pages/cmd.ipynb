{
 "cells": [
  {
   "cell_type": "markdown",
   "metadata": {},
   "source": [
    "# Commandes DOS"
   ]
  },
  {
   "cell_type": "markdown",
   "metadata": {},
   "source": [
    "## Quelques commandes\n",
    "\n",
    "Voici quelques commandes DOS très utilisées :\n",
    "- `dir`: liste le contenu du répertoire \n",
    "- `cd <path>`: se déplace à path. Pour remonter au répertoire parent, c'est `cd..`\n",
    "- `md <nom rep>`ou `mkdir <nom rep>`: création d'un nouveau répertoire\n",
    "- `rd <nom rep>`ou `<rmdir <nom rep>`: supprime un répertoire vide\n",
    "- `fsutil file createnew test.md 1024`: création d'un fichier vide, mais d'une taille définie en octet\n",
    "- `echo {\"cells\":[], \"metadata\":{}, \"nbformat\":4, \"nbformat_minor\":2} > monty.ipynb`: création d'un fichier avec du contenu\n",
    "- `del <nom fic>`: supprime un fichier. Attention, c'est définitif, le fichier n'est pas mis à la corbeille\n",
    "- `cls`: efface tous le texte dans le terminal\n",
    "- `exit`: quitte le terminal\n",
    "\n",
    "Voir aussi la [Documentation officielle](https://docs.microsoft.com/fr-fr/windows-server/administration/windowscommands/windows-commands)\n"
   ]
  },
  {
   "cell_type": "markdown",
   "metadata": {},
   "source": [
    "## Fichier batch\n",
    "\n",
    "Fichier qui contient des commandes DOS, qu'il est possible d'exécuter en cliquant dessus ou écrivant le nom\n",
    "du fichier, tout simplement, dans le terminal.\n",
    "\n",
    "Exemple avec _kata.bat_ :<br>\n",
    "`echo créer un nouveau répertoire\n",
    "md atelier\n",
    "cd atelier\n",
    "echo ajout du notebook\n",
    "echo {\"cells\":[], \"metadata\":{}, \"nbformat\":4, \"nbformat_minor\":2} > monty.ipynb\n",
    "echo ouverture de Jupyter\n",
    "jupyter notebook`"
   ]
  },
  {
   "cell_type": "markdown",
   "metadata": {},
   "source": [
    "## Avec Python\n",
    "\n",
    "Il existe un gestionnaire de package Python : _Pypi_.\n",
    "\n",
    "![PythonPackageIndex](https://pypi.org/static/images/logo-large.72ad8bf1.svg)\n",
    "\n",
    "installer un package se fait en ligne de commande :<br>\n",
    "`pip install -U jupyter-book`\n",
    "\n",
    "Il est aussi possible d'ouvrir Jupyter Notebook d'un répertoire voulu, grâce à cette commande :<br>\n",
    "`jupyter notebook`"
   ]
  },
  {
   "cell_type": "code",
   "execution_count": null,
   "metadata": {},
   "outputs": [],
   "source": []
  }
 ],
 "metadata": {
  "kernelspec": {
   "display_name": "Python 3",
   "language": "python",
   "name": "python3"
  },
  "language_info": {
   "codemirror_mode": {
    "name": "ipython",
    "version": 3
   },
   "file_extension": ".py",
   "mimetype": "text/x-python",
   "name": "python",
   "nbconvert_exporter": "python",
   "pygments_lexer": "ipython3",
   "version": "3.8.3"
  }
 },
 "nbformat": 4,
 "nbformat_minor": 2
}
