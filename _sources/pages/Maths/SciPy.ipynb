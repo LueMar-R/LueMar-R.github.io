{
 "cells": [
  {
   "cell_type": "markdown",
   "metadata": {},
   "source": [
    "# SciPy"
   ]
  },
  {
   "cell_type": "markdown",
   "metadata": {},
   "source": [
    "SOMMAIRE :\n",
    "- Définition<br>\n",
    "- Statistiques à 1 échantillon<br>\n",
    "-- Statistiques descriptives <br>\n",
    "–- Calcul des seuils et des probabilités critiques<br>\n",
    "–- Test d’adéquation à la loi normale (ou autre)<br>\n",
    "–- Génération de nombres aléatoires - Echantillonnage (loi normale, loi exponentielle)<br>\n",
    "–- Test de conformité à un standard – Test de Student<br>\n",
    "- Statistiques à 2 vecteurs<br>\n",
    "–- Comparaison de populations<br>\n",
    "–- Mesures d’association<br>\n",
    "- Statistiques à k vecteurs (k>2)<br>\n",
    "–- Classification automatique<br>"
   ]
  },
  {
   "cell_type": "markdown",
   "metadata": {},
   "source": [
    "## Définition\n",
    "SciPy est un projet visant à unifier et fédérer un ensemble de bibliothèques Python à usage scientifique. Il est construit sur la base de numpy et utilise des tableaux comme structure de données de base.<br>\n",
    "Il contient par notamment des modules pour l'optimisation, l'algèbre linéaire, les statistiques, le traitement du signal ou encore le traitement d'images. "
   ]
  },
  {
   "cell_type": "markdown",
   "metadata": {},
   "source": [
    "## Statistiques à un échantillon"
   ]
  },
  {
   "cell_type": "markdown",
   "metadata": {},
   "source": [
    "### Statistiques descriptives\n",
    "Le module 'stats' de la bibliothèque SciPy est utilisé pour les fonctions statistiques.\n",
    "\n",
    "la fonction 'describe' sert à appliquer les méthodes de statistiques descriptives à un échantillon donné. Elle renvoie les statistiques suivantes :\n",
    "- nobs : nombre d'observations dans l'échantillon\n",
    "- min : minimum\n",
    "- max : maximum\n",
    "- mean : moyenne\n",
    "- variance : mesure de la dispersion de des valeurs de l'échantillon (distribution de probabilité)\n",
    "- skewness : mesure de l'asymétrie de la distribution d'une variable aléatoire réelle\n",
    "- kurtosis : coefficient d'apatissement"
   ]
  },
  {
   "cell_type": "code",
   "execution_count": 2,
   "metadata": {},
   "outputs": [],
   "source": [
    "# on importe le module stats de la bibliothèque scipy\n",
    "import scipy.stats as stat\n",
    "import numpy as np\n",
    "import matplotlib.pyplot as plt"
   ]
  },
  {
   "cell_type": "code",
   "execution_count": 3,
   "metadata": {},
   "outputs": [],
   "source": [
    "# prennons un échantillon de valeurs e, correspondant aux notes d'une classe de 20 étudiants\n",
    "e = [19, 2, 10.5, 10, 8.5, 12.5, 7, 4, 8.5, 8, 14, 19, 7, 7, 9, 5.5, 12.5, 16, 5, 6]"
   ]
  },
  {
   "cell_type": "code",
   "execution_count": 4,
   "metadata": {
    "scrolled": true
   },
   "outputs": [
    {
     "name": "stdout",
     "output_type": "stream",
     "text": [
      "DescribeResult(nobs=20, minmax=(2.0, 19.0), mean=9.55, variance=22.128947368421052, skewness=0.640079599669288, kurtosis=-0.3509423906490974)\n"
     ]
    }
   ],
   "source": [
    "description = stat.describe(e)\n",
    "print(description)"
   ]
  },
  {
   "cell_type": "code",
   "execution_count": 5,
   "metadata": {},
   "outputs": [
    {
     "name": "stdout",
     "output_type": "stream",
     "text": [
      "moyenne = 9.55\n",
      "moyenne = 9.55\n",
      "moyenne = 9.55\n"
     ]
    }
   ],
   "source": [
    "#on peut obtenir l'un des éléments par indice\n",
    "print(\"moyenne =\", description[2])\n",
    "#par nom\n",
    "print(\"moyenne =\", description.mean) \n",
    "\n",
    "# ce qui équivaut à np.mean(x)\n",
    "print(\"moyenne =\", np.mean(e))"
   ]
  },
  {
   "cell_type": "code",
   "execution_count": 6,
   "metadata": {},
   "outputs": [
    {
     "name": "stdout",
     "output_type": "stream",
     "text": [
      "nombre d'observations : 20 - moyenne : 9.55\n"
     ]
    }
   ],
   "source": [
    "#possiblité d'éclater les résultats avec une affectation multiple\n",
    "n,mm,m,v,sk,kt= stat.describe(e)\n",
    "print(\"nombre d'observations :\", n, \"- moyenne :\", m)"
   ]
  },
  {
   "cell_type": "markdown",
   "metadata": {},
   "source": [
    "### Calcul des seuils et des probabilités critiques\n",
    "Ces calculs servent à obtenir les valeurs des quantiles et des fonctions de répartition pour différentes lois statistiques utilisées pour l’inférence.\n",
    "Ils permettent notamment la construction d'intervalles de confiance.\n",
    "\n",
    "Les principales méthodes de calculs de seuils pour les variables aléatoires continues sont :\n",
    "- pdf : (Probability Density Function) : fonction de densité de probabilité\n",
    "- cdf : (Cumulative Distribution Function) : fonction de distribution cumulative\n",
    "- ppf : (Percent Point Function, = 1 / CDF) : fonction quantile\n",
    "\n",
    "Voici quelques exemples avec les lois de probabilité les plus utilisées :"
   ]
  },
  {
   "cell_type": "code",
   "execution_count": 7,
   "metadata": {},
   "outputs": [
    {
     "name": "stdout",
     "output_type": "stream",
     "text": [
      "1.6448536269514722\n",
      "0.9750021048517795\n"
     ]
    }
   ],
   "source": [
    "#loi normale centrée réduite\n",
    "print(stat.norm.ppf(0.95,loc=0,scale=1)) # quantile d’ordre 0.95 de la loi normale d'espérance 0 et de variance 1 \n",
    "print(stat.norm.cdf(1.96,loc=0,scale=1)) "
   ]
  },
  {
   "cell_type": "code",
   "execution_count": 8,
   "metadata": {},
   "outputs": [
    {
     "data": {
      "text/plain": [
       "[<matplotlib.lines.Line2D at 0x25ef0b5bbe0>]"
      ]
     },
     "execution_count": 8,
     "metadata": {},
     "output_type": "execute_result"
    },
    {
     "data": {
      "image/png": "[encoded data removed]",
      "text/plain": [
       "<Figure size 432x288 with 1 Axes>"
      ]
     },
     "metadata": {
      "needs_background": "light"
     },
     "output_type": "display_data"
    }
   ],
   "source": [
    "x = np.arange(0, 2, 0.01);\n",
    "y1 = stat.norm.ppf(x,loc=0,scale=1)\n",
    "y2 = stat.norm.ppf(x,loc=0,scale=0.5)\n",
    "y3 = stat.norm.ppf(x,loc=3,scale=1)\n",
    "\n",
    "plt.plot(x, y1)\n",
    "plt.plot(x, y2)\n",
    "plt.plot(x, y3)"
   ]
  },
  {
   "cell_type": "code",
   "execution_count": 9,
   "metadata": {},
   "outputs": [
    {
     "name": "stdout",
     "output_type": "stream",
     "text": [
      "1.6972608943617378\n",
      "0.9703288435519748\n"
     ]
    }
   ],
   "source": [
    "#loi de Student-ddl= 30\n",
    "print(stat.t.ppf(0.95,df=30)) \n",
    "print(stat.t.cdf(1.96,df=30))\n"
   ]
  },
  {
   "cell_type": "code",
   "execution_count": 11,
   "metadata": {},
   "outputs": [
    {
     "name": "stdout",
     "output_type": "stream",
     "text": [
      "4.278672463892877\n",
      "0.9907199233490717\n"
     ]
    }
   ],
   "source": [
    "#loi du khi-2 -ddl= 10\n",
    "print(stat.chi.ppf(0.95,df=10))\n",
    "print(stat.chi.cdf(4.84,df=10))"
   ]
  },
  {
   "cell_type": "code",
   "execution_count": 12,
   "metadata": {},
   "outputs": [
    {
     "name": "stdout",
     "output_type": "stream",
     "text": [
      "4.170876785766691\n",
      "0.9280786614651921\n"
     ]
    }
   ],
   "source": [
    "#loi de Fisher, ddl numérateur = 1, ddl dénominateur = 30\n",
    "print(stat.f.ppf(0.95,dfn=1,dfd=30))\n",
    "print(stat.f.cdf(3.48,dfn=1,dfd=30))"
   ]
  },
  {
   "cell_type": "markdown",
   "metadata": {},
   "source": [
    "### Test d’adéquation à la loi normale\n",
    "Les tests de normalité permettent de vérifier que la distribution des données est compatible avec la loi Normale (Gauss). On cherche ici simplement à vérifer l'adéquation à la loi normale, non à déterminer une loi de distribution. \n",
    "\n",
    "Le test de D'Agostino ou test du K² de D'Agostino est basé sur les coefficients d'asymétrie et d'aplatissement. Lorsque ces deux indicateurs diffèrent simultanément de la valeur de référence 0, on conclut que la distribution empirique n'est pas compatible avec la loi normale. L'enjeu est de construire une combinaison efficace de ces indicateurs. <br>\n",
    "La fonction 'normaltest' de SciPy retourne une statistique de test et un seuil critique (p-value). Si p-value < α, on rejette de l’hypothèse de normalité.\n",
    "\n",
    "Le test d'Anderson-Darling est un test de normalité de l'échantillon statistique. Permet de détecter l'écart par rapport à la normalité des valeurs maximales et minimales d'une distribution. Il est le plus indiqué dans la phase d'évaluation des données précédant la mise en oeuvre d'un test paramétrique(comparaison de moyenne, de variances, etc.) <br>\n",
    "La fonction \"anderson\" renvoie une statistique de test, et des seuils critiques pour chaque niveau de risque. \n",
    "\n",
    "Le test de Shapiro est plus fiable que les deux précédents sur des échantillons réduits. \n",
    "\n"
   ]
  },
  {
   "cell_type": "code",
   "execution_count": 13,
   "metadata": {},
   "outputs": [],
   "source": [
    "#prennons un nouvel échantillon d, plus pertinent pour les tests d'adéquation\n",
    "d=[0.553,0.57,0.576,0.601,0.606,0.606,0.609,0.611,0.615,0.628,0.654,0.662,0.668,0.67,0.672,0.69,0.693,0.749]"
   ]
  },
  {
   "cell_type": "code",
   "execution_count": 14,
   "metadata": {},
   "outputs": [
    {
     "name": "stdout",
     "output_type": "stream",
     "text": [
      "NormaltestResult(statistic=0.7143907939185827, pvalue=0.699635777674135)\n"
     ]
    },
    {
     "name": "stderr",
     "output_type": "stream",
     "text": [
      "C:\\Users\\utilisateur\\anaconda3\\lib\\site-packages\\scipy\\stats\\stats.py:1603: UserWarning: kurtosistest only valid for n>=20 ... continuing anyway, n=18\n",
      "  warnings.warn(\"kurtosistest only valid for n>=20 ... continuing \"\n"
     ]
    }
   ],
   "source": [
    "#test de normalité d'Agostino\n",
    "ag = stat.normaltest(d) # message d’avertissement, le nombre de valeurs est trop faible pour un test fiable\n",
    "print(ag)"
   ]
  },
  {
   "cell_type": "code",
   "execution_count": 15,
   "metadata": {},
   "outputs": [
    {
     "name": "stdout",
     "output_type": "stream",
     "text": [
      "AndersonResult(statistic=0.34029632368620355, critical_values=array([0.503, 0.573, 0.687, 0.802, 0.954]), significance_level=array([15. , 10. ,  5. ,  2.5,  1. ]))\n"
     ]
    }
   ],
   "source": [
    "# test de Normalité d'Anderson\n",
    "ad = stat.anderson(d,dist=\"norm\") # nb : le test possible pour autre loi que «norm»\n",
    "print(ad)"
   ]
  },
  {
   "cell_type": "code",
   "execution_count": 16,
   "metadata": {},
   "outputs": [
    {
     "name": "stdout",
     "output_type": "stream",
     "text": [
      "ShapiroResult(statistic=0.9613385200500488, pvalue=0.627672016620636)\n"
     ]
    }
   ],
   "source": [
    "#test de Normalité Shapiro-Wilks\n",
    "sp= stat.shapiro(d)\n",
    "print(sp)"
   ]
  },
  {
   "cell_type": "markdown",
   "metadata": {},
   "source": [
    "### Génération de nombres aléatoires - Echantillonnage (loi normale, loi exponentielle)\n",
    "L'objectif est de disposer d’un générateur de nombres aléatoires permet de réaliser des simulations ou d’accéder à des techniques basées sur le ré-échantillonnage (bootstrap, etc.)"
   ]
  },
  {
   "cell_type": "code",
   "execution_count": 17,
   "metadata": {},
   "outputs": [
    {
     "name": "stdout",
     "output_type": "stream",
     "text": [
      "[-1.33376811 -1.34093431  0.31231603  2.16457424 -0.95760129 -0.65598172\n",
      " -1.41807412  0.04427963 -0.8929473   0.53330146  0.18709978  1.18064015\n",
      "  0.07540029  0.33413872  0.80379568 -0.84961489  0.29623148  0.25729479\n",
      "  2.1482005   0.93389402  0.16287464  1.10313223  2.29174704  1.08585309\n",
      "  0.67053595 -1.24972546  1.12966359 -0.21766619 -1.14910938 -0.66744534]\n"
     ]
    }
   ],
   "source": [
    "#génération de valeurs aléatoires -loi normale (0, 1)\n",
    "alea1 = stat.norm.rvs(loc=0,scale=1,size=30)\n",
    "print(alea1)"
   ]
  },
  {
   "cell_type": "code",
   "execution_count": 18,
   "metadata": {},
   "outputs": [
    {
     "name": "stdout",
     "output_type": "stream",
     "text": [
      "NormaltestResult(statistic=1.0708910539134857, pvalue=0.5854084168056652)\n"
     ]
    }
   ],
   "source": [
    "print(stat.normaltest(alea1))"
   ]
  },
  {
   "cell_type": "code",
   "execution_count": 19,
   "metadata": {},
   "outputs": [
    {
     "name": "stdout",
     "output_type": "stream",
     "text": [
      "NormaltestResult(statistic=8.119934857640967, pvalue=0.017249580945394038)\n"
     ]
    }
   ],
   "source": [
    "#génération -loi exponentielle\n",
    "alea2 = stat.expon.rvs(size=30)\n",
    "print(stat.normaltest(alea2)) "
   ]
  },
  {
   "cell_type": "markdown",
   "metadata": {},
   "source": [
    "### Test de conformité à un standard – Test de Student\n",
    "Le test de Student est un test standard pour comparer les valeurs de 2 échantillons a et b. Il renvoie une paire : statistique t, p-value.\n",
    "\n",
    "Le test change selon que les échantillons ont le même nombre de valeurs ou un nombre différent. \n",
    "Pour des échantillons égaux on prendra scipy.stats.ttest_rel, pour des différents scipy.stats.ttest_ind."
   ]
  },
  {
   "cell_type": "code",
   "execution_count": 20,
   "metadata": {},
   "outputs": [],
   "source": [
    "a = [3, 5, 7]\n",
    "b = [6, 9, 10]\n",
    "c = [6, 9, 10, 11]"
   ]
  },
  {
   "cell_type": "code",
   "execution_count": 21,
   "metadata": {},
   "outputs": [
    {
     "data": {
      "text/plain": [
       "Ttest_relResult(statistic=-10.0, pvalue=0.009852457023325692)"
      ]
     },
     "execution_count": 21,
     "metadata": {},
     "output_type": "execute_result"
    }
   ],
   "source": [
    "stat.ttest_rel(a,b)"
   ]
  },
  {
   "cell_type": "code",
   "execution_count": 22,
   "metadata": {},
   "outputs": [
    {
     "data": {
      "text/plain": [
       "Ttest_indResult(statistic=-2.496751135729437, pvalue=0.054707113913075575)"
      ]
     },
     "execution_count": 22,
     "metadata": {},
     "output_type": "execute_result"
    }
   ],
   "source": [
    "stat.ttest_ind(a,c)"
   ]
  },
  {
   "cell_type": "markdown",
   "metadata": {},
   "source": [
    "## Statistiques à 2 vecteurs"
   ]
  },
  {
   "cell_type": "markdown",
   "metadata": {},
   "source": [
    "### Comparaison de population"
   ]
  },
  {
   "cell_type": "code",
   "execution_count": 23,
   "metadata": {},
   "outputs": [],
   "source": [
    "import numpy as np\n",
    "import scipy.stats as stat\n",
    "\n",
    "\n",
    "dt = np.array([24,43,58,71,43,49,61,44,67,49,53,56,59,52,62,54,57,33,46,43,57])\n",
    "dc = np.array([42,43,55,26,62,37,33,41,19,54,20,85,46,10,17,60,53,42,37,42,55,28,48])\n",
    "\n",
    "\n",
    "d1968 = np.array([0.42,0.5,0.52,0.45,0.43,0.55,0.45,0.34,0.45,0.54,0.42,0.51,0.49,0.54,0.5,0.58,0.49,0.56,0.63])\n",
    "d1972 = np.array([0.45,0.5,0.52,0.45,0.46,0.55,0.60,0.49,0.35,0.55,0.52,0.53,0.57,0.53,0.59,0.64,0.5,0.57,0.64])"
   ]
  },
  {
   "cell_type": "markdown",
   "metadata": {},
   "source": [
    "<b>1. Test de Welch – comparaison de moyennes</b><br>\n",
    "\n",
    "Tester statistiquement l’hypothèse d’égalité de deux moyennes avec deux échantillons de variances inégales"
   ]
  },
  {
   "cell_type": "code",
   "execution_count": 24,
   "metadata": {},
   "outputs": [
    {
     "name": "stdout",
     "output_type": "stream",
     "text": [
      "Ttest_indResult(statistic=2.310889197854228, pvalue=0.02638241282442478)\n"
     ]
    }
   ],
   "source": [
    "print(stat.ttest_ind(dt,dc,equal_var=False)) "
   ]
  },
  {
   "cell_type": "markdown",
   "metadata": {},
   "source": [
    "<b>2. Test de Bartlett – comparaison de paramètres d’échelle (variance)</b><br>\n",
    "Evaluer si k échantillons indépendants sont issus de populations de même variance"
   ]
  },
  {
   "cell_type": "code",
   "execution_count": 25,
   "metadata": {},
   "outputs": [
    {
     "name": "stdout",
     "output_type": "stream",
     "text": [
      "BartlettResult(statistic=3.8455356421051388, pvalue=0.04987858739511786)\n"
     ]
    }
   ],
   "source": [
    "print(stat.bartlett(dt,dc))"
   ]
  },
  {
   "cell_type": "markdown",
   "metadata": {},
   "source": [
    "<b>3. test de Ansari Bradley"
   ]
  },
  {
   "cell_type": "code",
   "execution_count": 26,
   "metadata": {},
   "outputs": [
    {
     "name": "stdout",
     "output_type": "stream",
     "text": [
      "AnsariResult(statistic=266.0, pvalue=0.24768048701691592)\n"
     ]
    },
    {
     "name": "stderr",
     "output_type": "stream",
     "text": [
      "C:\\Users\\utilisateur\\anaconda3\\lib\\site-packages\\scipy\\stats\\morestats.py:2136: UserWarning: Ties preclude use of exact statistic.\n",
      "  warnings.warn(\"Ties preclude use of exact statistic.\")\n"
     ]
    }
   ],
   "source": [
    "print(stat.ansari(dt,dc))"
   ]
  },
  {
   "cell_type": "markdown",
   "metadata": {},
   "source": [
    "<b> 4. Test de Levene"
   ]
  },
  {
   "cell_type": "code",
   "execution_count": 27,
   "metadata": {},
   "outputs": [
    {
     "name": "stdout",
     "output_type": "stream",
     "text": [
      "LeveneResult(statistic=2.3418185975754007, pvalue=0.133440294168933)\n"
     ]
    }
   ],
   "source": [
    "print(stat.levene(dt,dc))"
   ]
  },
  {
   "cell_type": "markdown",
   "metadata": {},
   "source": [
    "<b> 5. Test de Kolomogorov-Smirnov – écart entre les fonctions de répartition empiriques</b> <br>\n",
    "Test d'hypothèse utilisé pour déterminer si un échantillon suit bien une loi donnée connue par sa fonction de répartition continue, ou bien si deux échantillons suivent la même loi. "
   ]
  },
  {
   "cell_type": "code",
   "execution_count": 28,
   "metadata": {},
   "outputs": [
    {
     "name": "stdout",
     "output_type": "stream",
     "text": [
      "KstestResult(statistic=0.4699792960662526, pvalue=0.008988594868491018)\n"
     ]
    }
   ],
   "source": [
    "print(stat.ks_2samp(dt,dc))"
   ]
  },
  {
   "cell_type": "markdown",
   "metadata": {},
   "source": [
    "<b> 6. Test des rangs signés – non paramétrique</b><br>\n",
    " Alternative non-paramétrique au test de Student pour des échantillons appariés.\n"
   ]
  },
  {
   "cell_type": "code",
   "execution_count": 29,
   "metadata": {},
   "outputs": [
    {
     "name": "stdout",
     "output_type": "stream",
     "text": [
      "WilcoxonResult(statistic=16.0, pvalue=0.0122241123197889)\n"
     ]
    },
    {
     "name": "stderr",
     "output_type": "stream",
     "text": [
      "C:\\Users\\utilisateur\\anaconda3\\lib\\site-packages\\scipy\\stats\\morestats.py:2958: UserWarning: Exact p-value calculation does not work if there are ties. Switching to normal approximation.\n",
      "  warnings.warn(\"Exact p-value calculation does not work if there are \"\n"
     ]
    }
   ],
   "source": [
    "print(stat.wilcoxon(d1968,d1972))"
   ]
  },
  {
   "cell_type": "markdown",
   "metadata": {},
   "source": [
    "<b> 7. T-test related samples - paramétrique"
   ]
  },
  {
   "cell_type": "code",
   "execution_count": 30,
   "metadata": {},
   "outputs": [
    {
     "name": "stdout",
     "output_type": "stream",
     "text": [
      "Ttest_relResult(statistic=-2.457703815601802, pvalue=0.024352597586836344)\n"
     ]
    }
   ],
   "source": [
    "print(stat.ttest_rel(d1968,d1972))\n"
   ]
  },
  {
   "cell_type": "markdown",
   "metadata": {},
   "source": [
    "# Association de population"
   ]
  },
  {
   "cell_type": "code",
   "execution_count": 31,
   "metadata": {},
   "outputs": [],
   "source": [
    "dalc = np.array([6.47,6.13,6.19,4.89,5.63,4.52,5.89,4.79,5.27,6.08])\n",
    "dtob = np.array([4.03,3.76,3.77,3.34,3.47,2.92,3.2,2.71,3.53,4.51])"
   ]
  },
  {
   "cell_type": "markdown",
   "metadata": {},
   "source": [
    "<b> 1. Régression linéaire simple"
   ]
  },
  {
   "cell_type": "code",
   "execution_count": 32,
   "metadata": {},
   "outputs": [
    {
     "name": "stdout",
     "output_type": "stream",
     "text": [
      "LinregressResult(slope=0.6115012914647241, intercept=0.10815378587805125, rvalue=0.7842873201538676, pvalue=0.007234358351729509, stderr=0.17102020517368527)\n"
     ]
    }
   ],
   "source": [
    "print(stat.linregress(dalc,dtob))"
   ]
  },
  {
   "cell_type": "markdown",
   "metadata": {},
   "source": [
    "<b>2. Corrélation de Pearson</b> <br>\n",
    "Statistique qui mesure la corrélation linéaire entre deux variables X et Y."
   ]
  },
  {
   "cell_type": "code",
   "execution_count": 33,
   "metadata": {},
   "outputs": [
    {
     "name": "stdout",
     "output_type": "stream",
     "text": [
      "(0.7842873201538678, 0.007234358351729485)\n"
     ]
    }
   ],
   "source": [
    "print(stat.pearsonr(dalc,dtob))"
   ]
  },
  {
   "cell_type": "markdown",
   "metadata": {},
   "source": [
    "<b> 3. Corrélation de Spearman - basé sur les rangs</b><br>\n",
    "Mesure de dépendance statistique non paramétrique entre deux variables."
   ]
  },
  {
   "cell_type": "code",
   "execution_count": 34,
   "metadata": {},
   "outputs": [
    {
     "name": "stdout",
     "output_type": "stream",
     "text": [
      "(0.7842873201538678, 0.007234358351729485)\n"
     ]
    }
   ],
   "source": [
    "print(stat.pearsonr(dalc,dtob)) # (r = 0.7843, p-value pour test t = 0.0072)"
   ]
  },
  {
   "cell_type": "markdown",
   "metadata": {},
   "source": [
    "<b> 4. Tau de Kendall - concordance et discordance</b><br>\n",
    "Mesure la corrélation de rang entre deux variables."
   ]
  },
  {
   "cell_type": "code",
   "execution_count": 35,
   "metadata": {},
   "outputs": [
    {
     "name": "stdout",
     "output_type": "stream",
     "text": [
      "KendalltauResult(correlation=0.6444444444444444, pvalue=0.009148478835978836)\n"
     ]
    }
   ],
   "source": [
    "print(stat.kendalltau(dalc,dtob))"
   ]
  },
  {
   "cell_type": "code",
   "execution_count": null,
   "metadata": {},
   "outputs": [],
   "source": []
  }
 ],
 "metadata": {
  "kernelspec": {
   "display_name": "Python 3",
   "language": "python",
   "name": "python3"
  },
  "language_info": {
   "codemirror_mode": {
    "name": "ipython",
    "version": 3
   },
   "file_extension": ".py",
   "mimetype": "text/x-python",
   "name": "python",
   "nbconvert_exporter": "python",
   "pygments_lexer": "ipython3",
   "version": "3.8.3"
  }
 },
 "nbformat": 4,
 "nbformat_minor": 4
}
