{
 "cells": [
  {
   "cell_type": "markdown",
   "metadata": {},
   "source": [
    "<h1><center> Statistiques sous Python (avec Pandas) </center></h1>\n",
    "\n",
    "## Analyse de Données Massives\n",
    "\n",
    "Nous allons utiliser dans cet exercice le module pandas permettant l'analyse de données avec Python. La première instruction est d'installer le module, à faire dans un terminale de commande.\n",
    "<br>\n",
    "\n",
    "- pip install pandas\n",
    "- pip install numpy\n",
    "\n",
    "Une fois le module est installé, nous pouvons lancer un notebook pour commencer notre programme. Il faut tout d'abord importer le module.\n"
   ]
  },
  {
   "cell_type": "code",
   "execution_count": 41,
   "metadata": {},
   "outputs": [],
   "source": [
    "import pandas as pd\n",
    "import numpy as np\n",
    "# Importation du module pandas\n",
    "\n",
    "\n"
   ]
  },
  {
   "cell_type": "markdown",
   "metadata": {},
   "source": [
    "\n",
    "## Données\n",
    "    \n",
    "    \n",
    "Nous allons travailler sur des données collectées par un serveur (data.csv). Il a enregistré des informations sur chaque pourboire qu'il a reçu sur une période de quelques mois en travaillant dans un restaurant. Il a collecté plusieurs variables:\n",
    "\n",
    "1. facture en dollars,\n",
    "\n",
    "2. pourboire en dollars,\n",
    "\n",
    "3. sexe du payeur de factures,\n",
    "\n",
    "4. s'il y avait des fumeurs dans la fête,\n",
    "\n",
    "5. jour de la semaine,\n",
    "\n",
    "6. moment de la journée,\n",
    "\n",
    "7. taille de la fête.\n",
    "\n",
    "\n",
    "- Lire ces données dans le <code>Notebook</code> avec <code>read_csv()</code> de <code>pandas</code>.</p>\n"
   ]
  },
  {
   "cell_type": "code",
   "execution_count": 42,
   "metadata": {},
   "outputs": [
    {
     "name": "stdout",
     "output_type": "stream",
     "text": [
      "     facture  pourboire     sex Fumeur  Jour   temps  size\n",
      "0      16.99       1.01  Female     No   Sun  Dinner     2\n",
      "1      10.34       1.66    Male     No   Sun  Dinner     3\n",
      "2      21.01       3.50    Male     No   Sun  Dinner     3\n",
      "3      23.68       3.31    Male     No   Sun  Dinner     2\n",
      "4      24.59       3.61  Female     No   Sun  Dinner     4\n",
      "..       ...        ...     ...    ...   ...     ...   ...\n",
      "239    29.03       5.92    Male     No   Sat  Dinner     3\n",
      "240    27.18       2.00  Female    Yes   Sat  Dinner     2\n",
      "241    22.67       2.00    Male    Yes   Sat  Dinner     2\n",
      "242    17.82       1.75    Male     No   Sat  Dinner     2\n",
      "243    18.78       3.00  Female     No  Thur  Dinner     2\n",
      "\n",
      "[244 rows x 7 columns]\n"
     ]
    }
   ],
   "source": [
    "# Lecture d'un fichier csv avec pandas\n",
    "donn = pd.read_csv(\"..\\Maths\\data.csv\")\n",
    "print(donn)"
   ]
  },
  {
   "cell_type": "code",
   "execution_count": 43,
   "metadata": {},
   "outputs": [
    {
     "name": "stdout",
     "output_type": "stream",
     "text": [
      "     facture  pourboire     sex Fumeur  Jour   temps  size\n",
      "0      16.99       1.01  Female     No   Sun  Dinner     2\n",
      "1      10.34       1.66    Male     No   Sun  Dinner     3\n",
      "2      21.01       3.50    Male     No   Sun  Dinner     3\n",
      "3      23.68       3.31    Male     No   Sun  Dinner     2\n",
      "4      24.59       3.61  Female     No   Sun  Dinner     4\n",
      "..       ...        ...     ...    ...   ...     ...   ...\n",
      "239    29.03       5.92    Male     No   Sat  Dinner     3\n",
      "240    27.18       2.00  Female    Yes   Sat  Dinner     2\n",
      "241    22.67       2.00    Male    Yes   Sat  Dinner     2\n",
      "242    17.82       1.75    Male     No   Sat  Dinner     2\n",
      "243    18.78       3.00  Female     No  Thur  Dinner     2\n",
      "\n",
      "[244 rows x 7 columns]\n"
     ]
    }
   ],
   "source": [
    "donn = pd.read_csv(\"..\\Maths\\data.csv\", header = 0, sep = \",\") # pour préciser comment lire le csv\n",
    "print(donn)"
   ]
  },
  {
   "cell_type": "markdown",
   "metadata": {},
   "source": [
    "\n",
    "<p>Sur ces données, il est bien évidemment possible de voir quelques informations classiques.</p>\n"
   ]
  },
  {
   "cell_type": "code",
   "execution_count": 44,
   "metadata": {},
   "outputs": [
    {
     "name": "stdout",
     "output_type": "stream",
     "text": [
      "type de données : <class 'pandas.core.frame.DataFrame'>\n",
      "---------------- \n",
      "énumération des colonnes : \n",
      "Index(['facture', 'pourboire', 'sex', 'Fumeur', 'Jour', 'temps', 'size'], dtype='object')\n",
      "---------------- \n",
      "type de chaque colonne : \n",
      "facture      float64\n",
      "pourboire    float64\n",
      "sex           object\n",
      "Fumeur        object\n",
      "Jour          object\n",
      "temps         object\n",
      "size           int64\n",
      "dtype: object\n"
     ]
    }
   ],
   "source": [
    "\n",
    "# Type des données\n",
    "print(\"type de données :\", type(donn))\n",
    "\n",
    "#énumération des colonnes\n",
    "print(\"---------------- \")\n",
    "print(\"énumération des colonnes : \")\n",
    "print(donn.columns)\n",
    "\n",
    "#type de chaque colonne\n",
    "print(\"---------------- \")\n",
    "print(\"type de chaque colonne : \")\n",
    "print(donn.dtypes)"
   ]
  },
  {
   "cell_type": "code",
   "execution_count": 45,
   "metadata": {},
   "outputs": [
    {
     "name": "stdout",
     "output_type": "stream",
     "text": [
      "(244, 7)\n"
     ]
    }
   ],
   "source": [
    "\n",
    "# dimensions : nombre de lignes, nombre de colonnes\n",
    "# la ligne d'en-tête n'est pas comptabilisée dans le nombre de lignes\n",
    "print(donn.shape)\n"
   ]
  },
  {
   "cell_type": "code",
   "execution_count": 46,
   "metadata": {},
   "outputs": [
    {
     "name": "stdout",
     "output_type": "stream",
     "text": [
      "facture      244\n",
      "pourboire    244\n",
      "sex          244\n",
      "Fumeur       244\n",
      "Jour         244\n",
      "temps        244\n",
      "size         244\n",
      "dtype: int64\n",
      "\n",
      " ----------  \n",
      "\n",
      "<class 'pandas.core.frame.DataFrame'>\n",
      "RangeIndex: 244 entries, 0 to 243\n",
      "Data columns (total 7 columns):\n",
      " #   Column     Non-Null Count  Dtype  \n",
      "---  ------     --------------  -----  \n",
      " 0   facture    244 non-null    float64\n",
      " 1   pourboire  244 non-null    float64\n",
      " 2   sex        244 non-null    object \n",
      " 3   Fumeur     244 non-null    object \n",
      " 4   Jour       244 non-null    object \n",
      " 5   temps      244 non-null    object \n",
      " 6   size       244 non-null    int64  \n",
      "dtypes: float64(2), int64(1), object(4)\n",
      "memory usage: 13.5+ KB\n",
      "None\n"
     ]
    }
   ],
   "source": [
    "\n",
    "#nombre d'observation par champs\n",
    "print(donn.count())\n",
    "print(\"\\n ----------  \\n\")\n",
    "print(donn.info())"
   ]
  },
  {
   "cell_type": "code",
   "execution_count": 47,
   "metadata": {},
   "outputs": [
    {
     "name": "stdout",
     "output_type": "stream",
     "text": [
      "['facture', 'pourboire', 'sex', 'Fumeur', 'Jour', 'temps', 'size']\n",
      "['facture', 'pourboire', 'sex', 'Fumeur', 'Jour', 'temps', 'size']\n"
     ]
    }
   ],
   "source": [
    "\n",
    "# Afficher l'entête du jeu de données dans une liste\n",
    "\n",
    "print(list(donn.columns))\n",
    "\n",
    "print(list(donn))"
   ]
  },
  {
   "cell_type": "markdown",
   "metadata": {},
   "source": [
    "\n",
    "## Statistiques descriptives univariés\n",
    "\n",
    "\n",
    "- Décrire et afficher toutes les variables quantitatives du jeu de données directement (fichier csv).\n",
    "  ex: nombre d'obseravtions, moyenne, écart-type, min-max, quantile Q1, quantile Q2, quantile Q3"
   ]
  },
  {
   "cell_type": "code",
   "execution_count": 48,
   "metadata": {},
   "outputs": [
    {
     "name": "stdout",
     "output_type": "stream",
     "text": [
      "          facture   pourboire        size\n",
      "count  244.000000  244.000000  244.000000\n",
      "mean    19.785943    2.998279    2.569672\n",
      "std      8.902412    1.383638    0.951100\n",
      "min      3.070000    1.000000    1.000000\n",
      "25%     13.347500    2.000000    2.000000\n",
      "50%     17.795000    2.900000    2.000000\n",
      "75%     24.127500    3.562500    3.000000\n",
      "max     50.810000   10.000000    6.000000\n"
     ]
    }
   ],
   "source": [
    "print(donn.describe())"
   ]
  },
  {
   "cell_type": "code",
   "execution_count": 49,
   "metadata": {},
   "outputs": [
    {
     "name": "stdout",
     "output_type": "stream",
     "text": [
      " - nombre d'observations :\n",
      "facture      244\n",
      "pourboire    244\n",
      "sex          244\n",
      "Fumeur       244\n",
      "Jour         244\n",
      "temps        244\n",
      "size         244\n",
      "dtype: int64\n",
      " ----\n",
      " - moyenne : \n",
      "facture      19.785943\n",
      "pourboire     2.998279\n",
      "size          2.569672\n",
      "dtype: float64\n",
      " ----\n",
      " - médiane :\n",
      "facture      17.795\n",
      "pourboire     2.900\n",
      "size          2.000\n",
      "dtype: float64\n",
      " ----\n",
      " - déviation standard :\n",
      "facture      8.902412\n",
      "pourboire    1.383638\n",
      "size         0.951100\n",
      "dtype: float64\n",
      " ----\n",
      " - variance :\n",
      "facture      79.252939\n",
      "pourboire     1.914455\n",
      "size          0.904591\n",
      "dtype: float64\n",
      " ----\n",
      " - équart type :\n",
      "facture      8.902412\n",
      "pourboire    1.383638\n",
      "size         0.951100\n",
      "dtype: float64\n",
      " ----\n",
      " - minimum :\n",
      "facture        3.07\n",
      "pourboire         1\n",
      "sex          Female\n",
      "Fumeur           No\n",
      "Jour            Fri\n",
      "temps        Dinner\n",
      "size              1\n",
      "dtype: object\n",
      " ----\n",
      " - maximum :\n",
      "facture      50.81\n",
      "pourboire       10\n",
      "sex           Male\n",
      "Fumeur         Yes\n",
      "Jour          Thur\n",
      "temps        Lunch\n",
      "size             6\n",
      "dtype: object\n",
      " ----\n",
      " - quartile Q1 :\n",
      "facture      13.3475\n",
      "pourboire     2.0000\n",
      "size          2.0000\n",
      "Name: 0.25, dtype: float64\n",
      " ----\n",
      " - quartile Q3 :\n",
      "facture      24.1275\n",
      "pourboire     3.5625\n",
      "size          3.0000\n",
      "Name: 0.75, dtype: float64\n"
     ]
    }
   ],
   "source": [
    "print(\" - nombre d'observations :\")\n",
    "print(donn.count(axis=0))\n",
    "print(\" ----\\n - moyenne : \")\n",
    "print(donn.mean()) # sous-entendu \"axis=0\"\n",
    "print(\" ----\\n - médiane :\")\n",
    "print(donn.median())\n",
    "print(\" ----\\n - déviation standard :\")\n",
    "print(donn.std())\n",
    "print(\" ----\\n - variance :\")\n",
    "print(donn.var(axis=0))\n",
    "print(\" ----\\n - équart type :\")\n",
    "print(np.sqrt(donn.var(axis=0)))\n",
    "print(\" ----\\n - minimum :\")\n",
    "print(donn.min(axis=0))\n",
    "print(\" ----\\n - maximum :\")\n",
    "print(donn.max(axis=0))\n",
    "print(\" ----\\n - quartile Q1 :\")\n",
    "print(donn.quantile( .25))\n",
    "print(\" ----\\n - quartile Q3 :\")\n",
    "print(donn.quantile( .75))"
   ]
  },
  {
   "cell_type": "markdown",
   "metadata": {},
   "source": [
    "- Arrondir les valeurs (2 chiffres après la virgule)"
   ]
  },
  {
   "cell_type": "code",
   "execution_count": 50,
   "metadata": {},
   "outputs": [
    {
     "name": "stdout",
     "output_type": "stream",
     "text": [
      "       facture  pourboire    size\n",
      "count   244.00     244.00  244.00\n",
      "mean     19.79       3.00    2.57\n",
      "std       8.90       1.38    0.95\n",
      "min       3.07       1.00    1.00\n",
      "25%      13.35       2.00    2.00\n",
      "50%      17.80       2.90    2.00\n",
      "75%      24.13       3.56    3.00\n",
      "max      50.81      10.00    6.00\n",
      "----\n",
      "\n",
      "facture      19.79\n",
      "pourboire     3.00\n",
      "size          2.57\n",
      "dtype: float64\n"
     ]
    }
   ],
   "source": [
    "print(donn.describe().round(2))\n",
    "print(\"----\\n\")\n",
    "print(donn.mean().round(2))"
   ]
  },
  {
   "cell_type": "markdown",
   "metadata": {},
   "source": [
    "- Décrire juste une seule variable quantitative (ex: <code>\"facture\"</code>).</p>"
   ]
  },
  {
   "cell_type": "code",
   "execution_count": 51,
   "metadata": {},
   "outputs": [
    {
     "data": {
      "text/plain": [
       "count    244.00\n",
       "mean      19.79\n",
       "std        8.90\n",
       "min        3.07\n",
       "25%       13.35\n",
       "50%       17.80\n",
       "75%       24.13\n",
       "max       50.81\n",
       "Name: facture, dtype: float64"
      ]
     },
     "execution_count": 51,
     "metadata": {},
     "output_type": "execute_result"
    }
   ],
   "source": [
    "donn['facture'].describe().round(2) # version1 avec []"
   ]
  },
  {
   "cell_type": "code",
   "execution_count": 52,
   "metadata": {},
   "outputs": [
    {
     "data": {
      "text/plain": [
       "count    244.00\n",
       "mean      19.79\n",
       "std        8.90\n",
       "min        3.07\n",
       "25%       13.35\n",
       "50%       17.80\n",
       "75%       24.13\n",
       "max       50.81\n",
       "Name: facture, dtype: float64"
      ]
     },
     "execution_count": 52,
     "metadata": {},
     "output_type": "execute_result"
    }
   ],
   "source": [
    "donn.facture.describe().round(2) # version2 avec ."
   ]
  },
  {
   "cell_type": "markdown",
   "metadata": {},
   "source": [
    "- Calculer sa moyenne, écart-type, variance, médiane, min, max, quantiles"
   ]
  },
  {
   "cell_type": "code",
   "execution_count": 53,
   "metadata": {},
   "outputs": [
    {
     "name": "stdout",
     "output_type": "stream",
     "text": [
      "19.785942622950824\n",
      "78.92813148851113\n",
      "8.88415057777113\n",
      "17.795\n",
      "3.07\n",
      "50.81\n",
      "13.3475\n",
      "24.127499999999998\n"
     ]
    }
   ],
   "source": [
    "fac = donn['facture']\n",
    "print(np.mean(fac))\n",
    "print(np.var(fac))\n",
    "print(np.sqrt(np.var(fac)))\n",
    "print(np.median(fac))\n",
    "print(np.min(fac))\n",
    "print(np.max(fac))      \n",
    "print(np.quantile(fac, .25))\n",
    "print(np.quantile(fac, .75))"
   ]
  },
  {
   "cell_type": "code",
   "execution_count": 54,
   "metadata": {},
   "outputs": [
    {
     "name": "stdout",
     "output_type": "stream",
     "text": [
      "moyenne : 19.785942622950824\n",
      "variance : 79.25293861397826\n",
      "e-type : 8.902411954856856\n",
      "médiane : 17.795\n",
      "min : 3.07\n",
      "max : 50.81\n",
      "quantiles : \n",
      " 0.01     7.2500\n",
      "0.10    10.3400\n",
      "0.25    13.3475\n",
      "0.75    24.1275\n",
      "0.90    32.2350\n",
      "0.99    48.2270\n",
      "Name: facture, dtype: float64\n"
     ]
    }
   ],
   "source": [
    "fac = donn['facture']\n",
    "print(\"moyenne :\", fac.mean())\n",
    "print(\"variance :\", fac.var())\n",
    "print(\"e-type :\", np.sqrt(fac.var()))\n",
    "print(\"médiane :\", fac.median())\n",
    "print(\"min :\", fac.min())\n",
    "print(\"max :\", fac.max())      \n",
    "print(\"quantiles : \\n\",fac.quantile([ .01, .1, .25, .75, .9, .99]))"
   ]
  },
  {
   "cell_type": "markdown",
   "metadata": {},
   "source": [
    "\n",
    "## Histogramme\n",
    "\n",
    "Pour représenter graphiquement les variables d'un jeu de données, <code>pandas</code> met à disposition (via le module <code>matplotlib</code> utilisé par <code>pandas</code>) des fonctions graphiques.\n",
    "\n",
    "- Réaliser un <strong>histogramme</strong>, en utilisant une version avec la fonction <code>hist()</code>. \n",
    "\n",
    "- Une deuxième version avec la fonction <code>plot()</code>.\n",
    "\n",
    "- Réaliser les deux fonctions précedentes, mais seulement pour une seule variable du jeu de données"
   ]
  },
  {
   "cell_type": "code",
   "execution_count": 55,
   "metadata": {},
   "outputs": [],
   "source": [
    "import matplotlib.pyplot as plt"
   ]
  },
  {
   "cell_type": "code",
   "execution_count": 56,
   "metadata": {},
   "outputs": [
    {
     "data": {
      "text/plain": [
       "array([[<matplotlib.axes._subplots.AxesSubplot object at 0x0000029E6A66A8B0>]],\n",
       "      dtype=object)"
      ]
     },
     "execution_count": 56,
     "metadata": {},
     "output_type": "execute_result"
    },
    {
     "data": {
      "image/png": "[encoded data removed]",
      "text/plain": [
       "<Figure size 432x288 with 1 Axes>"
      ]
     },
     "metadata": {
      "needs_background": "light"
     },
     "output_type": "display_data"
    }
   ],
   "source": [
    "donn.hist(column='facture', bins =10 )"
   ]
  },
  {
   "cell_type": "code",
   "execution_count": 57,
   "metadata": {},
   "outputs": [
    {
     "data": {
      "text/plain": [
       "<matplotlib.axes._subplots.AxesSubplot at 0x29e6ad4f790>"
      ]
     },
     "execution_count": 57,
     "metadata": {},
     "output_type": "execute_result"
    },
    {
     "data": {
      "image/png": "[encoded data removed]",
      "text/plain": [
       "<Figure size 432x288 with 1 Axes>"
      ]
     },
     "metadata": {
      "needs_background": "light"
     },
     "output_type": "display_data"
    }
   ],
   "source": [
    "donn.facture.hist(bins =30 )"
   ]
  },
  {
   "cell_type": "code",
   "execution_count": 58,
   "metadata": {},
   "outputs": [
    {
     "data": {
      "text/plain": [
       "<matplotlib.axes._subplots.AxesSubplot at 0x29e6adc8d30>"
      ]
     },
     "execution_count": 58,
     "metadata": {},
     "output_type": "execute_result"
    },
    {
     "data": {
      "image/png": "[encoded data removed]",
      "text/plain": [
       "<Figure size 432x288 with 1 Axes>"
      ]
     },
     "metadata": {
      "needs_background": "light"
     },
     "output_type": "display_data"
    }
   ],
   "source": [
    "donn.facture.plot.kde()"
   ]
  },
  {
   "cell_type": "code",
   "execution_count": 59,
   "metadata": {},
   "outputs": [
    {
     "data": {
      "text/plain": [
       "array([[<matplotlib.axes._subplots.AxesSubplot object at 0x0000029E6A543730>,\n",
       "        <matplotlib.axes._subplots.AxesSubplot object at 0x0000029E6AE816A0>],\n",
       "       [<matplotlib.axes._subplots.AxesSubplot object at 0x0000029E6AEAEAF0>,\n",
       "        <matplotlib.axes._subplots.AxesSubplot object at 0x0000029E6AEDCF70>]],\n",
       "      dtype=object)"
      ]
     },
     "execution_count": 59,
     "metadata": {},
     "output_type": "execute_result"
    },
    {
     "data": {
      "image/png": "[encoded data removed]",
      "text/plain": [
       "<Figure size 432x288 with 4 Axes>"
      ]
     },
     "metadata": {
      "needs_background": "light"
     },
     "output_type": "display_data"
    }
   ],
   "source": [
    "donn.hist()"
   ]
  },
  {
   "cell_type": "code",
   "execution_count": 60,
   "metadata": {},
   "outputs": [
    {
     "data": {
      "text/plain": [
       "<matplotlib.axes._subplots.AxesSubplot at 0x29e6af2ceb0>"
      ]
     },
     "execution_count": 60,
     "metadata": {},
     "output_type": "execute_result"
    },
    {
     "data": {
      "image/png": "[encoded data removed]",
      "text/plain": [
       "<Figure size 432x288 with 1 Axes>"
      ]
     },
     "metadata": {
      "needs_background": "light"
     },
     "output_type": "display_data"
    }
   ],
   "source": [
    "donn.plot.kde()"
   ]
  },
  {
   "cell_type": "markdown",
   "metadata": {},
   "source": [
    "\n",
    "## Boîtes à moustaches\n",
    "    \n",
    "    \n",
    "- Afficher les <strong>boîtes à moustaches</strong> du jeu de données."
   ]
  },
  {
   "cell_type": "code",
   "execution_count": 61,
   "metadata": {},
   "outputs": [
    {
     "data": {
      "text/plain": [
       "<matplotlib.axes._subplots.AxesSubplot at 0x29e6b00ef10>"
      ]
     },
     "execution_count": 61,
     "metadata": {},
     "output_type": "execute_result"
    },
    {
     "data": {
      "image/png": "[encoded data removed]",
      "text/plain": [
       "<Figure size 432x288 with 1 Axes>"
      ]
     },
     "metadata": {
      "needs_background": "light"
     },
     "output_type": "display_data"
    }
   ],
   "source": [
    "donn.boxplot()"
   ]
  },
  {
   "cell_type": "markdown",
   "metadata": {},
   "source": [
    "- Afficher <strong>la boîte à moustache</strong> d'une variable spécifique."
   ]
  },
  {
   "cell_type": "code",
   "execution_count": 62,
   "metadata": {},
   "outputs": [
    {
     "data": {
      "text/plain": [
       "<matplotlib.axes._subplots.AxesSubplot at 0x29e6c063970>"
      ]
     },
     "execution_count": 62,
     "metadata": {},
     "output_type": "execute_result"
    },
    {
     "data": {
      "image/png": "[encoded data removed]",
      "text/plain": [
       "<Figure size 432x288 with 1 Axes>"
      ]
     },
     "metadata": {
      "needs_background": "light"
     },
     "output_type": "display_data"
    }
   ],
   "source": [
    "donn.boxplot(column='pourboire')"
   ]
  },
  {
   "cell_type": "markdown",
   "metadata": {},
   "source": [
    "- Afficher <strong>la boîte à moustache</strong> d'une variable spécifique en enlevant la gride."
   ]
  },
  {
   "cell_type": "code",
   "execution_count": 63,
   "metadata": {},
   "outputs": [
    {
     "data": {
      "text/plain": [
       "<matplotlib.axes._subplots.AxesSubplot at 0x29e6c0bc0a0>"
      ]
     },
     "execution_count": 63,
     "metadata": {},
     "output_type": "execute_result"
    },
    {
     "data": {
      "image/png": "[encoded data removed]",
      "text/plain": [
       "<Figure size 432x288 with 1 Axes>"
      ]
     },
     "metadata": {
      "needs_background": "light"
     },
     "output_type": "display_data"
    }
   ],
   "source": [
    "donn.boxplot(column='pourboire', grid=0)"
   ]
  },
  {
   "cell_type": "markdown",
   "metadata": {},
   "source": [
    "\n",
    "## Qualitative\n",
    "    \n",
    "- Afficher la table d'occurences (ou des effectifs) des variables qualitatives, ainsi que la table des proportions des modalités.</p>\n"
   ]
  },
  {
   "cell_type": "code",
   "execution_count": 64,
   "metadata": {},
   "outputs": [
    {
     "name": "stdout",
     "output_type": "stream",
     "text": [
      " --répartition par sexe :\n",
      "Male      157\n",
      "Female     87\n",
      "Name: sex, dtype: int64\n",
      " --répartition par fumeur / non-fumeur :\n",
      "No     151\n",
      "Yes     93\n",
      "Name: Fumeur, dtype: int64\n",
      " --répartition par jour de visite :\n",
      "Sat     87\n",
      "Sun     76\n",
      "Thur    62\n",
      "Fri     19\n",
      "Name: Jour, dtype: int64\n",
      " --répartition par moment de la journée :\n",
      "Dinner    176\n",
      "Lunch      68\n",
      "Name: temps, dtype: int64\n"
     ]
    }
   ],
   "source": [
    "print(\" --répartition par sexe :\")\n",
    "print(donn['sex'].value_counts())\n",
    "print(\" --répartition par fumeur / non-fumeur :\")\n",
    "print(donn['Fumeur'].value_counts())\n",
    "print(\" --répartition par jour de visite :\")\n",
    "print(donn['Jour'].value_counts())\n",
    "print(\" --répartition par moment de la journée :\")\n",
    "print(donn['temps'].value_counts())"
   ]
  },
  {
   "cell_type": "code",
   "execution_count": 65,
   "metadata": {},
   "outputs": [
    {
     "name": "stdout",
     "output_type": "stream",
     "text": [
      " --répartition par sexe :\n",
      "Male      64.34\n",
      "Female    35.66\n",
      "Name: sex, dtype: float64\n",
      " --répartition par fumeur / non-fumeur :\n",
      "No     61.89\n",
      "Yes    38.11\n",
      "Name: Fumeur, dtype: float64\n",
      " --répartition par jour de visite :\n",
      "Sat     35.66\n",
      "Sun     31.15\n",
      "Thur    25.41\n",
      "Fri      7.79\n",
      "Name: Jour, dtype: float64\n",
      " --répartition par moment de la journée :\n",
      "Dinner    72.13\n",
      "Lunch     27.87\n",
      "Name: temps, dtype: float64\n"
     ]
    }
   ],
   "source": [
    "print(\" --répartition par sexe :\")\n",
    "print(donn['sex'].value_counts(normalize=True).mul(100).round(2))\n",
    "print(\" --répartition par fumeur / non-fumeur :\")\n",
    "print(donn['Fumeur'].value_counts(normalize=True).mul(100).round(2))\n",
    "print(\" --répartition par jour de visite :\")\n",
    "print(donn['Jour'].value_counts(normalize=True).mul(100).round(2))\n",
    "print(\" --répartition par moment de la journée :\")\n",
    "print(donn['temps'].value_counts(normalize=True).mul(100).round(2))"
   ]
  },
  {
   "cell_type": "markdown",
   "metadata": {},
   "source": [
    "- Calculer le nombre d'occurence par modalité de la variable sex par deux versions (value_counts() et crosstab() )"
   ]
  },
  {
   "cell_type": "code",
   "execution_count": 66,
   "metadata": {},
   "outputs": [
    {
     "data": {
      "text/html": [
       "<div>\n",
       "<style scoped>\n",
       "    .dataframe tbody tr th:only-of-type {\n",
       "        vertical-align: middle;\n",
       "    }\n",
       "\n",
       "    .dataframe tbody tr th {\n",
       "        vertical-align: top;\n",
       "    }\n",
       "\n",
       "    .dataframe thead th {\n",
       "        text-align: right;\n",
       "    }\n",
       "</style>\n",
       "<table border=\"1\" class=\"dataframe\">\n",
       "  <thead>\n",
       "    <tr style=\"text-align: right;\">\n",
       "      <th>col_0</th>\n",
       "      <th>frequence</th>\n",
       "    </tr>\n",
       "    <tr>\n",
       "      <th>sex</th>\n",
       "      <th></th>\n",
       "    </tr>\n",
       "  </thead>\n",
       "  <tbody>\n",
       "    <tr>\n",
       "      <th>Female</th>\n",
       "      <td>87</td>\n",
       "    </tr>\n",
       "    <tr>\n",
       "      <th>Male</th>\n",
       "      <td>157</td>\n",
       "    </tr>\n",
       "  </tbody>\n",
       "</table>\n",
       "</div>"
      ],
      "text/plain": [
       "col_0   frequence\n",
       "sex              \n",
       "Female         87\n",
       "Male          157"
      ]
     },
     "execution_count": 66,
     "metadata": {},
     "output_type": "execute_result"
    }
   ],
   "source": [
    "pd.crosstab(donn[\"sex\"], \"frequence\")"
   ]
  },
  {
   "cell_type": "code",
   "execution_count": 67,
   "metadata": {},
   "outputs": [
    {
     "name": "stdout",
     "output_type": "stream",
     "text": [
      "Male      157\n",
      "Female     87\n",
      "Name: sex, dtype: int64\n"
     ]
    }
   ],
   "source": [
    "print(donn['sex'].value_counts())"
   ]
  },
  {
   "cell_type": "markdown",
   "metadata": {},
   "source": [
    "- Calculer le nombre d'occurence normalisé par modalité de la variable sex par deux versions"
   ]
  },
  {
   "cell_type": "code",
   "execution_count": 68,
   "metadata": {},
   "outputs": [
    {
     "name": "stdout",
     "output_type": "stream",
     "text": [
      "Male      64.34\n",
      "Female    35.66\n",
      "Name: sex, dtype: float64\n"
     ]
    }
   ],
   "source": [
    "print(donn['sex'].value_counts(normalize=True).mul(100).round(2))"
   ]
  },
  {
   "cell_type": "code",
   "execution_count": 69,
   "metadata": {},
   "outputs": [
    {
     "data": {
      "text/html": [
       "<div>\n",
       "<style scoped>\n",
       "    .dataframe tbody tr th:only-of-type {\n",
       "        vertical-align: middle;\n",
       "    }\n",
       "\n",
       "    .dataframe tbody tr th {\n",
       "        vertical-align: top;\n",
       "    }\n",
       "\n",
       "    .dataframe thead th {\n",
       "        text-align: right;\n",
       "    }\n",
       "</style>\n",
       "<table border=\"1\" class=\"dataframe\">\n",
       "  <thead>\n",
       "    <tr style=\"text-align: right;\">\n",
       "      <th>col_0</th>\n",
       "      <th>frequence</th>\n",
       "    </tr>\n",
       "    <tr>\n",
       "      <th>sex</th>\n",
       "      <th></th>\n",
       "    </tr>\n",
       "  </thead>\n",
       "  <tbody>\n",
       "    <tr>\n",
       "      <th>Female</th>\n",
       "      <td>35.66</td>\n",
       "    </tr>\n",
       "    <tr>\n",
       "      <th>Male</th>\n",
       "      <td>64.34</td>\n",
       "    </tr>\n",
       "  </tbody>\n",
       "</table>\n",
       "</div>"
      ],
      "text/plain": [
       "col_0   frequence\n",
       "sex              \n",
       "Female      35.66\n",
       "Male        64.34"
      ]
     },
     "execution_count": 69,
     "metadata": {},
     "output_type": "execute_result"
    }
   ],
   "source": [
    "pd.crosstab(donn[\"sex\"], \"frequence\", normalize = True).mul(100).round(2) #ou donn.sex fonctionne aussi"
   ]
  },
  {
   "cell_type": "markdown",
   "metadata": {},
   "source": [
    "\n",
    "### Diagramme en barres \n",
    "    \n",
    "- Réaliser un <strong>diagramme en barres</strong>, en utilisant le type <code>\"bar\"</code> pour <code>plot()</code>. \n"
   ]
  },
  {
   "cell_type": "code",
   "execution_count": 70,
   "metadata": {},
   "outputs": [
    {
     "data": {
      "text/plain": [
       "<matplotlib.axes._subplots.AxesSubplot at 0x29e6c102820>"
      ]
     },
     "execution_count": 70,
     "metadata": {},
     "output_type": "execute_result"
    },
    {
     "data": {
      "image/png": "[encoded data removed]",
      "text/plain": [
       "<Figure size 432x288 with 1 Axes>"
      ]
     },
     "metadata": {
      "needs_background": "light"
     },
     "output_type": "display_data"
    }
   ],
   "source": [
    "rep_par_sexe = pd.crosstab(donn.sex, \"frequence\", normalize=True).mul(100).round(2)\n",
    "rep_par_sexe.plot(kind = \"bar\")"
   ]
  },
  {
   "cell_type": "code",
   "execution_count": 71,
   "metadata": {},
   "outputs": [
    {
     "data": {
      "text/plain": [
       "<matplotlib.axes._subplots.AxesSubplot at 0x29e6c14aee0>"
      ]
     },
     "execution_count": 71,
     "metadata": {},
     "output_type": "execute_result"
    },
    {
     "data": {
      "image/png": "[encoded data removed]",
      "text/plain": [
       "<Figure size 432x288 with 1 Axes>"
      ]
     },
     "metadata": {
      "needs_background": "light"
     },
     "output_type": "display_data"
    }
   ],
   "source": [
    "donn.plot.hist()"
   ]
  },
  {
   "cell_type": "code",
   "execution_count": 72,
   "metadata": {},
   "outputs": [
    {
     "data": {
      "text/plain": [
       "<matplotlib.axes._subplots.AxesSubplot at 0x29e6ae8e670>"
      ]
     },
     "execution_count": 72,
     "metadata": {},
     "output_type": "execute_result"
    },
    {
     "data": {
      "image/png": "[encoded data removed]",
      "text/plain": [
       "<Figure size 432x288 with 1 Axes>"
      ]
     },
     "metadata": {
      "needs_background": "light"
     },
     "output_type": "display_data"
    }
   ],
   "source": [
    "fac.hist(bins = 20)"
   ]
  },
  {
   "cell_type": "markdown",
   "metadata": {},
   "source": [
    "\n",
    "### Diagramme circulaire\n",
    "\n",
    "- Réaliser un <strong>diagramme circulaire</strong>, pour le tableau des effectifs de la variable sex produit par <code>crosstab()</code>.\n"
   ]
  },
  {
   "cell_type": "code",
   "execution_count": 73,
   "metadata": {},
   "outputs": [
    {
     "data": {
      "text/plain": [
       "array([<matplotlib.axes._subplots.AxesSubplot object at 0x0000029E6C280D60>],\n",
       "      dtype=object)"
      ]
     },
     "execution_count": 73,
     "metadata": {},
     "output_type": "execute_result"
    },
    {
     "data": {
      "image/png": "[encoded data removed]",
      "text/plain": [
       "<Figure size 432x432 with 1 Axes>"
      ]
     },
     "metadata": {},
     "output_type": "display_data"
    }
   ],
   "source": [
    "rep_par_sexe.plot.pie(subplots=True, figsize = (6, 6))"
   ]
  },
  {
   "cell_type": "markdown",
   "metadata": {},
   "source": [
    "## Statistiques descriptives bivariées\n",
    "\n",
    "### Quantitative\n",
    "\n",
    "- Calculer la correlation entre les différentes variables du jeu de données."
   ]
  },
  {
   "cell_type": "code",
   "execution_count": 74,
   "metadata": {},
   "outputs": [
    {
     "data": {
      "text/html": [
       "<div>\n",
       "<style scoped>\n",
       "    .dataframe tbody tr th:only-of-type {\n",
       "        vertical-align: middle;\n",
       "    }\n",
       "\n",
       "    .dataframe tbody tr th {\n",
       "        vertical-align: top;\n",
       "    }\n",
       "\n",
       "    .dataframe thead th {\n",
       "        text-align: right;\n",
       "    }\n",
       "</style>\n",
       "<table border=\"1\" class=\"dataframe\">\n",
       "  <thead>\n",
       "    <tr style=\"text-align: right;\">\n",
       "      <th></th>\n",
       "      <th>facture</th>\n",
       "      <th>pourboire</th>\n",
       "      <th>size</th>\n",
       "    </tr>\n",
       "  </thead>\n",
       "  <tbody>\n",
       "    <tr>\n",
       "      <th>facture</th>\n",
       "      <td>1.000000</td>\n",
       "      <td>0.675734</td>\n",
       "      <td>0.598315</td>\n",
       "    </tr>\n",
       "    <tr>\n",
       "      <th>pourboire</th>\n",
       "      <td>0.675734</td>\n",
       "      <td>1.000000</td>\n",
       "      <td>0.489299</td>\n",
       "    </tr>\n",
       "    <tr>\n",
       "      <th>size</th>\n",
       "      <td>0.598315</td>\n",
       "      <td>0.489299</td>\n",
       "      <td>1.000000</td>\n",
       "    </tr>\n",
       "  </tbody>\n",
       "</table>\n",
       "</div>"
      ],
      "text/plain": [
       "            facture  pourboire      size\n",
       "facture    1.000000   0.675734  0.598315\n",
       "pourboire  0.675734   1.000000  0.489299\n",
       "size       0.598315   0.489299  1.000000"
      ]
     },
     "execution_count": 74,
     "metadata": {},
     "output_type": "execute_result"
    }
   ],
   "source": [
    "donn.corr()"
   ]
  },
  {
   "cell_type": "markdown",
   "metadata": {},
   "source": [
    "- Calculer la correlation entre deux variables du jeu de données."
   ]
  },
  {
   "cell_type": "code",
   "execution_count": 75,
   "metadata": {},
   "outputs": [
    {
     "data": {
      "text/plain": [
       "0.6757341092113641"
      ]
     },
     "execution_count": 75,
     "metadata": {},
     "output_type": "execute_result"
    }
   ],
   "source": [
    "donn.facture.corr(donn.pourboire)"
   ]
  },
  {
   "cell_type": "markdown",
   "metadata": {},
   "source": [
    "- Calculer la covarriance entre deux variables du jeu de données."
   ]
  },
  {
   "cell_type": "code",
   "execution_count": 76,
   "metadata": {},
   "outputs": [
    {
     "data": {
      "text/plain": [
       "8.323501629224854"
      ]
     },
     "execution_count": 76,
     "metadata": {},
     "output_type": "execute_result"
    }
   ],
   "source": [
    "donn.facture.cov(donn.pourboire)"
   ]
  },
  {
   "cell_type": "markdown",
   "metadata": {},
   "source": [
    "\n",
    "### Nuage de points\n",
    "\n",
    "- Afficher le nuage des points des deux variables X=facture et Y=pourboire"
   ]
  },
  {
   "cell_type": "code",
   "execution_count": 77,
   "metadata": {},
   "outputs": [
    {
     "data": {
      "text/plain": [
       "<matplotlib.axes._subplots.AxesSubplot at 0x29e6c2c8430>"
      ]
     },
     "execution_count": 77,
     "metadata": {},
     "output_type": "execute_result"
    },
    {
     "data": {
      "image/png": "[encoded data removed]",
      "text/plain": [
       "<Figure size 432x288 with 1 Axes>"
      ]
     },
     "metadata": {
      "needs_background": "light"
     },
     "output_type": "display_data"
    }
   ],
   "source": [
    "donn.plot.scatter(\"facture\", \"pourboire\")"
   ]
  },
  {
   "cell_type": "markdown",
   "metadata": {},
   "source": [
    "\n",
    "### Qualitative\n"
   ]
  },
  {
   "cell_type": "markdown",
   "metadata": {},
   "source": [
    "```python\n",
    "pandas.crosstab(index, columns, values=None, rownames=None, \n",
    "        colnames=None, aggfunc=None, margins=False, margins_name='All', dropna=True, normalize=False)\n",
    "```"
   ]
  },
  {
   "cell_type": "code",
   "execution_count": 128,
   "metadata": {},
   "outputs": [
    {
     "name": "stdout",
     "output_type": "stream",
     "text": [
      "sex     Female  Male\n",
      "Fumeur              \n",
      "No          54    97\n",
      "Yes         33    60 \n",
      "\n",
      "sex     Female  Male\n",
      "Fumeur              \n",
      "No          54    97\n",
      "Yes         33    60\n"
     ]
    }
   ],
   "source": [
    "\n",
    "# Afficher la table croisée du nombre des fumeurs et non fumeurs selon leur sex dans le jeux de données\n",
    "\n",
    "print(pd.crosstab(donn['Fumeur'],donn['sex']), \"\\n\")\n",
    "# ou\n",
    "print(pd.crosstab(donn.Fumeur,donn.sex))\n"
   ]
  },
  {
   "cell_type": "code",
   "execution_count": 126,
   "metadata": {},
   "outputs": [
    {
     "name": "stdout",
     "output_type": "stream",
     "text": [
      "sex     Female  Male  All\n",
      "Fumeur                   \n",
      "No          54    97  151\n",
      "Yes         33    60   93\n",
      "All         87   157  244\n"
     ]
    }
   ],
   "source": [
    "\n",
    "# Afficher la table croisée du nombre des fumeurs et non fumeurs selon leur sex avec le nombre total de chaque ligne/colonne dans le jeux de données\n",
    "\n",
    "print(pd.crosstab(donn.Fumeur,donn.sex, margins=True))\n"
   ]
  },
  {
   "cell_type": "code",
   "execution_count": 113,
   "metadata": {},
   "outputs": [
    {
     "name": "stdout",
     "output_type": "stream",
     "text": [
      "sex       Female      Male\n",
      "Fumeur                    \n",
      "No      0.221311  0.397541\n",
      "Yes     0.135246  0.245902 \n",
      "\n",
      "sex       Female      Male\n",
      "Fumeur                    \n",
      "No      0.221311  0.397541\n",
      "Yes     0.135246  0.245902\n"
     ]
    }
   ],
   "source": [
    "\n",
    "# Afficher la table croisée normalisée du nombre des fumeurs et non fumeurs selon leur sex dans le jeux de données\n",
    "print(pd.crosstab(donn.Fumeur, donn.sex, normalize=True))"
   ]
  },
  {
   "cell_type": "code",
   "execution_count": 130,
   "metadata": {},
   "outputs": [],
   "source": [
    "# Afficher la moyenne des factures, pourboires et size selon la variable sex\n"
   ]
  },
  {
   "cell_type": "code",
   "execution_count": 131,
   "metadata": {},
   "outputs": [
    {
     "name": "stdout",
     "output_type": "stream",
     "text": [
      "          facture  pourboire      size\n",
      "sex                                   \n",
      "Female  18.056897   2.833448  2.459770\n",
      "Male    20.744076   3.089618  2.630573 \n",
      "\n",
      "          facture  pourboire      size\n",
      "sex                                   \n",
      "Female  18.056897   2.833448  2.459770\n",
      "Male    20.744076   3.089618  2.630573\n"
     ]
    }
   ],
   "source": [
    "\n",
    "# Afficher la moyenne des factures, pourboires, size groupée par sex\n",
    "\n",
    "print(donn.groupby(\"sex\").mean(), \"\\n\")\n",
    "print(donn.groupby(\"sex\").agg(np.mean))"
   ]
  },
  {
   "cell_type": "code",
   "execution_count": 132,
   "metadata": {},
   "outputs": [
    {
     "name": "stdout",
     "output_type": "stream",
     "text": [
      "             mean       std  median  amin   amax\n",
      "sex                                             \n",
      "Female  18.056897  8.009209   16.40  3.07  44.30\n",
      "Male    20.744076  9.246469   18.35  7.25  50.81\n"
     ]
    }
   ],
   "source": [
    "\n",
    "\n",
    "# Afficher la moyenne, l'écart-type, médiane, min et max de la variable facture groupés par sex\n",
    "\n",
    "print(donn.groupby(\"sex\")[\"facture\"].agg([np.mean, np.std, np.median, np.min, np.max]))"
   ]
  },
  {
   "cell_type": "code",
   "execution_count": 133,
   "metadata": {},
   "outputs": [
    {
     "data": {
      "text/plain": [
       "array([<matplotlib.axes._subplots.AxesSubplot object at 0x0000029E6CC46A00>,\n",
       "       <matplotlib.axes._subplots.AxesSubplot object at 0x0000029E6CEB19A0>],\n",
       "      dtype=object)"
      ]
     },
     "execution_count": 133,
     "metadata": {},
     "output_type": "execute_result"
    },
    {
     "data": {
      "image/png": "[encoded data removed]",
      "text/plain": [
       "<Figure size 432x288 with 2 Axes>"
      ]
     },
     "metadata": {
      "needs_background": "light"
     },
     "output_type": "display_data"
    }
   ],
   "source": [
    "\n",
    "# Afficher les deux histogrammes de la variable facture selon le sex\n",
    "donn.hist(column = \"facture\", by = \"sex\")"
   ]
  },
  {
   "cell_type": "code",
   "execution_count": 134,
   "metadata": {},
   "outputs": [
    {
     "data": {
      "text/plain": [
       "array([[<matplotlib.axes._subplots.AxesSubplot object at 0x0000029E6C70E6A0>,\n",
       "        <matplotlib.axes._subplots.AxesSubplot object at 0x0000029E6CF639A0>],\n",
       "       [<matplotlib.axes._subplots.AxesSubplot object at 0x0000029E6CF83970>,\n",
       "        <matplotlib.axes._subplots.AxesSubplot object at 0x0000029E6CFB0820>]],\n",
       "      dtype=object)"
      ]
     },
     "execution_count": 134,
     "metadata": {},
     "output_type": "execute_result"
    },
    {
     "data": {
      "image/png": "[encoded data removed]",
      "text/plain": [
       "<Figure size 432x288 with 4 Axes>"
      ]
     },
     "metadata": {
      "needs_background": "light"
     },
     "output_type": "display_data"
    }
   ],
   "source": [
    "\n",
    "# Afficher les boites à moustache de toutes les variables (facture, pourboire, size) selon le sex\n",
    "\n",
    "donn.boxplot(by = \"sex\")"
   ]
  },
  {
   "cell_type": "markdown",
   "metadata": {},
   "source": [
    "\n",
    "### Diagramme en barres\n"
   ]
  },
  {
   "cell_type": "code",
   "execution_count": 135,
   "metadata": {},
   "outputs": [
    {
     "data": {
      "text/plain": [
       "array([<matplotlib.axes._subplots.AxesSubplot object at 0x0000029E6D0A8D30>,\n",
       "       <matplotlib.axes._subplots.AxesSubplot object at 0x0000029E6E0BB850>],\n",
       "      dtype=object)"
      ]
     },
     "execution_count": 135,
     "metadata": {},
     "output_type": "execute_result"
    },
    {
     "data": {
      "image/png": "[encoded data removed]",
      "text/plain": [
       "<Figure size 432x288 with 2 Axes>"
      ]
     },
     "metadata": {
      "needs_background": "light"
     },
     "output_type": "display_data"
    }
   ],
   "source": [
    "\n",
    "# Afficher le diagramme en barres du nombre des fumeurs et non fumeurs selon leur sex\n",
    "donn.hist(column = \"Fumeur\", by = \"sex\")\n"
   ]
  },
  {
   "cell_type": "code",
   "execution_count": 102,
   "metadata": {},
   "outputs": [
    {
     "data": {
      "text/plain": [
       "array([<matplotlib.axes._subplots.AxesSubplot object at 0x0000029E6C6416D0>,\n",
       "       <matplotlib.axes._subplots.AxesSubplot object at 0x0000029E6C2CE3D0>],\n",
       "      dtype=object)"
      ]
     },
     "execution_count": 102,
     "metadata": {},
     "output_type": "execute_result"
    },
    {
     "data": {
      "image/png": "[encoded data removed]",
      "text/plain": [
       "<Figure size 432x288 with 2 Axes>"
      ]
     },
     "metadata": {
      "needs_background": "light"
     },
     "output_type": "display_data"
    }
   ],
   "source": [
    "\n",
    "# Afficher le diagramme en barres du nombre des fumeurs et non fumeurs selon leur sex normalisé\n",
    "donn.hist(column = \"sex\", by = \"Fumeur\", density = True)\n"
   ]
  },
  {
   "cell_type": "code",
   "execution_count": null,
   "metadata": {},
   "outputs": [],
   "source": []
  }
 ],
 "metadata": {
  "kernelspec": {
   "display_name": "Python 3",
   "language": "python",
   "name": "python3"
  },
  "language_info": {
   "codemirror_mode": {
    "name": "ipython",
    "version": 3
   },
   "file_extension": ".py",
   "mimetype": "text/x-python",
   "name": "python",
   "nbconvert_exporter": "python",
   "pygments_lexer": "ipython3",
   "version": "3.8.3"
  }
 },
 "nbformat": 4,
 "nbformat_minor": 1
}
