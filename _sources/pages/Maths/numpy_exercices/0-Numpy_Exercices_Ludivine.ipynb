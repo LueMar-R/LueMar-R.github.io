{
 "cells": [
  {
   "cell_type": "markdown",
   "metadata": {},
   "source": [
    "<h1><center> Exercices Numpy </center></h1>\n"
   ]
  },
  {
   "cell_type": "markdown",
   "metadata": {},
   "source": [
    "## 1. Importez le package numpy sous le nom np"
   ]
  },
  {
   "cell_type": "code",
   "execution_count": 4,
   "metadata": {},
   "outputs": [],
   "source": [
    "import numpy as np"
   ]
  },
  {
   "cell_type": "markdown",
   "metadata": {},
   "source": [
    "## 2. Créer un vecteur des valeurs 0 de taille 100"
   ]
  },
  {
   "cell_type": "code",
   "execution_count": 6,
   "metadata": {},
   "outputs": [],
   "source": [
    "# Résultat attendu\n",
    "# [0. 0. 0. 0. 0. 0. 0. 0. 0. 0. 0. 0. 0. 0. 0. 0. 0. 0. 0. 0. 0. 0. 0. 0.\n",
    "#  0. 0. 0. 0. 0. 0. 0. 0. 0. 0. 0. 0. 0. 0. 0. 0. 0. 0. 0. 0. 0. 0. 0. 0.\n",
    "#  0. 0. 0. 0. 0. 0. 0. 0. 0. 0. 0. 0. 0. 0. 0. 0. 0. 0. 0. 0. 0. 0. 0. 0.\n",
    "#  0. 0. 0. 0. 0. 0. 0. 0. 0. 0. 0. 0. 0. 0. 0. 0. 0. 0. 0. 0. 0. 0. 0. 0.\n",
    "#  0. 0. 0. 0.]\n"
   ]
  },
  {
   "cell_type": "code",
   "execution_count": 10,
   "metadata": {},
   "outputs": [
    {
     "data": {
      "text/plain": [
       "array([[0., 0., 0., 0., 0., 0., 0., 0., 0., 0., 0., 0., 0., 0., 0., 0.,\n",
       "        0., 0., 0., 0., 0., 0., 0., 0., 0., 0., 0., 0., 0., 0., 0., 0.,\n",
       "        0., 0., 0., 0., 0., 0., 0., 0., 0., 0., 0., 0., 0., 0., 0., 0.,\n",
       "        0., 0., 0., 0., 0., 0., 0., 0., 0., 0., 0., 0., 0., 0., 0., 0.,\n",
       "        0., 0., 0., 0., 0., 0., 0., 0., 0., 0., 0., 0., 0., 0., 0., 0.,\n",
       "        0., 0., 0., 0., 0., 0., 0., 0., 0., 0., 0., 0., 0., 0., 0., 0.,\n",
       "        0., 0., 0., 0.]])"
      ]
     },
     "execution_count": 10,
     "metadata": {},
     "output_type": "execute_result"
    }
   ],
   "source": [
    "np.zeros([1,100])"
   ]
  },
  {
   "cell_type": "markdown",
   "metadata": {},
   "source": [
    "## 3. Créez un vecteur nul de taille 10 mais la cinquième valeur qui est 1"
   ]
  },
  {
   "cell_type": "code",
   "execution_count": 11,
   "metadata": {},
   "outputs": [],
   "source": [
    "# Résultat attendu [0. 0. 0. 0. 1. 0. 0. 0. 0. 0.]\n"
   ]
  },
  {
   "cell_type": "code",
   "execution_count": 17,
   "metadata": {},
   "outputs": [
    {
     "data": {
      "text/plain": [
       "array([[0., 0., 0., 0., 1., 0., 0., 0., 0., 0.]])"
      ]
     },
     "execution_count": 17,
     "metadata": {},
     "output_type": "execute_result"
    }
   ],
   "source": [
    "a = np.zeros([1,10])\n",
    "a[0,4] = 1.\n",
    "a"
   ]
  },
  {
   "cell_type": "markdown",
   "metadata": {},
   "source": [
    "## 4. Créez un vecteur avec des valeurs allant de 10 à 49"
   ]
  },
  {
   "cell_type": "code",
   "execution_count": 18,
   "metadata": {},
   "outputs": [],
   "source": [
    "# [10 11 12 13 14 15 16 17 18 19 20 21 22 23 24 25 26 27 28 29 30 31 32 33\n",
    "#  34 35 36 37 38 39 40 41 42 43 44 45 46 47 48 49]"
   ]
  },
  {
   "cell_type": "code",
   "execution_count": 20,
   "metadata": {},
   "outputs": [
    {
     "data": {
      "text/plain": [
       "array([10, 11, 12, 13, 14, 15, 16, 17, 18, 19, 20, 21, 22, 23, 24, 25, 26,\n",
       "       27, 28, 29, 30, 31, 32, 33, 34, 35, 36, 37, 38, 39, 40, 41, 42, 43,\n",
       "       44, 45, 46, 47, 48, 49])"
      ]
     },
     "execution_count": 20,
     "metadata": {},
     "output_type": "execute_result"
    }
   ],
   "source": [
    "b = np.arange(10, 50, 1)\n",
    "b"
   ]
  },
  {
   "cell_type": "markdown",
   "metadata": {},
   "source": [
    "## 5. Créer et Inverser un vecteur "
   ]
  },
  {
   "cell_type": "code",
   "execution_count": 27,
   "metadata": {},
   "outputs": [
    {
     "data": {
      "text/plain": [
       "array([49, 48, 47, 46, 45, 44, 43, 42, 41, 40, 39, 38, 37, 36, 35, 34, 33,\n",
       "       32, 31, 30, 29, 28, 27, 26, 25, 24, 23, 22, 21, 20, 19, 18, 17, 16,\n",
       "       15, 14, 13, 12, 11, 10])"
      ]
     },
     "execution_count": 27,
     "metadata": {},
     "output_type": "execute_result"
    }
   ],
   "source": [
    "b[::-1]"
   ]
  },
  {
   "cell_type": "markdown",
   "metadata": {},
   "source": [
    "## 6. Créez un vecteur aléatoire de taille 30 et trouvez la valeur moyenne"
   ]
  },
  {
   "cell_type": "code",
   "execution_count": 36,
   "metadata": {},
   "outputs": [
    {
     "name": "stdout",
     "output_type": "stream",
     "text": [
      "[-41  66  88  -8 -73  91 -53  21  43 -51  89   1 -62 -42  -1 -33  58  -1\n",
      "   2   1  43   3 -76  87  81  57 -12   0  24 -71]\n"
     ]
    },
    {
     "data": {
      "text/plain": [
       "7.7"
      ]
     },
     "execution_count": 36,
     "metadata": {},
     "output_type": "execute_result"
    }
   ],
   "source": [
    "c = np.random.randint(-100,100,30)\n",
    "print(c)\n",
    "np.mean(c)"
   ]
  },
  {
   "cell_type": "code",
   "execution_count": 37,
   "metadata": {},
   "outputs": [
    {
     "name": "stdout",
     "output_type": "stream",
     "text": [
      "[0.18328535 0.57393321 0.39573942 0.64977247 0.25459299 0.79033553\n",
      " 0.84900914 0.98406924 0.23721935 0.70409923 0.23582012 0.92448276\n",
      " 0.82940974 0.80790226 0.39401454 0.45189246 0.74450562 0.30146584\n",
      " 0.62096681 0.28120378 0.84144261 0.2628697  0.08397893 0.05123914\n",
      " 0.73966157 0.00642516 0.43035082 0.53541114 0.0604945  0.0968525 ]\n"
     ]
    },
    {
     "data": {
      "text/plain": [
       "0.47741486529193544"
      ]
     },
     "execution_count": 37,
     "metadata": {},
     "output_type": "execute_result"
    }
   ],
   "source": [
    "c = np.random.rand(30)\n",
    "print(c)\n",
    "np.mean(c)"
   ]
  },
  {
   "cell_type": "markdown",
   "metadata": {},
   "source": [
    "## 7. Rechercher des indices d'éléments non nuls à partir de [0,3,1,2,0,0,4,0]"
   ]
  },
  {
   "cell_type": "code",
   "execution_count": 50,
   "metadata": {},
   "outputs": [],
   "source": [
    "# Exemple [0,3,1,2,0,0,4,0]==> résultat [1, 2, 3, 6]\n",
    "d = np.array([0,3,1,2,0,0,4,0])"
   ]
  },
  {
   "cell_type": "code",
   "execution_count": 51,
   "metadata": {},
   "outputs": [
    {
     "data": {
      "text/plain": [
       "(array([1, 2, 3, 6], dtype=int64),)"
      ]
     },
     "execution_count": 51,
     "metadata": {},
     "output_type": "execute_result"
    }
   ],
   "source": [
    "\n",
    "np.where(d!=0)"
   ]
  },
  {
   "cell_type": "code",
   "execution_count": 52,
   "metadata": {},
   "outputs": [
    {
     "data": {
      "text/plain": [
       "(array([1, 2, 3, 6], dtype=int64),)"
      ]
     },
     "execution_count": 52,
     "metadata": {},
     "output_type": "execute_result"
    }
   ],
   "source": [
    "np.nonzero(d)"
   ]
  },
  {
   "cell_type": "markdown",
   "metadata": {},
   "source": [
    "## 8. Étant donné un tableau 1D, négativez tous les éléments qui sont entre 2 et 7."
   ]
  },
  {
   "cell_type": "code",
   "execution_count": 5,
   "metadata": {},
   "outputs": [
    {
     "name": "stdout",
     "output_type": "stream",
     "text": [
      "[ 0  1  2  3  4  5  6  7  8  9 10]\n",
      "[ 0  1  2 -3 -4 -5 -6  7  8  9 10]\n"
     ]
    }
   ],
   "source": [
    "#Exemple [ 0  1  2  3  4  5  6  7  8  9 10] ==> résultat [ 0  1  2 -3 -4 -5 -6  7  8  9 10]\n",
    "e = np.arange(11)\n",
    "print(e)\n",
    "\n",
    "e[(2 < e) & (e < 7)] *= -1\n",
    "print(e)\n",
    "\n",
    "#np.where(np.logical_and(e>=2, e<=7), e, -1*e)\n",
    "#np.where(e>=2, e, -1*e)"
   ]
  },
  {
   "cell_type": "markdown",
   "metadata": {},
   "source": [
    "## 9. Comment extraire tous les nombres entre une intervalle donné d'un tableau numpy?"
   ]
  },
  {
   "cell_type": "code",
   "execution_count": 7,
   "metadata": {},
   "outputs": [
    {
     "data": {
      "text/plain": [
       "array([6, 9])"
      ]
     },
     "execution_count": 7,
     "metadata": {},
     "output_type": "execute_result"
    }
   ],
   "source": [
    "# Exemple [2, 6, 1, 9, 10, 3, 27] ==> résultat  pour l'intervalle ]5,10[  ==>    [6, 9]\n",
    "f = np.array([2, 6, 1, 9, 10, 3, 27])\n",
    "\n",
    "f[np.where(np.logical_and(f>=5, f<10))]"
   ]
  },
  {
   "cell_type": "code",
   "execution_count": 8,
   "metadata": {},
   "outputs": [
    {
     "data": {
      "text/plain": [
       "array([6, 9])"
      ]
     },
     "execution_count": 8,
     "metadata": {},
     "output_type": "execute_result"
    }
   ],
   "source": [
    "f[(f > 5) & (f < 10)]"
   ]
  },
  {
   "cell_type": "markdown",
   "metadata": {},
   "source": [
    "## 10. Comment trouver des valeurs communes entre deux tableaux?"
   ]
  },
  {
   "cell_type": "code",
   "execution_count": 9,
   "metadata": {},
   "outputs": [
    {
     "data": {
      "text/plain": [
       "array([ 2, 10, 27])"
      ]
     },
     "execution_count": 9,
     "metadata": {},
     "output_type": "execute_result"
    }
   ],
   "source": [
    "# Exemple T1=[8 2 8 4 8 0 9 7 4 2] et T2 =[1 7 2 3 2 0 1 2 8 7] ==> resultat [0 2 7 8]\n",
    "f2 = np.array([2, 0, -1, -9, 10, 4, 27])\n",
    "\n",
    "f[(f == f2)]"
   ]
  },
  {
   "cell_type": "code",
   "execution_count": 10,
   "metadata": {},
   "outputs": [
    {
     "name": "stdout",
     "output_type": "stream",
     "text": [
      "[ 2 10 27]\n"
     ]
    }
   ],
   "source": [
    "print(np.intersect1d(f,f2))"
   ]
  },
  {
   "cell_type": "markdown",
   "metadata": {},
   "source": [
    "##  11. Comment concaténer deux tableaux verticalment & horizontalement"
   ]
  },
  {
   "cell_type": "code",
   "execution_count": 38,
   "metadata": {},
   "outputs": [
    {
     "name": "stdout",
     "output_type": "stream",
     "text": [
      "[[0 1 2 3 4]\n",
      " [5 6 7 8 9]]\n",
      "[0 1 2 3 4 5 6 7 8 9]\n"
     ]
    }
   ],
   "source": [
    "# A = [0, 1, 2, 3, 4]        \n",
    "# B = [5, 6, 7, 8, 9]\n",
    "\n",
    "# Vertical\n",
    "# [[0 1 2 3 4]\n",
    "#  [5 6 7 8 9]]\n",
    "\n",
    "# Horizontal\n",
    "# [0 1 2 3 4 5 6 7 8 9]\n"
   ]
  },
  {
   "cell_type": "code",
   "execution_count": 15,
   "metadata": {},
   "outputs": [
    {
     "name": "stdout",
     "output_type": "stream",
     "text": [
      "[0 1 2 3 4 5 6 7 8 9]\n",
      "[0 1 2 3 4 5 6 7 8 9]\n",
      "[[0 1 2 3 4]\n",
      " [5 6 7 8 9]]\n",
      "[[0 1 2 3 4]\n",
      " [5 6 7 8 9]]\n"
     ]
    }
   ],
   "source": [
    "A = [0, 1, 2, 3, 4]       \n",
    "B = [5, 6, 7, 8, 9]\n",
    "\n",
    "horizontal = np.concatenate((A,B), axis=0)\n",
    "print(horizontal)\n",
    "\n",
    "horizontal2 = np.hstack((A,B))\n",
    "print(horizontal)\n",
    "\n",
    "\n",
    "vertical = np.stack((A,B), axis=0)\n",
    "print(vertical)\n",
    "vertical2 = np.vstack((A,B))\n",
    "print(vertical)"
   ]
  },
  {
   "cell_type": "markdown",
   "metadata": {},
   "source": [
    "## 12. Créer une matrice alétoire de taille (6,4)"
   ]
  },
  {
   "cell_type": "code",
   "execution_count": 135,
   "metadata": {},
   "outputs": [
    {
     "data": {
      "text/plain": [
       "array([[ 0.61924962, -0.05212241,  0.65678214,  0.91420908],\n",
       "       [-1.09953597, -0.31138348, -1.09388498, -0.70896561],\n",
       "       [ 0.82945244, -2.46797901,  0.02240707, -0.81735862],\n",
       "       [ 1.30583578, -0.53705786, -0.01975698, -0.38812878],\n",
       "       [ 0.25135056,  1.01265399,  0.09057453,  1.29960841],\n",
       "       [-0.48695742,  1.96688872,  1.61949789, -0.9936187 ]])"
      ]
     },
     "execution_count": 135,
     "metadata": {},
     "output_type": "execute_result"
    }
   ],
   "source": [
    "g = np.random.randn(6,4)\n",
    "g"
   ]
  },
  {
   "cell_type": "markdown",
   "metadata": {},
   "source": [
    "## 13. Faire le transposé une matrice "
   ]
  },
  {
   "cell_type": "code",
   "execution_count": 136,
   "metadata": {},
   "outputs": [
    {
     "name": "stdout",
     "output_type": "stream",
     "text": [
      "[[ 0.61924962 -1.09953597  0.82945244  1.30583578  0.25135056 -0.48695742]\n",
      " [-0.05212241 -0.31138348 -2.46797901 -0.53705786  1.01265399  1.96688872]\n",
      " [ 0.65678214 -1.09388498  0.02240707 -0.01975698  0.09057453  1.61949789]\n",
      " [ 0.91420908 -0.70896561 -0.81735862 -0.38812878  1.29960841 -0.9936187 ]]\n"
     ]
    }
   ],
   "source": [
    "# [[1 4 3 1]\n",
    "#  [3 3 3 1]]\n",
    "\n",
    "\n",
    "#Résultat\n",
    "# [[1 3]\n",
    "#  [4 3]\n",
    "#  [3 3]\n",
    "#  [1 1]]\n",
    "\n",
    "print(g.T)"
   ]
  },
  {
   "cell_type": "markdown",
   "metadata": {},
   "source": [
    "## 14. Créer une matrice d'identité de taille 3x3"
   ]
  },
  {
   "cell_type": "code",
   "execution_count": 143,
   "metadata": {},
   "outputs": [
    {
     "data": {
      "text/plain": [
       "array([[1., 0., 0.],\n",
       "       [0., 1., 0.],\n",
       "       [0., 0., 1.]])"
      ]
     },
     "execution_count": 143,
     "metadata": {},
     "output_type": "execute_result"
    }
   ],
   "source": [
    "# [[1. 0. 0.]\n",
    "#  [0. 1. 0.]\n",
    "#  [0. 0. 1.]]\n",
    "\n",
    "h = np.eye(3,3)\n",
    "h"
   ]
  },
  {
   "cell_type": "markdown",
   "metadata": {},
   "source": [
    "## 15. Créer un tableau 3x5x5 avec des valeurs aléatoires"
   ]
  },
  {
   "cell_type": "code",
   "execution_count": 16,
   "metadata": {},
   "outputs": [
    {
     "data": {
      "text/plain": [
       "array([[[0.21897911, 0.0529576 , 0.65051569, 0.0955033 , 0.67180407],\n",
       "        [0.81093847, 0.85160873, 0.70446392, 0.18926945, 0.31023746],\n",
       "        [0.04851101, 0.93279194, 0.33104047, 0.59182309, 0.4485337 ],\n",
       "        [0.74634802, 0.53602852, 0.09244792, 0.53623717, 0.01107223],\n",
       "        [0.3185185 , 0.74728062, 0.87630629, 0.36778016, 0.97435536]],\n",
       "\n",
       "       [[0.87559303, 0.89287898, 0.05156544, 0.07882536, 0.7528546 ],\n",
       "        [0.98108752, 0.69026542, 0.17664293, 0.82965455, 0.21824105],\n",
       "        [0.3308885 , 0.76374559, 0.86183448, 0.77960928, 0.47616974],\n",
       "        [0.41044667, 0.88577151, 0.83351893, 0.55967083, 0.45607593],\n",
       "        [0.86960033, 0.78373328, 0.21891959, 0.69476395, 0.17882736]],\n",
       "\n",
       "       [[0.47967394, 0.14208689, 0.51983586, 0.3062365 , 0.45552441],\n",
       "        [0.81058293, 0.71661902, 0.4459921 , 0.71972252, 0.08126091],\n",
       "        [0.15170434, 0.90446608, 0.11798392, 0.80399239, 0.29257254],\n",
       "        [0.06093621, 0.32953949, 0.25050398, 0.58471017, 0.30955892],\n",
       "        [0.7405571 , 0.72652652, 0.20811488, 0.93226799, 0.78374463]]])"
      ]
     },
     "execution_count": 16,
     "metadata": {},
     "output_type": "execute_result"
    }
   ],
   "source": [
    "j = np.random.random((3,5,5))\n",
    "j"
   ]
  },
  {
   "cell_type": "markdown",
   "metadata": {},
   "source": [
    "## 16. Créez un tableau 10x10 avec des valeurs aléatoires et trouvez les valeurs minimum et maximum"
   ]
  },
  {
   "cell_type": "code",
   "execution_count": 22,
   "metadata": {},
   "outputs": [
    {
     "data": {
      "text/plain": [
       "array([[0.39199757, 0.82444283, 0.82673688, 0.86822535, 0.88491809,\n",
       "        0.27582512, 0.40447145, 0.86967358, 0.87689508, 0.51337649],\n",
       "       [0.29599672, 0.91954887, 0.66319446, 0.40312943, 0.69407987,\n",
       "        0.07044799, 0.23812318, 0.76620414, 0.58821288, 0.32407795],\n",
       "       [0.48516323, 0.59128449, 0.69559318, 0.59300382, 0.04386841,\n",
       "        0.32174837, 0.01136079, 0.88825108, 0.1233696 , 0.02725251],\n",
       "       [0.34524349, 0.73160579, 0.22072363, 0.11584007, 0.89092412,\n",
       "        0.98012349, 0.2350418 , 0.17026145, 0.27860592, 0.68191593],\n",
       "       [0.17180264, 0.34687072, 0.38331415, 0.86719493, 0.38412165,\n",
       "        0.33887046, 0.26267373, 0.77937246, 0.66437094, 0.74608106],\n",
       "       [0.12586893, 0.5064881 , 0.64722852, 0.82652946, 0.53689863,\n",
       "        0.08615396, 0.30636902, 0.60404395, 0.6354178 , 0.88396465],\n",
       "       [0.40709058, 0.27699995, 0.84948272, 0.62590181, 0.80323091,\n",
       "        0.96943768, 0.863978  , 0.71321927, 0.83678938, 0.81055511],\n",
       "       [0.12680319, 0.66347476, 0.1618343 , 0.35645118, 0.35969877,\n",
       "        0.39697009, 0.13587152, 0.25275635, 0.82291587, 0.96107564],\n",
       "       [0.43043763, 0.62387883, 0.70130762, 0.86887096, 0.14956049,\n",
       "        0.14935035, 0.28878296, 0.98884211, 0.83602137, 0.2225407 ],\n",
       "       [0.84415579, 0.11879795, 0.37993617, 0.101493  , 0.25973897,\n",
       "        0.20265353, 0.25631932, 0.2015237 , 0.2021794 , 0.87970152]])"
      ]
     },
     "execution_count": 22,
     "metadata": {},
     "output_type": "execute_result"
    }
   ],
   "source": [
    "j = np.random.rand(10,10)\n",
    "j"
   ]
  },
  {
   "cell_type": "code",
   "execution_count": 23,
   "metadata": {},
   "outputs": [
    {
     "data": {
      "text/plain": [
       "0.011360791652553215"
      ]
     },
     "execution_count": 23,
     "metadata": {},
     "output_type": "execute_result"
    }
   ],
   "source": [
    "np.min(j)"
   ]
  },
  {
   "cell_type": "code",
   "execution_count": 24,
   "metadata": {},
   "outputs": [
    {
     "data": {
      "text/plain": [
       "0.9888421131899706"
      ]
     },
     "execution_count": 24,
     "metadata": {},
     "output_type": "execute_result"
    }
   ],
   "source": [
    "np.max(j)"
   ]
  },
  {
   "cell_type": "markdown",
   "metadata": {},
   "source": [
    "## 17. Créez un tableau 2D avec 1 sur les extrémités et 0 à l'intérieur"
   ]
  },
  {
   "cell_type": "code",
   "execution_count": 25,
   "metadata": {},
   "outputs": [
    {
     "name": "stdout",
     "output_type": "stream",
     "text": [
      "[[1. 1. 1. 1. 1. 1. 1. 1. 1. 1.]\n",
      " [1. 0. 0. 0. 0. 0. 0. 0. 0. 1.]\n",
      " [1. 0. 0. 0. 0. 0. 0. 0. 0. 1.]\n",
      " [1. 0. 0. 0. 0. 0. 0. 0. 0. 1.]\n",
      " [1. 0. 0. 0. 0. 0. 0. 0. 0. 1.]\n",
      " [1. 0. 0. 0. 0. 0. 0. 0. 0. 1.]\n",
      " [1. 0. 0. 0. 0. 0. 0. 0. 0. 1.]\n",
      " [1. 0. 0. 0. 0. 0. 0. 0. 0. 1.]\n",
      " [1. 0. 0. 0. 0. 0. 0. 0. 0. 1.]\n",
      " [1. 1. 1. 1. 1. 1. 1. 1. 1. 1.]]\n"
     ]
    }
   ],
   "source": [
    "Z = np.ones((10,10))\n",
    "Z[1:-1,1:-1] = 0\n",
    "print(Z)"
   ]
  },
  {
   "cell_type": "code",
   "execution_count": 27,
   "metadata": {},
   "outputs": [
    {
     "name": "stdout",
     "output_type": "stream",
     "text": [
      "[[0. 0. 0. 0. 0. 0. 0. 0.]\n",
      " [0. 0. 0. 0. 0. 0. 0. 0.]\n",
      " [0. 0. 0. 0. 0. 0. 0. 0.]\n",
      " [0. 0. 0. 0. 0. 0. 0. 0.]\n",
      " [0. 0. 0. 0. 0. 0. 0. 0.]\n",
      " [0. 0. 0. 0. 0. 0. 0. 0.]\n",
      " [0. 0. 0. 0. 0. 0. 0. 0.]\n",
      " [0. 0. 0. 0. 0. 0. 0. 0.]]\n",
      "[[1. 1. 1. 1. 1. 1. 1. 1. 1. 1.]\n",
      " [1. 0. 0. 0. 0. 0. 0. 0. 0. 1.]\n",
      " [1. 0. 0. 0. 0. 0. 0. 0. 0. 1.]\n",
      " [1. 0. 0. 0. 0. 0. 0. 0. 0. 1.]\n",
      " [1. 0. 0. 0. 0. 0. 0. 0. 0. 1.]\n",
      " [1. 0. 0. 0. 0. 0. 0. 0. 0. 1.]\n",
      " [1. 0. 0. 0. 0. 0. 0. 0. 0. 1.]\n",
      " [1. 0. 0. 0. 0. 0. 0. 0. 0. 1.]\n",
      " [1. 0. 0. 0. 0. 0. 0. 0. 0. 1.]\n",
      " [1. 1. 1. 1. 1. 1. 1. 1. 1. 1.]]\n"
     ]
    }
   ],
   "source": [
    "k = np.zeros([8,8])\n",
    "print(k)\n",
    "print(np.pad(k,(1,1),'constant', constant_values=(1, 1)))"
   ]
  },
  {
   "cell_type": "markdown",
   "metadata": {},
   "source": [
    "## 18. Créer une matrice 5x5 avec des valeurs 1,2,3,4 juste en dessous de la diagonale"
   ]
  },
  {
   "cell_type": "code",
   "execution_count": 191,
   "metadata": {},
   "outputs": [
    {
     "data": {
      "text/plain": [
       "array([[0, 0, 0, 0, 0],\n",
       "       [1, 0, 0, 0, 0],\n",
       "       [0, 2, 0, 0, 0],\n",
       "       [0, 0, 3, 0, 0],\n",
       "       [0, 0, 0, 4, 0]])"
      ]
     },
     "execution_count": 191,
     "metadata": {},
     "output_type": "execute_result"
    }
   ],
   "source": [
    "v=np.array([1,2,3,4])\n",
    "np.diag(v,-1)"
   ]
  },
  {
   "cell_type": "markdown",
   "metadata": {},
   "source": [
    "## 19. Normaliser une matrice aléatoire 5x5"
   ]
  },
  {
   "cell_type": "code",
   "execution_count": 20,
   "metadata": {},
   "outputs": [
    {
     "name": "stdout",
     "output_type": "stream",
     "text": [
      "[[0.0650945  0.20525857 0.11716133 0.67087742 0.57168485]\n",
      " [0.14735448 0.34220235 0.65276007 0.87120328 0.23425354]\n",
      " [0.3776236  0.92831673 0.73831609 0.81550111 0.5012641 ]\n",
      " [0.07843377 0.60976242 0.50814382 0.56183294 0.29286659]\n",
      " [0.06238211 0.71709572 0.67913708 0.23247665 0.24750943]]\n",
      "================\n",
      "[[-1.44307345 -0.91639946 -1.24742954  0.83318839  0.46046696]\n",
      " [-1.13397717 -0.40182586  0.76511145  1.58592353 -0.8074493 ]\n",
      " [-0.26872859  1.8005304   1.08659278  1.37661965  0.19585721]\n",
      " [-1.39295044  0.60354549  0.22170814  0.42344789 -0.58720761]\n",
      " [-1.45326542  1.0068561   0.86422447 -0.81412605 -0.75763956]]\n"
     ]
    }
   ],
   "source": []
  },
  {
   "cell_type": "markdown",
   "metadata": {},
   "source": [
    "## 20. Multiplier une matrice 5x3 par une matrice 3x2"
   ]
  },
  {
   "cell_type": "code",
   "execution_count": 21,
   "metadata": {},
   "outputs": [
    {
     "name": "stdout",
     "output_type": "stream",
     "text": [
      "Matrice 1\n",
      "[[1. 1. 1.]\n",
      " [1. 1. 1.]\n",
      " [1. 1. 1.]\n",
      " [1. 1. 1.]\n",
      " [1. 1. 1.]]\n",
      "============\n",
      "Matrice 2\n",
      "[[1. 1.]\n",
      " [1. 1.]\n",
      " [1. 1.]]\n",
      "=====Résultat=====\n",
      "[[3. 3.]\n",
      " [3. 3.]\n",
      " [3. 3.]\n",
      " [3. 3.]\n",
      " [3. 3.]]\n"
     ]
    }
   ],
   "source": []
  },
  {
   "cell_type": "markdown",
   "metadata": {},
   "source": [
    "## 21. Comment obtenir les positions où on a les même éléments dans les deux tableaux ?"
   ]
  },
  {
   "cell_type": "code",
   "execution_count": 22,
   "metadata": {},
   "outputs": [
    {
     "name": "stdout",
     "output_type": "stream",
     "text": [
      "Tableau 1\n",
      "[1 2 3 2 3 4 3 4 5 6]\n",
      "=================\n",
      "Tableau 2\n",
      "[ 7  2 10  2  7  4  9  4  9  8]\n",
      "=====Résultat=====\n",
      "(array([1, 3, 5, 7], dtype=int64),)\n"
     ]
    }
   ],
   "source": []
  },
  {
   "cell_type": "markdown",
   "metadata": {},
   "source": [
    "## 22. Comment trouver l'index de la n ième répétition d'un élément dans un tableau 1D"
   ]
  },
  {
   "cell_type": "code",
   "execution_count": 23,
   "metadata": {},
   "outputs": [],
   "source": [
    "#n=5\n"
   ]
  },
  {
   "cell_type": "markdown",
   "metadata": {},
   "source": [
    "## 23. Comment soustraire un tableau 1d d'un tableau 2d, où chaque élément du tableau 1d soustrait de la ligne respective?"
   ]
  },
  {
   "cell_type": "code",
   "execution_count": 24,
   "metadata": {},
   "outputs": [],
   "source": [
    "# exemple matrice = [[[4,4,4],[5,5,5],[6,6,6]]]  vecteur=[2,3,4] \n",
    "\n",
    "#  resultat  \n",
    "# [[2 2 2]\n",
    "# [2 2 2]\n",
    "# [2 2 2]]\n",
    "\n"
   ]
  },
  {
   "cell_type": "markdown",
   "metadata": {},
   "source": [
    "## 24. Comment supprimer toutes les valeurs manquantes d'un tableau numpy? (avec for)"
   ]
  },
  {
   "cell_type": "code",
   "execution_count": 52,
   "metadata": {},
   "outputs": [
    {
     "name": "stdout",
     "output_type": "stream",
     "text": [
      "[ 1.  2.  3. nan  5.  6.  7. nan]\n"
     ]
    },
    {
     "data": {
      "text/plain": [
       "array([1., 2., 3., 5., 6., 7.])"
      ]
     },
     "execution_count": 52,
     "metadata": {},
     "output_type": "execute_result"
    }
   ],
   "source": []
  }
 ],
 "metadata": {
  "kernelspec": {
   "display_name": "Python 3",
   "language": "python",
   "name": "python3"
  },
  "language_info": {
   "codemirror_mode": {
    "name": "ipython",
    "version": 3
   },
   "file_extension": ".py",
   "mimetype": "text/x-python",
   "name": "python",
   "nbconvert_exporter": "python",
   "pygments_lexer": "ipython3",
   "version": "3.8.3"
  }
 },
 "nbformat": 4,
 "nbformat_minor": 1
}
