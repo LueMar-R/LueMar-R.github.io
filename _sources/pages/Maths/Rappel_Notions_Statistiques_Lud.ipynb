{
 "cells": [
  {
   "cell_type": "markdown",
   "metadata": {},
   "source": [
    "# Rappel des Notions Statistiques"
   ]
  },
  {
   "cell_type": "markdown",
   "metadata": {},
   "source": [
    "## Distribution\n",
    "\n",
    "- Definition"
   ]
  },
  {
   "cell_type": "markdown",
   "metadata": {},
   "source": [
    "Une distribution est une fonction qui associe une fréquence d'apparition à une classe de valeur. Cela permet de résumer l'information contenue dans un ensemble de données.<br>\n",
    "Une distribution est souvent associée à un graphique."
   ]
  },
  {
   "cell_type": "markdown",
   "metadata": {},
   "source": [
    "## Moyenne\n",
    "\n",
    "- Definition\n",
    "- Exemple pratique"
   ]
  },
  {
   "cell_type": "markdown",
   "metadata": {},
   "source": [
    "La moyenne $M$ est l'indicateur le plus simple pour résumer l'information fournie par un ensemble de données statistiques : elle est égale à la somme de ces données divisée par leur nombre. Elle peut donc être calculée en ne connaissant que ces deux éléments, sans connaître toute la distribution.\n",
    "\n",
    "La moyenne d'une distribution n'est pas toujours le meilleur indicateur : la médiane est souvent plus pertinente. Mais son calcul exige de connaître toute la distribution, ou en tout cas sa partie centrale.\n",
    "\n",
    "$$M =\\frac{\\sum_{i=0}^n n}{n}$$\n"
   ]
  },
  {
   "cell_type": "markdown",
   "metadata": {},
   "source": [
    "## Médiane\n",
    "\n",
    "- Definition\n",
    "- Exemple pratique"
   ]
  },
  {
   "cell_type": "markdown",
   "metadata": {},
   "source": [
    "La médiane $M_e$ d'une série statistique __ordonnée__ est une valeur qui partage la population en deux groupes de même effectif. \n",
    "\n",
    "* Si l'effectif total de la série est impair: $N=2p+1$, la médiane est la $(p+1)^{\\text{ème}}$ valeur. \n",
    "\n",
    "* Si l'effectif est pair: $N=2p$, on prend en général pour médiane la moyenne de la $p^{\\text{ème}}$ et de la $(p+1)^{\\text{ème}}$ valeur. \n",
    "\n",
    "\n",
    "Ainsi, pour une distribution de salaires, la médiane est le salaire au-dessous duquel se situent 50 % des salaires. C'est de manière équivalente le salaire au-dessus duquel se situent 50 % des salaires.\n",
    "\n",
    "De nombreuses grandeurs économiques sont limitées vers le bas et non vers le haut. Par exemple, le salaire horaire est limité vers le bas par le SMIC alors que certains salaires peuvent être très élevés. La moyenne est tirée vers le haut par les salaires élevés, même s'ils sont peu nombreux, et elle est pour cette raison généralement supérieure à la médiane.\n",
    "\n",
    "Par ailleurs, l'incertitude qui affecte les valeurs extrêmes, en particulier les valeurs élevées, se reporte sur la moyenne mais n'affecte pas la médiane. Celle-ci est de ce point de vue un indicateur plus fiable.\n"
   ]
  },
  {
   "cell_type": "markdown",
   "metadata": {},
   "source": [
    "## Variance\n",
    "\n",
    "- Definition\n",
    "- Exemple pratique"
   ]
  },
  {
   "cell_type": "markdown",
   "metadata": {},
   "source": [
    "La variance $V$ d'une série est la moyenne des carrés des écarts à la moyenne: \n",
    "\n",
    "\n",
    "$$V = \\frac{\\displaystyle\\sum_{i=1}^{n}(x_i - \\mu)^2} {n}$$"
   ]
  },
  {
   "cell_type": "markdown",
   "metadata": {},
   "source": [
    "## Écart type\n",
    "\n",
    "- Definition\n",
    "- Exemple pratique"
   ]
  },
  {
   "cell_type": "markdown",
   "metadata": {},
   "source": [
    "  L'écart-type $\\sigma$ d'une série statistique sert à mesurer la dispersion, ou l'étalement, d'un ensemble de valeurs autour de leur moyenne. Plus l'écart-type est faible, plus la population est homogène.\n",
    "  \n",
    "  L'écart type est égal à la racine carrée de la variance: \n",
    "  $$\\sigma=\\sqrt{V}$$ "
   ]
  },
  {
   "cell_type": "markdown",
   "metadata": {},
   "source": [
    "## Fonction gaussienne\n",
    "\n",
    "- Definition\n",
    "- Exemple pratique"
   ]
  },
  {
   "cell_type": "markdown",
   "metadata": {},
   "source": [
    "La fonction gaussienne ou normale est une loi de probabilité caractérisée par sa moyenne $\\mu$ et sa variance $\\sigma ^{2}$.\n",
    "\n",
    "Une variable aléatoire $x$ suivant une loi normale a pour densité de probabilité :"
   ]
  },
  {
   "cell_type": "markdown",
   "metadata": {},
   "source": [
    "$$ P(x) = \\frac{1}{\\sigma \\sqrt {2\\pi }} e^{ - ( {x - \\mu } )^2 / 2 \\sigma ^2} $$"
   ]
  },
  {
   "cell_type": "markdown",
   "metadata": {},
   "source": [
    "Cette fonction de densité, appelée courbe de Gauss, possède une forme caractéristique rappelant celle d’une cloche. Elle se répartit de manière symétrique autour de la moyenne, point où elle atteint son maximum. Elle décroît ensuite à mesure que les valeurs sont éloignées de la moyenne."
   ]
  },
  {
   "cell_type": "markdown",
   "metadata": {},
   "source": [
    "## Outliers\n",
    "\n",
    "- Definition"
   ]
  },
  {
   "cell_type": "markdown",
   "metadata": {},
   "source": [
    "Un outlier, ou valeur aberrante, est une valeur extrême, anormalement différente de la distribution d’une variable. En d’autres termes, la valeur de cette observation diffère grandement des autres valeurs de la même variable.\n",
    "\n",
    "Par exemple, si on prend la variable _Salaire_ de la population française, l’ensemble des valeurs constituent une distribution de la variable _Salaire_. Imaginons qu’en général, pour cette distribution, les salaires varient entre 1600€ et 3000 €. Si on observe un individu avec un salaire à 10 000€, c’est une valeur extrême. On dira qu’il s’agit d’un outlier.\n",
    "\n",
    "Dans le même sens, imaginons qu’une personne touche 200 € seulement, c’est un salaire anormalement bas. Il s’agit également d’une valeur aberrante."
   ]
  },
  {
   "cell_type": "markdown",
   "metadata": {},
   "source": [
    "## Centile\n",
    "\n",
    "- Definition\n",
    "- Exemple pratique"
   ]
  },
  {
   "cell_type": "markdown",
   "metadata": {},
   "source": [
    "Les centiles d'une variable sont les valeurs-seuils de cette variable qui, lorsque l'on ordonne la population selon les valeurs de la variable, la partitionnent en 100 sous-populations de taille égale. On les note souvent p01, p02,... p98, p99."
   ]
  },
  {
   "cell_type": "markdown",
   "metadata": {},
   "source": [
    "## Écart interquartile\n",
    "\n",
    "- Definition\n",
    "- Exemple pratique"
   ]
  },
  {
   "cell_type": "markdown",
   "metadata": {},
   "source": [
    "L'écart interquartile est une autre étendue utilisée comme mesure de la dispersion. La différence entre les quartiles supérieur et inférieur $Q3 - Q1$, qu'on appelle l'écart interquartile, indique aussi la dispersion d'un ensemble de données. L'écart interquartile couvre 50 % d'un ensemble de données et élimine l'influence des valeurs aberrantes.\n",
    "\n",
    "Écart interquartile = différence entre le quartile supérieur $Q3$ et le quartile inférieur $Q1$"
   ]
  },
  {
   "cell_type": "markdown",
   "metadata": {},
   "source": [
    "## La covariance\n",
    "\n",
    "- Definition\n",
    "- Exemple pratique"
   ]
  },
  {
   "cell_type": "markdown",
   "metadata": {},
   "source": [
    "Si la variance permet d’étudier les variations d’une variable par rapport à elle-même, la covariance permet, elle, d’étudier les variations simultanées de deux variables par rapport à leur moyenne respective.\n",
    "\n",
    "$$ Cov_{x,y}=\\frac{\\sum_{i=1}^{N}(x_{i}-\\bar{x})(y_{i}-\\bar{y})}{N-1} $$"
   ]
  },
  {
   "cell_type": "markdown",
   "metadata": {},
   "source": [
    "## Le coefficient de corrélation de pearson\n",
    "\n",
    "- Definition\n",
    "- Exemple pratique"
   ]
  },
  {
   "cell_type": "markdown",
   "metadata": {},
   "source": [
    "Cette statistique permet d'associer deux populations, en mesurant la corrélation linéaire entre deux variables X et Y."
   ]
  },
  {
   "cell_type": "markdown",
   "metadata": {},
   "source": [
    "$$ r = \\frac{ Cov_{x,y}}{ \\sigma_x \\sigma_y} $$"
   ]
  },
  {
   "cell_type": "markdown",
   "metadata": {},
   "source": [
    "## La boite à moustache\n",
    "\n",
    "- Definition\n",
    "- Exemple pratique"
   ]
  },
  {
   "cell_type": "markdown",
   "metadata": {},
   "source": [
    "![boite_moustache](https://mrmint.fr/wp-content/uploads/2017/11/box-plot-interpretation.png)"
   ]
  },
  {
   "cell_type": "markdown",
   "metadata": {},
   "source": [
    "$$ y = X. \\theta $$\n",
    "\n"
   ]
  },
  {
   "cell_type": "markdown",
   "metadata": {},
   "source": [
    "$$ J(\\theta) = \\frac{1}{2.m} \\displaystyle\\sum (X.\\theta - y)^2 $$"
   ]
  },
  {
   "cell_type": "markdown",
   "metadata": {},
   "source": [
    "$$ \\frac{\\partial J(\\theta)}{\\partial \\theta} = \\frac{1}{m} X^T(X.\\theta - y) $$"
   ]
  },
  {
   "cell_type": "markdown",
   "metadata": {},
   "source": [
    "$$ \\theta = \\theta - \\frac{\\partial J(\\theta)}{\\partial \\theta}  $$"
   ]
  },
  {
   "cell_type": "markdown",
   "metadata": {},
   "source": [
    "$$ y = a_1.x + a_0 $$"
   ]
  },
  {
   "cell_type": "markdown",
   "metadata": {},
   "source": [
    "$$ y = a_0 + a_1.x_1 + a_2.x_2 + ... + a_n.x_n $$"
   ]
  },
  {
   "cell_type": "markdown",
   "metadata": {},
   "source": [
    "$$ y = a_0 + a_1.x + a_2.x^2 + ...+ a_n.x^n $$"
   ]
  },
  {
   "cell_type": "markdown",
   "metadata": {},
   "source": [
    "$$ y = a.x^2 + b.x +c $$"
   ]
  },
  {
   "cell_type": "code",
   "execution_count": null,
   "metadata": {},
   "outputs": [],
   "source": []
  }
 ],
 "metadata": {
  "kernelspec": {
   "display_name": "Python 3",
   "language": "python",
   "name": "python3"
  },
  "language_info": {
   "codemirror_mode": {
    "name": "ipython",
    "version": 3
   },
   "file_extension": ".py",
   "mimetype": "text/x-python",
   "name": "python",
   "nbconvert_exporter": "python",
   "pygments_lexer": "ipython3",
   "version": "3.8.3"
  }
 },
 "nbformat": 4,
 "nbformat_minor": 4
}
