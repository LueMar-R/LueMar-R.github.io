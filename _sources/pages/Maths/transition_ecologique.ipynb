{
 "cells": [
  {
   "cell_type": "markdown",
   "metadata": {},
   "source": [
    "# Grand Débat National - La Transition Ecologique"
   ]
  },
  {
   "cell_type": "code",
   "execution_count": 2,
   "metadata": {},
   "outputs": [],
   "source": [
    "\n",
    "import pandas as pd\n",
    "import numpy as np\n",
    "import matplotlib.pyplot as plt"
   ]
  },
  {
   "cell_type": "code",
   "execution_count": 7,
   "metadata": {},
   "outputs": [
    {
     "data": {
      "text/html": [
       "<div>\n",
       "<style scoped>\n",
       "    .dataframe tbody tr th:only-of-type {\n",
       "        vertical-align: middle;\n",
       "    }\n",
       "\n",
       "    .dataframe tbody tr th {\n",
       "        vertical-align: top;\n",
       "    }\n",
       "\n",
       "    .dataframe thead th {\n",
       "        text-align: right;\n",
       "    }\n",
       "</style>\n",
       "<table border=\"1\" class=\"dataframe\">\n",
       "  <thead>\n",
       "    <tr style=\"text-align: right;\">\n",
       "      <th></th>\n",
       "      <th>ref</th>\n",
       "      <th>author_type</th>\n",
       "      <th>zip_code</th>\n",
       "      <th>vie_touchee_rechauf</th>\n",
       "      <th>contribuer_protec_env</th>\n",
       "      <th>existe_chauffage_alt</th>\n",
       "    </tr>\n",
       "  </thead>\n",
       "  <tbody>\n",
       "    <tr>\n",
       "      <th>0</th>\n",
       "      <td>4</td>\n",
       "      <td>Citoyen_Citoyenne</td>\n",
       "      <td>97231</td>\n",
       "      <td>NaN</td>\n",
       "      <td>NaN</td>\n",
       "      <td>NaN</td>\n",
       "    </tr>\n",
       "    <tr>\n",
       "      <th>1</th>\n",
       "      <td>5</td>\n",
       "      <td>Citoyen_Citoyenne</td>\n",
       "      <td>57000</td>\n",
       "      <td>NaN</td>\n",
       "      <td>NaN</td>\n",
       "      <td>NaN</td>\n",
       "    </tr>\n",
       "    <tr>\n",
       "      <th>2</th>\n",
       "      <td>6</td>\n",
       "      <td>Citoyen_Citoyenne</td>\n",
       "      <td>34140</td>\n",
       "      <td>Non</td>\n",
       "      <td>Non</td>\n",
       "      <td>Non</td>\n",
       "    </tr>\n",
       "    <tr>\n",
       "      <th>3</th>\n",
       "      <td>7</td>\n",
       "      <td>Citoyen_Citoyenne</td>\n",
       "      <td>17400</td>\n",
       "      <td>Non</td>\n",
       "      <td>Non</td>\n",
       "      <td>Non</td>\n",
       "    </tr>\n",
       "    <tr>\n",
       "      <th>4</th>\n",
       "      <td>8</td>\n",
       "      <td>Citoyen_Citoyenne</td>\n",
       "      <td>35430</td>\n",
       "      <td>Oui</td>\n",
       "      <td>Oui</td>\n",
       "      <td>Oui</td>\n",
       "    </tr>\n",
       "  </tbody>\n",
       "</table>\n",
       "</div>"
      ],
      "text/plain": [
       "   ref        author_type zip_code vie_touchee_rechauf contribuer_protec_env  \\\n",
       "0    4  Citoyen_Citoyenne    97231                 NaN                   NaN   \n",
       "1    5  Citoyen_Citoyenne    57000                 NaN                   NaN   \n",
       "2    6  Citoyen_Citoyenne    34140                 Non                   Non   \n",
       "3    7  Citoyen_Citoyenne    17400                 Non                   Non   \n",
       "4    8  Citoyen_Citoyenne    35430                 Oui                   Oui   \n",
       "\n",
       "  existe_chauffage_alt  \n",
       "0                  NaN  \n",
       "1                  NaN  \n",
       "2                  Non  \n",
       "3                  Non  \n",
       "4                  Oui  "
      ]
     },
     "execution_count": 7,
     "metadata": {},
     "output_type": "execute_result"
    }
   ],
   "source": [
    "df = pd.read_csv(\"transition_eco.csv\", sep = \",\")\n",
    "df.head(5)"
   ]
  },
  {
   "cell_type": "code",
   "execution_count": 8,
   "metadata": {},
   "outputs": [
    {
     "data": {
      "text/plain": [
       "(87562, 6)"
      ]
     },
     "execution_count": 8,
     "metadata": {},
     "output_type": "execute_result"
    }
   ],
   "source": [
    "df.shape"
   ]
  },
  {
   "cell_type": "code",
   "execution_count": 4,
   "metadata": {
    "scrolled": false
   },
   "outputs": [
    {
     "data": {
      "text/plain": [
       "ref                          0\n",
       "author_type              15456\n",
       "zip_code                     0\n",
       "vie_touchee_rechauf       8279\n",
       "contribuer_protec_env     8311\n",
       "existe_chauffage_alt     12220\n",
       "dtype: int64"
      ]
     },
     "execution_count": 4,
     "metadata": {},
     "output_type": "execute_result"
    }
   ],
   "source": [
    "df.isnull().sum()"
   ]
  },
  {
   "cell_type": "code",
   "execution_count": 17,
   "metadata": {},
   "outputs": [
    {
     "name": "stdout",
     "output_type": "stream",
     "text": [
      "Oui    0.66467\n",
      "Non    0.33533\n",
      "Name: vie_touchee_rechauf, dtype: float64\n",
      "Oui    0.943849\n",
      "Non    0.056151\n",
      "Name: contribuer_protec_env, dtype: float64\n",
      "Oui    0.598444\n",
      "Non    0.401556\n",
      "Name: existe_chauffage_alt, dtype: float64\n"
     ]
    }
   ],
   "source": [
    "vie = df.vie_touchee_rechauf.value_counts(normalize = True)\n",
    "protec = df.contribuer_protec_env.value_counts(normalize = True)\n",
    "chauf = df.existe_chauffage_alt.value_counts(normalize = True)\n",
    "\n",
    "print(vie)\n",
    "print(protec)\n",
    "print(chauf)"
   ]
  },
  {
   "cell_type": "code",
   "execution_count": null,
   "metadata": {},
   "outputs": [],
   "source": []
  }
 ],
 "metadata": {
  "kernelspec": {
   "display_name": "Python 3",
   "language": "python",
   "name": "python3"
  },
  "language_info": {
   "codemirror_mode": {
    "name": "ipython",
    "version": 3
   },
   "file_extension": ".py",
   "mimetype": "text/x-python",
   "name": "python",
   "nbconvert_exporter": "python",
   "pygments_lexer": "ipython3",
   "version": "3.6.12"
  }
 },
 "nbformat": 4,
 "nbformat_minor": 4
}
