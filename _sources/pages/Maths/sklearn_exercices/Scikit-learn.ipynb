{
 "cells": [
  {
   "cell_type": "markdown",
   "metadata": {},
   "source": [
    "![Scikitlearn](https://upload.wikimedia.org/wikipedia/commons/0/05/Scikit_learn_logo_small.svg)"
   ]
  },
  {
   "cell_type": "markdown",
   "metadata": {},
   "source": [
    "## SimpleImputer"
   ]
  },
  {
   "cell_type": "code",
   "execution_count": 12,
   "metadata": {},
   "outputs": [
    {
     "name": "stdout",
     "output_type": "stream",
     "text": [
      "(19, 10)\n"
     ]
    }
   ],
   "source": [
    "import pandas as pd\n",
    "import numpy as np\n",
    "from sklearn.impute import SimpleImputer\n",
    "from sklearn.preprocessing import LabelEncoder, OneHotEncoder\n",
    "from sklearn.model_selection import train_test_split\n",
    "from sklearn.preprocessing import StandardScaler\n",
    "\n",
    "dtst=pd.read_csv('credit_immo.csv')\n",
    "print(dtst.shape)\n",
    "dtst_describe=dtst.describe()\n",
    "#Affiche le nom des colonnes\n",
    "dtst_col=dtst.columns\n",
    "\n"
   ]
  },
  {
   "cell_type": "code",
   "execution_count": 6,
   "metadata": {},
   "outputs": [
    {
     "name": "stdout",
     "output_type": "stream",
     "text": [
      "[[3.0]\n",
      " [5.0]\n",
      " [0.0]\n",
      " [4.0]\n",
      " [0.0]\n",
      " [0.0]\n",
      " [-1.0]\n",
      " [-3.0]\n",
      " [nan]\n",
      " [3.0]\n",
      " [2.0]\n",
      " [0.0]\n",
      " [-3.0]\n",
      " [0.0]\n",
      " [1.0]\n",
      " [0.0]\n",
      " [8.0]\n",
      " [3.0]\n",
      " [4.0]]\n"
     ]
    }
   ],
   "source": [
    "'''Définition des colonnes formant les entrées et les sorties'''\n",
    "\n",
    "#Les entrées ne prennent pas en compte la solvabilité et les noms\n",
    "X=dtst.iloc[:,-9:-1].values\n",
    "#La sortie correspond à la solvabilité des clients\n",
    "Y=dtst.iloc[:,-1].values\n",
    "\n",
    "print(X[:,0:1])"
   ]
  },
  {
   "cell_type": "code",
   "execution_count": 8,
   "metadata": {},
   "outputs": [
    {
     "name": "stdout",
     "output_type": "stream",
     "text": [
      "[[3.0]\n",
      " [5.0]\n",
      " [0.0]\n",
      " [4.0]\n",
      " [0.0]\n",
      " [0.0]\n",
      " [-1.0]\n",
      " [-3.0]\n",
      " [1.4444444444444444]\n",
      " [3.0]\n",
      " [2.0]\n",
      " [0.0]\n",
      " [-3.0]\n",
      " [0.0]\n",
      " [1.0]\n",
      " [0.0]\n",
      " [8.0]\n",
      " [3.0]\n",
      " [4.0]]\n"
     ]
    }
   ],
   "source": [
    "'''Transformation des valeurs manquantes (nan) en moyenne'''\n",
    "\n",
    "imptr=SimpleImputer(missing_values=np.nan, strategy='mean')\n",
    "\n",
    "#Adapter le model aux données\n",
    "imptr.fit(X[:,0:1])\n",
    "\n",
    "\n",
    "#Adapter le model aux données\n",
    "\n",
    "X[:,0:1] = imptr.transform(X[:,0:1])\n",
    "\n",
    "print(X[:,0:1])\n"
   ]
  },
  {
   "cell_type": "markdown",
   "metadata": {},
   "source": [
    "## LabelEncoder"
   ]
  },
  {
   "cell_type": "code",
   "execution_count": 9,
   "metadata": {},
   "outputs": [
    {
     "name": "stdout",
     "output_type": "stream",
     "text": [
      "['CDI' 'CDI' 'CDI' 'CDD' 'CDD' 'INTERIM' 'CDI' 'INTERIM' 'CDI' 'CDI' 'CDI'\n",
      " 'CDD' 'INTERIM' 'CDI' 'CDD' 'ENTRPRENEUR' 'CDI' 'CDI' 'CDI']\n",
      "***************\n",
      "[1 1 1 0 0 3 1 3 1 1 1 0 3 1 0 2 1 1 1]\n"
     ]
    }
   ],
   "source": [
    "##Méthode 1 avec LabelEncoder\n",
    "\n",
    "LabEnc_X = LabelEncoder()\n",
    "\n",
    "print(X[:,2])\n",
    "#Encodage de la colonne 2 du tableau qui est catégorielle --> 3 catégorie donc 1, 2 et 3\n",
    "X[:,2]=LabEnc_X.fit_transform(X[:,2])\n",
    "print(\"***************\")\n",
    "print(X[:,2])\n"
   ]
  },
  {
   "cell_type": "markdown",
   "metadata": {},
   "source": [
    "## StandardScaler"
   ]
  },
  {
   "cell_type": "code",
   "execution_count": 14,
   "metadata": {},
   "outputs": [
    {
     "name": "stdout",
     "output_type": "stream",
     "text": [
      "(1599, 10)\n",
      "(1599, 1)\n",
      "[[ 0.47   0.43   2.1   ...  3.17   0.76  10.8  ]\n",
      " [ 0.82   0.     4.1   ...  3.36   0.53   9.6  ]\n",
      " [ 0.29   0.33   2.05  ...  3.26   0.84  11.7  ]\n",
      " ...\n",
      " [ 0.34   0.42   1.8   ...  3.18   0.55  11.4  ]\n",
      " [ 0.765  0.04   1.6   ...  3.29   0.54   9.7  ]\n",
      " [ 0.32   0.42   2.3   ...  3.27   0.55  12.3  ]]\n",
      "=====================================\n",
      "[[-0.29922497  0.8557103  -0.31177699 ... -0.93785052  0.72205872\n",
      "   0.31519731]\n",
      " [ 1.83333604 -1.39006001  1.32310441 ...  0.28055357 -0.85116573\n",
      "  -0.79369656]\n",
      " [-1.39597062  0.33343814 -0.35264903 ... -0.36071174  1.26926723\n",
      "   1.14686771]\n",
      " ...\n",
      " [-1.09131905  0.80348308 -0.5570092  ... -0.87372399 -0.7143636\n",
      "   0.86964424]\n",
      " [ 1.49821931 -1.18115114 -0.72049734 ... -0.16833214 -0.78276467\n",
      "  -0.70128874]\n",
      " [-1.21317968  0.80348308 -0.14828885 ... -0.29658521 -0.7143636\n",
      "   1.70131464]]\n"
     ]
    }
   ],
   "source": [
    "#Récupération des données\n",
    "dataset_vin = pd.read_csv('qualite-vin-rouge.csv',',')\n",
    "#Récupération des valeurs d'entrées et de sortie\n",
    "X_vin = dataset_vin.iloc[:,-11:-1].values\n",
    "print(X_vin.shape)\n",
    "Y_vin = dataset_vin.iloc[:,-1].values.reshape(-1,1)\n",
    "print(Y_vin.shape)\n",
    "\n",
    "#Séparation en 2 jeux de données\n",
    "X_vin_train, X_vin_test, Y_vin_train, Y_vin_test = train_test_split(X_vin, Y_vin, test_size=0.2, random_state=0)\n",
    "\n",
    "#Normalisation des valeurs de X\n",
    "scaler = StandardScaler()\n",
    "\n",
    "print(X_vin_test)\n",
    "\n",
    "\n",
    "X_vin_test = scaler.fit_transform(X_vin_test)\n",
    "print(\"=====================================\")\n",
    "print(X_vin_test)\n"
   ]
  },
  {
   "cell_type": "code",
   "execution_count": null,
   "metadata": {},
   "outputs": [],
   "source": []
  }
 ],
 "metadata": {
  "kernelspec": {
   "display_name": "Python 3",
   "language": "python",
   "name": "python3"
  },
  "language_info": {
   "codemirror_mode": {
    "name": "ipython",
    "version": 3
   },
   "file_extension": ".py",
   "mimetype": "text/x-python",
   "name": "python",
   "nbconvert_exporter": "python",
   "pygments_lexer": "ipython3",
   "version": "3.8.3"
  }
 },
 "nbformat": 4,
 "nbformat_minor": 4
}
