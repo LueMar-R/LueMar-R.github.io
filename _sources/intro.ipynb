{
 "cells": [
  {
   "cell_type": "markdown",
   "metadata": {},
   "source": [
    "\n"
   ]
  },
  {
   "cell_type": "markdown",
   "metadata": {},
   "source": [
    " \n",
    " \n",
    " \n",
    "                ╔═══╗     ╔╗                 ╔╗╔╗                         ╔╗                        \n",
    "                ║╔═╗║     ║║                 ║║║║                        ╔╝╚╗                       \n",
    "                ║║ ╚╝╔══╗ ║╚═╗╔╗╔══╗╔═╗    ╔═╝║╚╝╔══╗ ╔══╗╔══╗╔═╗╔══╗╔═╗ ╚╗╔╝╔╗╔══╗╔══╗╔══╗ ╔══╗╔══╗\n",
    "                ║║ ╔╗╚ ╗║ ║╔╗║╠╣║╔╗║║╔╝    ║╔╗║  ╚ ╗║ ║╔╗║║╔╗║║╔╝║╔╗║║╔╗╗ ║║ ╠╣║══╣║══╣╚ ╗║ ║╔╗║║╔╗║\n",
    "                ║╚═╝║║╚╝╚╗║║║║║║║║═╣║║     ║╚╝║  ║╚╝╚╗║╚╝║║╚╝║║║ ║║═╣║║║║ ║╚╗║║╠══║╠══║║╚╝╚╗║╚╝║║║═╣\n",
    "                ╚═══╝╚═══╝╚╝╚╝╚╝╚══╝╚╝     ╚══╝  ╚═══╝║╔═╝║╔═╝╚╝ ╚══╝╚╝╚╝ ╚═╝╚╝╚══╝╚══╝╚═══╝╚═╗║╚══╝\n",
    "                                                      ║║  ║║                                ╔═╝║  \n",
    "                                                      ╚╝  ╚╝                                ╚══╝    \n",
    "\n"
   ]
  },
  {
   "cell_type": "markdown",
   "metadata": {},
   "source": [
    "#  \n",
    "\n",
    "<hr/>\n",
    "\n",
    "<hr/>"
   ]
  },
  {
   "cell_type": "markdown",
   "metadata": {},
   "source": [
    "<p style=\"text-align:center ; font-size:40px;\">\n",
    "  Cahier d'apprentissage\n",
    "<p>"
   ]
  },
  {
   "cell_type": "markdown",
   "metadata": {},
   "source": [
    "<hr/>\n",
    "\n",
    "<hr/>"
   ]
  },
  {
   "cell_type": "markdown",
   "metadata": {},
   "source": [
    "![image-d-accueil](./images/accueil.png)"
   ]
  },
  {
   "cell_type": "markdown",
   "metadata": {},
   "source": [
    "<p style=\"text-align:center ; font-size:28px;\"><br><i><q style=\"color:#121212;\">C'est ce que nous pensons <br>déjà connaître<br> qui nous empêche <br>souvent d'apprendre. </q></i> <br> <br> \n",
    "    <p style=\"text-align:center ; font-size:20px;\">Gaston Bachelard<br> <br>\n",
    "    "
   ]
  },
  {
   "cell_type": "markdown",
   "metadata": {},
   "source": [
    "<hr/>"
   ]
  },
  {
   "cell_type": "markdown",
   "metadata": {},
   "source": [
    "### Table des matières\n",
    "\n",
    "* [Objectifs du cahier d'apprentissage](#chap1)\n",
    "* [Utilisation du cahier](#chap2)\n",
    "* [Les fiches-mémoire](#chap3)\n",
    "    * [Section 2.1](#section_2_1)\n",
    "    * [Section 2.2](#section_2_2)"
   ]
  },
  {
   "cell_type": "markdown",
   "metadata": {},
   "source": [
    "## Objectifs du cahier d'apprentissage <a class=\"anchor\" id=\"chap1\"></a>\n",
    "\n",
    "En apprentissage, la connaissance des objectifs de la tâche (ou du cours) joue un rôle central lors de la régulation que l’apprennant exerce et ce, à divers degrés et de différentes façons. Il est donc essentiel que l’étudiant apprenne à développer ses savoirs à propos des objectifs de la formation globalement, mais aussi de chaque cours individuellement. L’apprenant doit ensuite comparer ses connaissances acquises avec les objectifs et effectuer la régulation nécessaire s’il y a divergence.\n"
   ]
  },
  {
   "cell_type": "markdown",
   "metadata": {},
   "source": [
    "## Utilisation du cahier <a class=\"anchor\" id=\"chap2\"></a>\n",
    "\n",
    "Cette page de garde contient les liens vers les différentes fiches-mémoire, correspondant chacune à un grand thème du la formation.<br>\n",
    "Chaque fiche-mémoire "
   ]
  },
  {
   "cell_type": "markdown",
   "metadata": {},
   "source": [
    "## Les Fiches <a class=\"anchor\" id=\"chap3\"></a>"
   ]
  },
  {
   "cell_type": "markdown",
   "metadata": {},
   "source": [
    "### Notebooks et Markdown\n",
    "[Fiche d'apprentissage : Notebooks et Markdown](.\\pages\\notebook_et_markdown.ipynb)"
   ]
  },
  {
   "cell_type": "code",
   "execution_count": null,
   "metadata": {},
   "outputs": [],
   "source": []
  }
 ],
 "metadata": {
  "kernelspec": {
   "display_name": "Python 3",
   "language": "python",
   "name": "python3"
  },
  "language_info": {
   "codemirror_mode": {
    "name": "ipython",
    "version": 3
   },
   "file_extension": ".py",
   "mimetype": "text/x-python",
   "name": "python",
   "nbconvert_exporter": "python",
   "pygments_lexer": "ipython3",
   "version": "3.8.3"
  }
 },
 "nbformat": 4,
 "nbformat_minor": 2
}
